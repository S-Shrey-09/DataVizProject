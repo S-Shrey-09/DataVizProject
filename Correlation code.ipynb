{
 "cells": [
  {
   "cell_type": "code",
   "execution_count": 27,
   "id": "07b05ff4-8135-4fc5-b673-4e3a231d9bf5",
   "metadata": {},
   "outputs": [],
   "source": [
    "import matplotlib.pyplot as plt\n",
    "import pandas as pd\n",
    "import numpy as np\n",
    "from mpl_toolkits.mplot3d import Axes3D\n",
    "from scipy.stats import spearmanr\n",
    "import seaborn as sns"
   ]
  },
  {
   "cell_type": "code",
   "execution_count": 28,
   "id": "7a5c2d43-c5b8-4cc4-bde1-ab16e7d7880e",
   "metadata": {},
   "outputs": [
    {
     "name": "stdout",
     "output_type": "stream",
     "text": [
      "                gni  renewable\n",
      "gni        1.000000   0.876692\n",
      "renewable  0.876692   1.000000\n",
      "                gni  renewable\n",
      "gni        1.000000   0.802386\n",
      "renewable  0.802386   1.000000\n"
     ]
    },
    {
     "name": "stderr",
     "output_type": "stream",
     "text": [
      "C:\\Users\\swast\\AppData\\Local\\Temp/ipykernel_12140/3013685460.py:6: FutureWarning: Dropping of nuisance columns in DataFrame reductions (with 'numeric_only=None') is deprecated; in a future version this will raise TypeError.  Select only valid columns before calling the reduction.\n",
      "  med_year_renewable = nrg.median(axis=0)\n",
      "C:\\Users\\swast\\AppData\\Local\\Temp/ipykernel_12140/3013685460.py:7: FutureWarning: Dropping of nuisance columns in DataFrame reductions (with 'numeric_only=None') is deprecated; in a future version this will raise TypeError.  Select only valid columns before calling the reduction.\n",
      "  med_year_gni = gni.median(axis=0)\n"
     ]
    }
   ],
   "source": [
    "gni = pd.read_csv('https://raw.githubusercontent.com/S-Shrey-09/DataVizProject/main/Selected-organised%20Data%20for%20plotting/GNIdataPlot.csv')\n",
    "nrg = pd.read_csv('https://raw.githubusercontent.com/S-Shrey-09/DataVizProject/main/Selected-organised%20Data%20for%20plotting/Renewables%20per%20capita%20dataplot.csv')\n",
    "\n",
    "#organising data to find correlation between medians of years\n",
    "#finding median value of years  1999 to 2019 for all all countries \n",
    "med_year_renewable = nrg.median(axis=0)\n",
    "med_year_gni = gni.median(axis=0)\n",
    "\n",
    "#finding base rate percent of median data from year 2000 to 2019\n",
    "renewable_base_rates=[((med_year_renewable[i+2]-med_year_renewable[1])/med_year_renewable[1])*100 for i in range(0,20)]\n",
    "gni_base_rates=[((med_year_gni[i+2]-med_year_gni[1])/med_year_gni[1])*100 for i in range(0,20)]\n",
    "\n",
    "# creating a dataframe with base rate values \n",
    "df_median_data=pd.DataFrame({\"gni\":gni_base_rates,\"renewable\":renewable_base_rates})\n",
    "\n",
    "#finding corelation btw gni and renewable base rates using spearman & pearson method\n",
    "print(df_median_data.corr(method='spearman'))\n",
    "print(df_median_data.corr(method='pearson'))"
   ]
  },
  {
   "cell_type": "code",
   "execution_count": 29,
   "id": "89f90e20-cb7c-41aa-8446-eff42cd20e62",
   "metadata": {},
   "outputs": [],
   "source": [
    "#for making a new total_change column \n",
    "gni.drop(gni.index[10])\n",
    "gni=gni.reset_index(drop=True)\n",
    "total_change_list = [((gni.iloc[i,22]-gni.iloc[i,2])/gni.iloc[i,2]) for i in range(0,25)]\n",
    "gni['total_change'] = total_change_list\n",
    "\n",
    "nrg.drop(gni.index[10])\n",
    "nrg=nrg.reset_index(drop=True)\n",
    "total_change_list = [((nrg.iloc[i,22]-nrg.iloc[i,2])/nrg.iloc[i,2]) for i in range(0,25)]\n",
    "nrg['total_change'] = total_change_list\n",
    "\n",
    "#print(nrg)\n",
    "#print(gni)\n",
    "\n",
    "gni.to_csv('GNI_W_Change.csv', index=False)\n",
    "nrg.to_csv('Renewable_W_Change.csv', index=False)"
   ]
  },
  {
   "cell_type": "code",
   "execution_count": 30,
   "id": "11e003f9-3abf-4a4e-b64c-86495702447f",
   "metadata": {},
   "outputs": [],
   "source": [
    "#importing new data with total_change column\n",
    "gni = pd.read_csv('https://raw.githubusercontent.com/S-Shrey-09/DataVizProject/main/Data%20with%20total_change/GNI_W_Change.csv')\n",
    "nrg = pd.read_csv('https://raw.githubusercontent.com/S-Shrey-09/DataVizProject/main/Data%20with%20total_change/Renewable_W_Change.csv')"
   ]
  },
  {
   "cell_type": "code",
   "execution_count": 31,
   "id": "501b60f4-9f21-42aa-9476-f5a0a9dc2a3b",
   "metadata": {},
   "outputs": [
    {
     "name": "stdout",
     "output_type": "stream",
     "text": [
      "              total_change  total_change\n",
      "total_change      1.000000      0.316191\n",
      "total_change      0.316191      1.000000\n"
     ]
    }
   ],
   "source": [
    "#organising data to find correlation between medians of countries\n",
    "#making total change seperate columns \n",
    "total_gni_inc = gni['total_change']\n",
    "total_nrg_inc = nrg['total_change']\n",
    "\n",
    "#making a combined matrix with concat\n",
    "total_inc = pd.concat([total_gni_inc, total_nrg_inc], axis=1)\n",
    "\n",
    "#spearman and pearson correlations on combined lists\n",
    "pe_inc = total_inc.corr(method='pearson')\n",
    "\n",
    "print(pe_inc)"
   ]
  },
  {
   "cell_type": "code",
   "execution_count": 32,
   "id": "570735ed-30bd-4c53-af91-44ebc928d27f",
   "metadata": {},
   "outputs": [
    {
     "name": "stdout",
     "output_type": "stream",
     "text": [
      "              total_change  total_change\n",
      "total_change      1.000000      0.551395\n",
      "total_change      0.551395      1.000000\n",
      "              total_change  total_change\n",
      "total_change      1.000000      0.308552\n",
      "total_change      0.308552      1.000000\n"
     ]
    }
   ],
   "source": [
    "#organising data to find correlation between rich and poor countries\n",
    "gni_u = gni.loc[gni['2019']>11250]\n",
    "gni_l = gni.loc[gni['2019']<11250]\n",
    "nrg_u = nrg.loc[gni['2019']>11250]\n",
    "nrg_l = nrg.loc[gni['2019']<11250]\n",
    "\n",
    "#total gni inc of rich and poor countries seperate\n",
    "total_gni_inc_u = gni_u['total_change']\n",
    "total_gni_inc_l = gni_l['total_change']\n",
    "\n",
    "#total renewable inc of rich and poor countries seperate\n",
    "total_nrg_inc_u = nrg_u['total_change']\n",
    "total_nrg_inc_l = nrg_l['total_change']\n",
    "\n",
    "#combining gni and nrg \n",
    "total_inc_u = pd.concat([total_gni_inc_u, total_nrg_inc_u], axis=1)\n",
    "total_inc_l = pd.concat([total_gni_inc_l, total_nrg_inc_l], axis=1)\n",
    "\n",
    "#pearson corr\n",
    "pe_inc_u = total_inc_u.corr(method='pearson')\n",
    "pe_inc_l = total_inc_l.corr(method='pearson')\n",
    "print(pe_inc_u)\n",
    "print(pe_inc_l)"
   ]
  },
  {
   "cell_type": "code",
   "execution_count": 33,
   "id": "243f86ef-3461-49b5-8588-f6f64c53736c",
   "metadata": {},
   "outputs": [
    {
     "name": "stdout",
     "output_type": "stream",
     "text": [
      "    total_change  total_change\n",
      "0       1.620915      1.425383\n",
      "1       0.484169      0.404611\n",
      "2       1.561101      1.339280\n",
      "3       3.595238      0.032462\n",
      "4       1.194719      0.382155\n",
      "5       1.250000     -0.101409\n",
      "6      10.988372      7.036468\n",
      "7       0.919540      3.425283\n",
      "8       1.053435     -0.114920\n",
      "9       0.672305      0.337705\n",
      "10           NaN      2.072573\n",
      "11      6.105263      1.921325\n",
      "12      3.818182      1.357947\n",
      "13      1.091954      2.971315\n",
      "14      0.233392      0.736225\n",
      "15      0.656062      2.964333\n",
      "16      1.269504      5.359438\n",
      "17      0.718693      0.097795\n",
      "18      1.297130     -0.201122\n",
      "19      1.850399     -0.014088\n",
      "20      2.344828      0.734464\n",
      "21      2.459459     10.443293\n",
      "22      0.959311      0.743194\n",
      "23      1.166036      0.836480\n",
      "24      0.916667      8.790696\n"
     ]
    }
   ],
   "source": [
    "#printing total_inc to see which countries cause data to give bad correlation\n",
    "print(total_inc)"
   ]
  },
  {
   "cell_type": "code",
   "execution_count": 34,
   "id": "0d4d5330-a519-47ac-8ddc-f44a6d640d08",
   "metadata": {},
   "outputs": [
    {
     "name": "stdout",
     "output_type": "stream",
     "text": [
      "              total_change  total_change\n",
      "total_change      1.000000      0.995411\n",
      "total_change      0.995411      1.000000\n",
      "              total_change  total_change\n",
      "total_change      1.000000     -0.091691\n",
      "total_change     -0.091691      1.000000\n",
      "              total_change  total_change\n",
      "total_change      1.000000      0.904762\n",
      "total_change      0.904762      1.000000\n",
      "              total_change  total_change\n",
      "total_change      1.000000      0.071429\n",
      "total_change      0.071429      1.000000\n"
     ]
    }
   ],
   "source": [
    "#selecting countries with good and bad correlation based on the above list\n",
    "gni_g = gni.iloc[[0,1,2,6,23,22,9,14]]\n",
    "gni_b = gni.iloc[[24,21,18,4,8,3,11]]\n",
    "nrg_g = nrg.iloc[[0,1,2,6,23,22,9,14]]\n",
    "nrg_b = nrg.iloc[[24,21,18,4,8,3,11]]\n",
    "\n",
    "\n",
    "#total gni inc of good and bad corr countries seperate\n",
    "total_gni_inc_g = gni_g['total_change']\n",
    "total_gni_inc_b = gni_b['total_change']\n",
    "\n",
    "#total renewable inc of good and bad corr countries seperate\n",
    "total_nrg_inc_g = nrg_g['total_change']\n",
    "total_nrg_inc_b = nrg_b['total_change']\n",
    "\n",
    "#combining gni and nrg \n",
    "total_inc_g = pd.concat([total_gni_inc_g, total_nrg_inc_g], axis=1)\n",
    "total_inc_b = pd.concat([total_gni_inc_b, total_nrg_inc_b], axis=1)\n",
    "\n",
    "#pearson corr\n",
    "pe_inc_g = total_inc_g.corr(method='pearson')\n",
    "pe_inc_b = total_inc_b.corr(method='pearson')\n",
    "print(pe_inc_g)\n",
    "print(pe_inc_b)\n",
    "\n",
    "#spearman corr\n",
    "sp_inc_g = total_inc_g.corr(method='spearman')\n",
    "sp_inc_b = total_inc_b.corr(method='spearman')\n",
    "print(sp_inc_g)\n",
    "print(sp_inc_b)"
   ]
  },
  {
   "cell_type": "code",
   "execution_count": 35,
   "id": "0c0d78bc-0172-4943-a3ba-87a4744ea288",
   "metadata": {},
   "outputs": [
    {
     "name": "stdout",
     "output_type": "stream",
     "text": [
      "        Good_corr          Bad_corr\n",
      "0         Algeria                 -\n",
      "1       Argentina                 -\n",
      "2       Australia                 -\n",
      "3               -        Bangladesh\n",
      "4               -            Canada\n",
      "6           China                 -\n",
      "8               -  Egypt, Arab Rep.\n",
      "9          France                 -\n",
      "11              -         Indonesia\n",
      "14          Japan                 -\n",
      "18              -            Norway\n",
      "21              -            Poland\n",
      "22  United States                 -\n",
      "23          World                 -\n",
      "24              -      South Africa\n"
     ]
    }
   ],
   "source": [
    "#final list of countries that support and oppose hypothesis \n",
    "seperate_countries_list = pd.DataFrame({\"Good_corr\":gni_g['Country Name'], \"Bad_corr\":gni_b['Country Name']})\n",
    "print(seperate_countries_list.fillna('-'))"
   ]
  },
  {
   "cell_type": "code",
   "execution_count": null,
   "id": "d0c5065e-8ceb-498e-ab08-b6c7e6b250a9",
   "metadata": {},
   "outputs": [],
   "source": []
  },
  {
   "cell_type": "code",
   "execution_count": null,
   "id": "7f3bafbd-551a-4f4b-a0bd-6dbf72ccaea4",
   "metadata": {},
   "outputs": [],
   "source": []
  }
 ],
 "metadata": {
  "kernelspec": {
   "display_name": "Python 3 (ipykernel)",
   "language": "python",
   "name": "python3"
  },
  "language_info": {
   "codemirror_mode": {
    "name": "ipython",
    "version": 3
   },
   "file_extension": ".py",
   "mimetype": "text/x-python",
   "name": "python",
   "nbconvert_exporter": "python",
   "pygments_lexer": "ipython3",
   "version": "3.9.7"
  }
 },
 "nbformat": 4,
 "nbformat_minor": 5
}
