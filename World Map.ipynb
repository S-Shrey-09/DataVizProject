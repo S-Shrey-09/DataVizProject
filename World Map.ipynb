{
 "cells": [
  {
   "cell_type": "code",
   "execution_count": 14,
   "id": "f5198350",
   "metadata": {},
   "outputs": [
    {
     "data": {
      "application/vnd.plotly.v1+json": {
       "config": {
        "plotlyServerURL": "https://plot.ly"
       },
       "data": [
        {
         "coloraxis": "coloraxis",
         "customdata": [
          [
           "Algeria",
           0.018414
          ],
          [
           "Argentina",
           2.073058
          ],
          [
           "Australia",
           2.587144
          ],
          [
           "Bangladesh",
           0.018483
          ],
          [
           "Brazil",
           5.317034
          ],
          [
           "China",
           0.432628
          ],
          [
           "Denmark",
           2.285739
          ],
          [
           "Egypt",
           0.55347
          ],
          [
           "France",
           3.620868
          ],
          [
           "Greece",
           1.19771
          ],
          [
           "India",
           0.228492
          ],
          [
           "Indonesia",
           0.190682
          ],
          [
           "Iran",
           0.221962
          ],
          [
           "Japan",
           2.193261
          ],
          [
           "Luxembourg",
           0.785319
          ],
          [
           "Mexico",
           1.105479
          ],
          [
           "Morocco",
           0.080534
          ],
          [
           "Peru",
           1.563708
          ],
          [
           "Poland",
           0.169398
          ],
          [
           "South Africa",
           0.057825
          ],
          [
           "United States",
           3.993018
          ],
          [
           "World",
           1.306271
          ]
         ],
         "geo": "geo",
         "hovertemplate": "Year=1999<br>Code=%{location}<br>Country Name=%{customdata[0]}<br>Renewables per capita (kWh)=%{z}<extra></extra>",
         "locations": [
          "DZA",
          "ARG",
          "AUS",
          "BGD",
          "BRA",
          "CHN",
          "DNK",
          "EGY",
          "FRA",
          "GRC",
          "IND",
          "IDN",
          "IRN",
          "JPN",
          "LUX",
          "MEX",
          "MAR",
          "PER",
          "POL",
          "ZAF",
          "USA",
          "OWID_WRL"
         ],
         "name": "",
         "type": "choropleth",
         "z": [
          0.018414,
          2.073058,
          2.587144,
          0.018483,
          5.317034,
          0.432628,
          2.285739,
          0.55347,
          3.620868,
          1.19771,
          0.228492,
          0.190682,
          0.221962,
          2.193261,
          0.785319,
          1.105479,
          0.080534,
          1.563708,
          0.169398,
          0.057825,
          3.993018,
          1.306271
         ]
        }
       ],
       "frames": [
        {
         "data": [
          {
           "coloraxis": "coloraxis",
           "customdata": [
            [
             "Algeria",
             0.018414
            ],
            [
             "Argentina",
             2.073058
            ],
            [
             "Australia",
             2.587144
            ],
            [
             "Bangladesh",
             0.018483
            ],
            [
             "Brazil",
             5.317034
            ],
            [
             "China",
             0.432628
            ],
            [
             "Denmark",
             2.285739
            ],
            [
             "Egypt",
             0.55347
            ],
            [
             "France",
             3.620868
            ],
            [
             "Greece",
             1.19771
            ],
            [
             "India",
             0.228492
            ],
            [
             "Indonesia",
             0.190682
            ],
            [
             "Iran",
             0.221962
            ],
            [
             "Japan",
             2.193261
            ],
            [
             "Luxembourg",
             0.785319
            ],
            [
             "Mexico",
             1.105479
            ],
            [
             "Morocco",
             0.080534
            ],
            [
             "Peru",
             1.563708
            ],
            [
             "Poland",
             0.169398
            ],
            [
             "South Africa",
             0.057825
            ],
            [
             "United States",
             3.993018
            ],
            [
             "World",
             1.306271
            ]
           ],
           "geo": "geo",
           "hovertemplate": "Year=1999<br>Code=%{location}<br>Country Name=%{customdata[0]}<br>Renewables per capita (kWh)=%{z}<extra></extra>",
           "locations": [
            "DZA",
            "ARG",
            "AUS",
            "BGD",
            "BRA",
            "CHN",
            "DNK",
            "EGY",
            "FRA",
            "GRC",
            "IND",
            "IDN",
            "IRN",
            "JPN",
            "LUX",
            "MEX",
            "MAR",
            "PER",
            "POL",
            "ZAF",
            "USA",
            "OWID_WRL"
           ],
           "name": "",
           "type": "choropleth",
           "z": [
            0.018414,
            2.073058,
            2.587144,
            0.018483,
            5.317034,
            0.432628,
            2.285739,
            0.55347,
            3.620868,
            1.19771,
            0.228492,
            0.190682,
            0.221962,
            2.193261,
            0.785319,
            1.105479,
            0.080534,
            1.563708,
            0.169398,
            0.057825,
            3.993018,
            1.306271
           ]
          }
         ],
         "name": "1999"
        },
        {
         "data": [
          {
           "coloraxis": "coloraxis",
           "customdata": [
            [
             "Algeria",
             0.004832
            ],
            [
             "Argentina",
             2.6175230000000003
            ],
            [
             "Australia",
             2.565069
            ],
            [
             "Bangladesh",
             0.016298
            ],
            [
             "Brazil",
             5.349714
            ],
            [
             "China",
             0.485493
            ],
            [
             "Denmark",
             2.898027
            ],
            [
             "Egypt",
             0.575423
            ],
            [
             "France",
             3.329194
            ],
            [
             "Greece",
             1.038722
            ],
            [
             "India",
             0.211294
            ],
            [
             "Indonesia",
             0.1955269999999999
            ],
            [
             "Iran",
             0.161592
            ],
            [
             "Japan",
             2.200724
            ],
            [
             "Luxembourg",
             1.08715
            ],
            [
             "Mexico",
             1.10829
            ],
            [
             "Morocco",
             0.07544
            ],
            [
             "Peru",
             1.714843
            ],
            [
             "Poland",
             0.168005
            ],
            [
             "South Africa",
             0.098082
            ],
            [
             "United States",
             3.545591
            ],
            [
             "World",
             1.3184380000000002
            ]
           ],
           "geo": "geo",
           "hovertemplate": "Year=2000<br>Code=%{location}<br>Country Name=%{customdata[0]}<br>Renewables per capita (kWh)=%{z}<extra></extra>",
           "locations": [
            "DZA",
            "ARG",
            "AUS",
            "BGD",
            "BRA",
            "CHN",
            "DNK",
            "EGY",
            "FRA",
            "GRC",
            "IND",
            "IDN",
            "IRN",
            "JPN",
            "LUX",
            "MEX",
            "MAR",
            "PER",
            "POL",
            "ZAF",
            "USA",
            "OWID_WRL"
           ],
           "name": "",
           "type": "choropleth",
           "z": [
            0.004832,
            2.6175230000000003,
            2.565069,
            0.016298,
            5.349714,
            0.485493,
            2.898027,
            0.575423,
            3.329194,
            1.038722,
            0.211294,
            0.1955269999999999,
            0.161592,
            2.200724,
            1.08715,
            1.10829,
            0.07544,
            1.714843,
            0.168005,
            0.098082,
            3.545591,
            1.3184380000000002
           ]
          }
         ],
         "name": "2000"
        },
        {
         "data": [
          {
           "coloraxis": "coloraxis",
           "customdata": [
            [
             "Algeria",
             0.006054
            ],
            [
             "Argentina",
             3.151093
            ],
            [
             "Australia",
             2.4818490000000004
            ],
            [
             "Bangladesh",
             0.0210659999999999
            ],
            [
             "Brazil",
             4.674265999999999
            ],
            [
             "China",
             0.596405
            ],
            [
             "Denmark",
             3.0112910000000004
            ],
            [
             "Egypt",
             0.5740879999999999
            ],
            [
             "France",
             3.675663
            ],
            [
             "Greece",
             0.7267440000000001
            ],
            [
             "India",
             0.195901
            ],
            [
             "Indonesia",
             0.2276709999999999
            ],
            [
             "Iran",
             0.172593
            ],
            [
             "Japan",
             2.12452
            ],
            [
             "Luxembourg",
             1.051782
            ],
            [
             "Mexico",
             0.955028
            ],
            [
             "Morocco",
             0.101204
            ],
            [
             "Peru",
             1.830869
            ],
            [
             "Poland",
             0.199335
            ],
            [
             "South Africa",
             0.130499
            ],
            [
             "United States",
             2.904
            ],
            [
             "World",
             1.268913
            ]
           ],
           "geo": "geo",
           "hovertemplate": "Year=2001<br>Code=%{location}<br>Country Name=%{customdata[0]}<br>Renewables per capita (kWh)=%{z}<extra></extra>",
           "locations": [
            "DZA",
            "ARG",
            "AUS",
            "BGD",
            "BRA",
            "CHN",
            "DNK",
            "EGY",
            "FRA",
            "GRC",
            "IND",
            "IDN",
            "IRN",
            "JPN",
            "LUX",
            "MEX",
            "MAR",
            "PER",
            "POL",
            "ZAF",
            "USA",
            "OWID_WRL"
           ],
           "name": "",
           "type": "choropleth",
           "z": [
            0.006054,
            3.151093,
            2.4818490000000004,
            0.0210659999999999,
            4.674265999999999,
            0.596405,
            3.0112910000000004,
            0.5740879999999999,
            3.675663,
            0.7267440000000001,
            0.195901,
            0.2276709999999999,
            0.172593,
            2.12452,
            1.051782,
            0.955028,
            0.101204,
            1.830869,
            0.199335,
            0.130499,
            2.904,
            1.268913
           ]
          }
         ],
         "name": "2001"
        },
        {
         "data": [
          {
           "coloraxis": "coloraxis",
           "customdata": [
            [
             "Algeria",
             0.004906
            ],
            [
             "Argentina",
             3.084571
            ],
            [
             "Australia",
             2.537384
            ],
            [
             "Bangladesh",
             0.015504
            ],
            [
             "Brazil",
             4.929479000000001
            ],
            [
             "China",
             0.611502
            ],
            [
             "Denmark",
             3.46462
            ],
            [
             "Egypt",
             0.5449740000000001
            ],
            [
             "France",
             3.009317
            ],
            [
             "Greece",
             0.877116
            ],
            [
             "India",
             0.182817
            ],
            [
             "Indonesia",
             0.204062
            ],
            [
             "Iran",
             0.327733
            ],
            [
             "Japan",
             2.114922
            ],
            [
             "Luxembourg",
             0.934259
            ],
            [
             "Mexico",
             0.8439070000000001
            ],
            [
             "Morocco",
             0.09644
            ],
            [
             "Peru",
             1.844143
            ],
            [
             "Poland",
             0.19712
            ],
            [
             "South Africa",
             0.151899
            ],
            [
             "United States",
             3.427357
            ],
            [
             "World",
             1.281657
            ]
           ],
           "geo": "geo",
           "hovertemplate": "Year=2002<br>Code=%{location}<br>Country Name=%{customdata[0]}<br>Renewables per capita (kWh)=%{z}<extra></extra>",
           "locations": [
            "DZA",
            "ARG",
            "AUS",
            "BGD",
            "BRA",
            "CHN",
            "DNK",
            "EGY",
            "FRA",
            "GRC",
            "IND",
            "IDN",
            "IRN",
            "JPN",
            "LUX",
            "MEX",
            "MAR",
            "PER",
            "POL",
            "ZAF",
            "USA",
            "OWID_WRL"
           ],
           "name": "",
           "type": "choropleth",
           "z": [
            0.004906,
            3.084571,
            2.537384,
            0.015504,
            4.929479000000001,
            0.611502,
            3.46462,
            0.5449740000000001,
            3.009317,
            0.877116,
            0.182817,
            0.204062,
            0.327733,
            2.114922,
            0.934259,
            0.8439070000000001,
            0.09644,
            1.844143,
            0.19712,
            0.151899,
            3.427357,
            1.281657
           ]
          }
         ],
         "name": "2002"
        },
        {
         "data": [
          {
           "coloraxis": "coloraxis",
           "customdata": [
            [
             "Algeria",
             0.022377
            ],
            [
             "Argentina",
             2.873439
            ],
            [
             "Australia",
             2.591864
            ],
            [
             "Bangladesh",
             0.015157
            ],
            [
             "Brazil",
             5.137103
            ],
            [
             "China",
             0.5962609999999999
            ],
            [
             "Denmark",
             4.084698
            ],
            [
             "Egypt",
             0.494774
            ],
            [
             "France",
             2.910826
            ],
            [
             "Greece",
             1.430781
            ],
            [
             "India",
             0.183219
            ],
            [
             "Indonesia",
             0.190449
            ],
            [
             "Iran",
             0.384545
            ],
            [
             "Japan",
             2.385596
            ],
            [
             "Luxembourg",
             0.860204
            ],
            [
             "Mexico",
             0.717852
            ],
            [
             "Morocco",
             0.150439
            ],
            [
             "Peru",
             1.864304
            ],
            [
             "Poland",
             0.168454
            ],
            [
             "South Africa",
             0.073225
            ],
            [
             "United States",
             3.5523800000000003
            ],
            [
             "World",
             1.268534
            ]
           ],
           "geo": "geo",
           "hovertemplate": "Year=2003<br>Code=%{location}<br>Country Name=%{customdata[0]}<br>Renewables per capita (kWh)=%{z}<extra></extra>",
           "locations": [
            "DZA",
            "ARG",
            "AUS",
            "BGD",
            "BRA",
            "CHN",
            "DNK",
            "EGY",
            "FRA",
            "GRC",
            "IND",
            "IDN",
            "IRN",
            "JPN",
            "LUX",
            "MEX",
            "MAR",
            "PER",
            "POL",
            "ZAF",
            "USA",
            "OWID_WRL"
           ],
           "name": "",
           "type": "choropleth",
           "z": [
            0.022377,
            2.873439,
            2.591864,
            0.015157,
            5.137103,
            0.5962609999999999,
            4.084698,
            0.494774,
            2.910826,
            1.430781,
            0.183219,
            0.190449,
            0.384545,
            2.385596,
            0.860204,
            0.717852,
            0.150439,
            1.864304,
            0.168454,
            0.073225,
            3.5523800000000003,
            1.268534
           ]
          }
         ],
         "name": "2003"
        },
        {
         "data": [
          {
           "coloraxis": "coloraxis",
           "customdata": [
            [
             "Algeria",
             0.020784
            ],
            [
             "Argentina",
             2.558176
            ],
            [
             "Australia",
             2.637543
            ],
            [
             "Bangladesh",
             0.014839
            ],
            [
             "Brazil",
             5.320681
            ],
            [
             "China",
             0.735486
            ],
            [
             "Denmark",
             4.770811
            ],
            [
             "Egypt",
             0.486736
            ],
            [
             "France",
             2.916229
            ],
            [
             "Greece",
             1.425667
            ],
            [
             "India",
             0.26201
            ],
            [
             "Indonesia",
             0.198093
            ],
            [
             "Iran",
             0.470306
            ],
            [
             "Japan",
             2.373987
            ],
            [
             "Luxembourg",
             1.16923
            ],
            [
             "Mexico",
             0.8497640000000001
            ],
            [
             "Morocco",
             0.160928
            ],
            [
             "Peru",
             1.732499
            ],
            [
             "Poland",
             0.221029
            ],
            [
             "South Africa",
             0.077809
            ],
            [
             "United States",
             3.52631
            ],
            [
             "World",
             1.348134
            ]
           ],
           "geo": "geo",
           "hovertemplate": "Year=2004<br>Code=%{location}<br>Country Name=%{customdata[0]}<br>Renewables per capita (kWh)=%{z}<extra></extra>",
           "locations": [
            "DZA",
            "ARG",
            "AUS",
            "BGD",
            "BRA",
            "CHN",
            "DNK",
            "EGY",
            "FRA",
            "GRC",
            "IND",
            "IDN",
            "IRN",
            "JPN",
            "LUX",
            "MEX",
            "MAR",
            "PER",
            "POL",
            "ZAF",
            "USA",
            "OWID_WRL"
           ],
           "name": "",
           "type": "choropleth",
           "z": [
            0.020784,
            2.558176,
            2.637543,
            0.014839,
            5.320681,
            0.735486,
            4.770811,
            0.486736,
            2.916229,
            1.425667,
            0.26201,
            0.198093,
            0.470306,
            2.373987,
            1.16923,
            0.8497640000000001,
            0.160928,
            1.732499,
            0.221029,
            0.077809,
            3.52631,
            1.348134
           ]
          }
         ],
         "name": "2004"
        },
        {
         "data": [
          {
           "coloraxis": "coloraxis",
           "customdata": [
            [
             "Algeria",
             0.045058
            ],
            [
             "Argentina",
             2.800738
            ],
            [
             "Australia",
             2.765928
            ],
            [
             "Bangladesh",
             0.014556
            ],
            [
             "Brazil",
             5.520577
            ],
            [
             "China",
             0.823615
            ],
            [
             "Denmark",
             4.8682240000000006
            ],
            [
             "Egypt",
             0.468535
            ],
            [
             "France",
             2.587616
            ],
            [
             "Greece",
             1.535086
            ],
            [
             "India",
             0.252272
            ],
            [
             "Indonesia",
             0.206119
            ],
            [
             "Iran",
             0.559818
            ],
            [
             "Japan",
             2.154558
            ],
            [
             "Luxembourg",
             1.227775
            ],
            [
             "Mexico",
             0.919985
            ],
            [
             "Morocco",
             0.103432
            ],
            [
             "Peru",
             1.769009
            ],
            [
             "Poland",
             0.285209
            ],
            [
             "South Africa",
             0.100348
            ],
            [
             "United States",
             3.59805
            ],
            [
             "World",
             1.384765
            ]
           ],
           "geo": "geo",
           "hovertemplate": "Year=2005<br>Code=%{location}<br>Country Name=%{customdata[0]}<br>Renewables per capita (kWh)=%{z}<extra></extra>",
           "locations": [
            "DZA",
            "ARG",
            "AUS",
            "BGD",
            "BRA",
            "CHN",
            "DNK",
            "EGY",
            "FRA",
            "GRC",
            "IND",
            "IDN",
            "IRN",
            "JPN",
            "LUX",
            "MEX",
            "MAR",
            "PER",
            "POL",
            "ZAF",
            "USA",
            "OWID_WRL"
           ],
           "name": "",
           "type": "choropleth",
           "z": [
            0.045058,
            2.800738,
            2.765928,
            0.014556,
            5.520577,
            0.823615,
            4.8682240000000006,
            0.468535,
            2.587616,
            1.535086,
            0.252272,
            0.206119,
            0.559818,
            2.154558,
            1.227775,
            0.919985,
            0.103432,
            1.769009,
            0.285209,
            0.100348,
            3.59805,
            1.384765
           ]
          }
         ],
         "name": "2005"
        },
        {
         "data": [
          {
           "coloraxis": "coloraxis",
           "customdata": [
            [
             "Algeria",
             0.017289
            ],
            [
             "Argentina",
             3.079184
            ],
            [
             "Australia",
             2.798649
            ],
            [
             "Bangladesh",
             0.01434
            ],
            [
             "Brazil",
             5.580398000000001
            ],
            [
             "China",
             0.9000130000000001
            ],
            [
             "Denmark",
             4.518852
            ],
            [
             "Egypt",
             0.465598
            ],
            [
             "France",
             2.840119
            ],
            [
             "Greece",
             1.835105
            ],
            [
             "India",
             0.29296
            ],
            [
             "Indonesia",
             0.190041
            ],
            [
             "Iran",
             0.705959
            ],
            [
             "Japan",
             2.382454
            ],
            [
             "Luxembourg",
             1.4089120000000002
            ],
            [
             "Mexico",
             0.953749
            ],
            [
             "Morocco",
             0.101157
            ],
            [
             "Peru",
             1.896952
            ],
            [
             "Poland",
             0.327247
            ],
            [
             "South Africa",
             0.183771
            ],
            [
             "United States",
             3.933222
            ],
            [
             "World",
             1.432626
            ]
           ],
           "geo": "geo",
           "hovertemplate": "Year=2006<br>Code=%{location}<br>Country Name=%{customdata[0]}<br>Renewables per capita (kWh)=%{z}<extra></extra>",
           "locations": [
            "DZA",
            "ARG",
            "AUS",
            "BGD",
            "BRA",
            "CHN",
            "DNK",
            "EGY",
            "FRA",
            "GRC",
            "IND",
            "IDN",
            "IRN",
            "JPN",
            "LUX",
            "MEX",
            "MAR",
            "PER",
            "POL",
            "ZAF",
            "USA",
            "OWID_WRL"
           ],
           "name": "",
           "type": "choropleth",
           "z": [
            0.017289,
            3.079184,
            2.798649,
            0.01434,
            5.580398000000001,
            0.9000130000000001,
            4.518852,
            0.465598,
            2.840119,
            1.835105,
            0.29296,
            0.190041,
            0.705959,
            2.382454,
            1.4089120000000002,
            0.953749,
            0.101157,
            1.896952,
            0.327247,
            0.183771,
            3.933222,
            1.432626
           ]
          }
         ],
         "name": "2006"
        },
        {
         "data": [
          {
           "coloraxis": "coloraxis",
           "customdata": [
            [
             "Algeria",
             0.01757
            ],
            [
             "Argentina",
             2.635797
            ],
            [
             "Australia",
             2.749236
            ],
            [
             "Bangladesh",
             0.014143
            ],
            [
             "Brazil",
             6.0511490000000006
            ],
            [
             "China",
             0.998242
            ],
            [
             "Denmark",
             5.005097
            ],
            [
             "Egypt",
             0.505267
            ],
            [
             "France",
             3.092219
            ],
            [
             "Greece",
             1.097376
            ],
            [
             "India",
             0.318684
            ],
            [
             "Indonesia",
             0.211243
            ],
            [
             "Iran",
             0.673968
            ],
            [
             "Japan",
             2.103606
            ],
            [
             "Luxembourg",
             1.479426
            ],
            [
             "Mexico",
             0.881394
            ],
            [
             "Morocco",
             0.100662
            ],
            [
             "Peru",
             1.87193
            ],
            [
             "Poland",
             0.406387
            ],
            [
             "South Africa",
             0.179979
            ],
            [
             "United States",
             3.699545
            ],
            [
             "World",
             1.465992
            ]
           ],
           "geo": "geo",
           "hovertemplate": "Year=2007<br>Code=%{location}<br>Country Name=%{customdata[0]}<br>Renewables per capita (kWh)=%{z}<extra></extra>",
           "locations": [
            "DZA",
            "ARG",
            "AUS",
            "BGD",
            "BRA",
            "CHN",
            "DNK",
            "EGY",
            "FRA",
            "GRC",
            "IND",
            "IDN",
            "IRN",
            "JPN",
            "LUX",
            "MEX",
            "MAR",
            "PER",
            "POL",
            "ZAF",
            "USA",
            "OWID_WRL"
           ],
           "name": "",
           "type": "choropleth",
           "z": [
            0.01757,
            2.635797,
            2.749236,
            0.014143,
            6.0511490000000006,
            0.998242,
            5.005097,
            0.505267,
            3.092219,
            1.097376,
            0.318684,
            0.211243,
            0.673968,
            2.103606,
            1.479426,
            0.881394,
            0.100662,
            1.87193,
            0.406387,
            0.179979,
            3.699545,
            1.465992
           ]
          }
         ],
         "name": "2007"
        },
        {
         "data": [
          {
           "coloraxis": "coloraxis",
           "customdata": [
            [
             "Algeria",
             0.02151
            ],
            [
             "Argentina",
             2.564317
            ],
            [
             "Australia",
             2.77023
            ],
            [
             "Bangladesh",
             0.017709
            ],
            [
             "Brazil",
             6.113883
            ],
            [
             "China",
             1.309142
            ],
            [
             "Denmark",
             4.847771
            ],
            [
             "Egypt",
             0.531269
            ],
            [
             "France",
             3.556371
            ],
            [
             "Greece",
             1.374872
            ],
            [
             "India",
             0.305984
            ],
            [
             "Indonesia",
             0.224298
            ],
            [
             "Iran",
             0.279418
            ],
            [
             "Japan",
             2.094658
            ],
            [
             "Luxembourg",
             1.536946
            ],
            [
             "Mexico",
             1.138339
            ],
            [
             "Morocco",
             0.1016239999999999
            ],
            [
             "Peru",
             1.804149
            ],
            [
             "Poland",
             0.58905
            ],
            [
             "South Africa",
             0.093248
            ],
            [
             "United States",
             4.112739
            ],
            [
             "World",
             1.559443
            ]
           ],
           "geo": "geo",
           "hovertemplate": "Year=2008<br>Code=%{location}<br>Country Name=%{customdata[0]}<br>Renewables per capita (kWh)=%{z}<extra></extra>",
           "locations": [
            "DZA",
            "ARG",
            "AUS",
            "BGD",
            "BRA",
            "CHN",
            "DNK",
            "EGY",
            "FRA",
            "GRC",
            "IND",
            "IDN",
            "IRN",
            "JPN",
            "LUX",
            "MEX",
            "MAR",
            "PER",
            "POL",
            "ZAF",
            "USA",
            "OWID_WRL"
           ],
           "name": "",
           "type": "choropleth",
           "z": [
            0.02151,
            2.564317,
            2.77023,
            0.017709,
            6.113883,
            1.309142,
            4.847771,
            0.531269,
            3.556371,
            1.374872,
            0.305984,
            0.224298,
            0.279418,
            2.094658,
            1.536946,
            1.138339,
            0.1016239999999999,
            1.804149,
            0.58905,
            0.093248,
            4.112739,
            1.559443
           ]
          }
         ],
         "name": "2008"
        },
        {
         "data": [
          {
           "coloraxis": "coloraxis",
           "customdata": [
            [
             "Algeria",
             0.025393
            ],
            [
             "Argentina",
             2.7573220000000003
            ],
            [
             "Australia",
             3.014951
            ],
            [
             "Bangladesh",
             0.008058
            ],
            [
             "Brazil",
             6.4253800000000005
            ],
            [
             "China",
             1.293615
            ],
            [
             "Denmark",
             4.777585
            ],
            [
             "Egypt",
             0.478935
            ],
            [
             "France",
             3.372104
            ],
            [
             "Greece",
             1.959395
            ],
            [
             "India",
             0.289571
            ],
            [
             "Indonesia",
             0.235594
            ],
            [
             "Iran",
             0.250068
            ],
            [
             "Japan",
             1.98491
            ],
            [
             "Luxembourg",
             1.4136700000000002
            ],
            [
             "Mexico",
             0.8239310000000001
            ],
            [
             "Morocco",
             0.243169
            ],
            [
             "Peru",
             1.855546
            ],
            [
             "Poland",
             0.784357
            ],
            [
             "South Africa",
             0.101557
            ],
            [
             "United States",
             4.497078
            ],
            [
             "World",
             1.574581
            ]
           ],
           "geo": "geo",
           "hovertemplate": "Year=2009<br>Code=%{location}<br>Country Name=%{customdata[0]}<br>Renewables per capita (kWh)=%{z}<extra></extra>",
           "locations": [
            "DZA",
            "ARG",
            "AUS",
            "BGD",
            "BRA",
            "CHN",
            "DNK",
            "EGY",
            "FRA",
            "GRC",
            "IND",
            "IDN",
            "IRN",
            "JPN",
            "LUX",
            "MEX",
            "MAR",
            "PER",
            "POL",
            "ZAF",
            "USA",
            "OWID_WRL"
           ],
           "name": "",
           "type": "choropleth",
           "z": [
            0.025393,
            2.7573220000000003,
            3.014951,
            0.008058,
            6.4253800000000005,
            1.293615,
            4.777585,
            0.478935,
            3.372104,
            1.959395,
            0.289571,
            0.235594,
            0.250068,
            1.98491,
            1.4136700000000002,
            0.8239310000000001,
            0.243169,
            1.855546,
            0.784357,
            0.101557,
            4.497078,
            1.574581
           ]
          }
         ],
         "name": "2009"
        },
        {
         "data": [
          {
           "coloraxis": "coloraxis",
           "customdata": [
            [
             "Algeria",
             0.0131969999999999
            ],
            [
             "Argentina",
             2.860631
            ],
            [
             "Australia",
             3.471619
            ],
            [
             "Bangladesh",
             0.013788
            ],
            [
             "Brazil",
             6.6812510000000005
            ],
            [
             "China",
             1.511048
            ],
            [
             "Denmark",
             5.834372999999999
            ],
            [
             "Egypt",
             0.453317
            ],
            [
             "France",
             3.681379
            ],
            [
             "Greece",
             2.519718
            ],
            [
             "India",
             0.301345
            ],
            [
             "Indonesia",
             0.298076
            ],
            [
             "Iran",
             0.370156
            ],
            [
             "Japan",
             2.398334
            ],
            [
             "Luxembourg",
             1.375703
            ],
            [
             "Mexico",
             1.058648
            ],
            [
             "Morocco",
             0.332678
            ],
            [
             "Peru",
             1.861686
            ],
            [
             "Poland",
             0.937348
            ],
            [
             "South Africa",
             0.081494
            ],
            [
             "United States",
             4.648846
            ],
            [
             "World",
             1.675008
            ]
           ],
           "geo": "geo",
           "hovertemplate": "Year=2010<br>Code=%{location}<br>Country Name=%{customdata[0]}<br>Renewables per capita (kWh)=%{z}<extra></extra>",
           "locations": [
            "DZA",
            "ARG",
            "AUS",
            "BGD",
            "BRA",
            "CHN",
            "DNK",
            "EGY",
            "FRA",
            "GRC",
            "IND",
            "IDN",
            "IRN",
            "JPN",
            "LUX",
            "MEX",
            "MAR",
            "PER",
            "POL",
            "ZAF",
            "USA",
            "OWID_WRL"
           ],
           "name": "",
           "type": "choropleth",
           "z": [
            0.0131969999999999,
            2.860631,
            3.471619,
            0.013788,
            6.6812510000000005,
            1.511048,
            5.834372999999999,
            0.453317,
            3.681379,
            2.519718,
            0.301345,
            0.298076,
            0.370156,
            2.398334,
            1.375703,
            1.058648,
            0.332678,
            1.861686,
            0.937348,
            0.081494,
            4.648846,
            1.675008
           ]
          }
         ],
         "name": "2010"
        },
        {
         "data": [
          {
           "coloraxis": "coloraxis",
           "customdata": [
            [
             "Algeria",
             0.028001
            ],
            [
             "Argentina",
             2.838265
            ],
            [
             "Australia",
             4.418236
            ],
            [
             "Bangladesh",
             0.016293
            ],
            [
             "Brazil",
             6.855265
            ],
            [
             "China",
             1.507158
            ],
            [
             "Denmark",
             6.582503
            ],
            [
             "Egypt",
             0.451569
            ],
            [
             "France",
             3.070873
            ],
            [
             "Greece",
             1.948684
            ],
            [
             "India",
             0.360518
            ],
            [
             "Indonesia",
             0.244972
            ],
            [
             "Iran",
             0.37917
            ],
            [
             "Japan",
             2.288779
            ],
            [
             "Luxembourg",
             1.227192
            ],
            [
             "Mexico",
             1.024666
            ],
            [
             "Morocco",
             0.213257
            ],
            [
             "Peru",
             1.968881
            ],
            [
             "Poland",
             1.097759
            ],
            [
             "South Africa",
             0.179053
            ],
            [
             "United States",
             5.384592
            ],
            [
             "World",
             1.727259
            ]
           ],
           "geo": "geo",
           "hovertemplate": "Year=2011<br>Code=%{location}<br>Country Name=%{customdata[0]}<br>Renewables per capita (kWh)=%{z}<extra></extra>",
           "locations": [
            "DZA",
            "ARG",
            "AUS",
            "BGD",
            "BRA",
            "CHN",
            "DNK",
            "EGY",
            "FRA",
            "GRC",
            "IND",
            "IDN",
            "IRN",
            "JPN",
            "LUX",
            "MEX",
            "MAR",
            "PER",
            "POL",
            "ZAF",
            "USA",
            "OWID_WRL"
           ],
           "name": "",
           "type": "choropleth",
           "z": [
            0.028001,
            2.838265,
            4.418236,
            0.016293,
            6.855265,
            1.507158,
            6.582503,
            0.451569,
            3.070873,
            1.948684,
            0.360518,
            0.244972,
            0.37917,
            2.288779,
            1.227192,
            1.024666,
            0.213257,
            1.968881,
            1.097759,
            0.179053,
            5.384592,
            1.727259
           ]
          }
         ],
         "name": "2011"
        },
        {
         "data": [
          {
           "coloraxis": "coloraxis",
           "customdata": [
            [
             "Algeria",
             0.028643
            ],
            [
             "Argentina",
             2.709964
            ],
            [
             "Australia",
             4.1904200000000005
            ],
            [
             "Bangladesh",
             0.014959
            ],
            [
             "Brazil",
             6.619196
            ],
            [
             "China",
             1.877702
            ],
            [
             "Denmark",
             6.811133
            ],
            [
             "Egypt",
             0.44313
            ],
            [
             "France",
             3.83187
            ],
            [
             "Greece",
             2.4252420000000003
            ],
            [
             "India",
             0.336762
            ],
            [
             "Indonesia",
             0.256406
            ],
            [
             "Iran",
             0.434053
            ],
            [
             "Japan",
             2.232896
            ],
            [
             "Luxembourg",
             1.494309
            ],
            [
             "Mexico",
             0.942592
            ],
            [
             "Morocco",
             0.1827949999999999
            ],
            [
             "Peru",
             1.986862
            ],
            [
             "Poland",
             1.368291
            ],
            [
             "South Africa",
             0.076255
            ],
            [
             "United States",
             5.188684
            ],
            [
             "World",
             1.810606
            ]
           ],
           "geo": "geo",
           "hovertemplate": "Year=2012<br>Code=%{location}<br>Country Name=%{customdata[0]}<br>Renewables per capita (kWh)=%{z}<extra></extra>",
           "locations": [
            "DZA",
            "ARG",
            "AUS",
            "BGD",
            "BRA",
            "CHN",
            "DNK",
            "EGY",
            "FRA",
            "GRC",
            "IND",
            "IDN",
            "IRN",
            "JPN",
            "LUX",
            "MEX",
            "MAR",
            "PER",
            "POL",
            "ZAF",
            "USA",
            "OWID_WRL"
           ],
           "name": "",
           "type": "choropleth",
           "z": [
            0.028643,
            2.709964,
            4.1904200000000005,
            0.014959,
            6.619196,
            1.877702,
            6.811133,
            0.44313,
            3.83187,
            2.4252420000000003,
            0.336762,
            0.256406,
            0.434053,
            2.232896,
            1.494309,
            0.942592,
            0.1827949999999999,
            1.986862,
            1.368291,
            0.076255,
            5.188684,
            1.810606
           ]
          }
         ],
         "name": "2012"
        },
        {
         "data": [
          {
           "coloraxis": "coloraxis",
           "customdata": [
            [
             "Algeria",
             0.008565
            ],
            [
             "Argentina",
             2.932792
            ],
            [
             "Australia",
             4.645385
            ],
            [
             "Bangladesh",
             0.014548
            ],
            [
             "Brazil",
             6.427952
            ],
            [
             "China",
             2.031559
            ],
            [
             "Denmark",
             7.251027
            ],
            [
             "Egypt",
             0.4297289999999999
            ],
            [
             "France",
             4.356782
            ],
            [
             "Greece",
             3.420252
            ],
            [
             "India",
             0.376177
            ],
            [
             "Indonesia",
             0.306826
            ],
            [
             "Iran",
             0.497283
            ],
            [
             "Japan",
             2.405333
            ],
            [
             "Luxembourg",
             1.745355
            ],
            [
             "Mexico",
             0.864516
            ],
            [
             "Morocco",
             0.303742
            ],
            [
             "Peru",
             2.018829
            ],
            [
             "Poland",
             1.370504
            ],
            [
             "South Africa",
             0.088777
            ],
            [
             "United States",
             5.454616
            ],
            [
             "World",
             1.907451
            ]
           ],
           "geo": "geo",
           "hovertemplate": "Year=2013<br>Code=%{location}<br>Country Name=%{customdata[0]}<br>Renewables per capita (kWh)=%{z}<extra></extra>",
           "locations": [
            "DZA",
            "ARG",
            "AUS",
            "BGD",
            "BRA",
            "CHN",
            "DNK",
            "EGY",
            "FRA",
            "GRC",
            "IND",
            "IDN",
            "IRN",
            "JPN",
            "LUX",
            "MEX",
            "MAR",
            "PER",
            "POL",
            "ZAF",
            "USA",
            "OWID_WRL"
           ],
           "name": "",
           "type": "choropleth",
           "z": [
            0.008565,
            2.932792,
            4.645385,
            0.014548,
            6.427952,
            2.031559,
            7.251027,
            0.4297289999999999,
            4.356782,
            3.420252,
            0.376177,
            0.306826,
            0.497283,
            2.405333,
            1.745355,
            0.864516,
            0.303742,
            2.018829,
            1.370504,
            0.088777,
            5.454616,
            1.907451
           ]
          }
         ],
         "name": "2013"
        },
        {
         "data": [
          {
           "coloraxis": "coloraxis",
           "customdata": [
            [
             "Algeria",
             0.016607
            ],
            [
             "Argentina",
             2.945296
            ],
            [
             "Australia",
             4.226812
            ],
            [
             "Bangladesh",
             0.012262
            ],
            [
             "Brazil",
             6.353726
            ],
            [
             "China",
             2.371355
            ],
            [
             "Denmark",
             8.083590000000001
            ],
            [
             "Egypt",
             0.415254
            ],
            [
             "France",
             4.149449
            ],
            [
             "Greece",
             2.895935
            ],
            [
             "India",
             0.397351
            ],
            [
             "Indonesia",
             0.3187629999999999
            ],
            [
             "Iran",
             0.484534
            ],
            [
             "Japan",
             2.658675
            ],
            [
             "Luxembourg",
             1.823303
            ],
            [
             "Mexico",
             1.129981
            ],
            [
             "Morocco",
             0.2650679999999999
            ],
            [
             "Peru",
             2.02633
            ],
            [
             "Poland",
             1.540532
            ],
            [
             "South Africa",
             0.206049
            ],
            [
             "United States",
             5.563348
            ],
            [
             "World",
             1.96872
            ]
           ],
           "geo": "geo",
           "hovertemplate": "Year=2014<br>Code=%{location}<br>Country Name=%{customdata[0]}<br>Renewables per capita (kWh)=%{z}<extra></extra>",
           "locations": [
            "DZA",
            "ARG",
            "AUS",
            "BGD",
            "BRA",
            "CHN",
            "DNK",
            "EGY",
            "FRA",
            "GRC",
            "IND",
            "IDN",
            "IRN",
            "JPN",
            "LUX",
            "MEX",
            "MAR",
            "PER",
            "POL",
            "ZAF",
            "USA",
            "OWID_WRL"
           ],
           "name": "",
           "type": "choropleth",
           "z": [
            0.016607,
            2.945296,
            4.226812,
            0.012262,
            6.353726,
            2.371355,
            8.083590000000001,
            0.415254,
            4.149449,
            2.895935,
            0.397351,
            0.3187629999999999,
            0.484534,
            2.658675,
            1.823303,
            1.129981,
            0.2650679999999999,
            2.02633,
            1.540532,
            0.206049,
            5.563348,
            1.96872
           ]
          }
         ],
         "name": "2014"
        },
        {
         "data": [
          {
           "coloraxis": "coloraxis",
           "customdata": [
            [
             "Algeria",
             0.014136
            ],
            [
             "Argentina",
             2.985942
            ],
            [
             "Australia",
             4.406212000000001
            ],
            [
             "Bangladesh",
             0.01795
            ],
            [
             "Brazil",
             6.420413
            ],
            [
             "China",
             2.52211
            ],
            [
             "Denmark",
             8.429234000000001
            ],
            [
             "Egypt",
             0.4274529999999999
            ],
            [
             "France",
             4.02145
            ],
            [
             "Greece",
             3.5241080000000005
            ],
            [
             "India",
             0.383997
            ],
            [
             "Indonesia",
             0.2677219999999999
            ],
            [
             "Iran",
             0.435486
            ],
            [
             "Japan",
             3.044241
            ],
            [
             "Luxembourg",
             1.922022
            ],
            [
             "Mexico",
             0.999343
            ],
            [
             "Morocco",
             0.321847
            ],
            [
             "Peru",
             2.1103110000000003
            ],
            [
             "Poland",
             1.710318
            ],
            [
             "South Africa",
             0.321503
            ],
            [
             "United States",
             5.6211340000000005
            ],
            [
             "World",
             2.012209
            ]
           ],
           "geo": "geo",
           "hovertemplate": "Year=2015<br>Code=%{location}<br>Country Name=%{customdata[0]}<br>Renewables per capita (kWh)=%{z}<extra></extra>",
           "locations": [
            "DZA",
            "ARG",
            "AUS",
            "BGD",
            "BRA",
            "CHN",
            "DNK",
            "EGY",
            "FRA",
            "GRC",
            "IND",
            "IDN",
            "IRN",
            "JPN",
            "LUX",
            "MEX",
            "MAR",
            "PER",
            "POL",
            "ZAF",
            "USA",
            "OWID_WRL"
           ],
           "name": "",
           "type": "choropleth",
           "z": [
            0.014136,
            2.985942,
            4.406212000000001,
            0.01795,
            6.420413,
            2.52211,
            8.429234000000001,
            0.4274529999999999,
            4.02145,
            3.5241080000000005,
            0.383997,
            0.2677219999999999,
            0.435486,
            3.044241,
            1.922022,
            0.999343,
            0.321847,
            2.1103110000000003,
            1.710318,
            0.321503,
            5.6211340000000005,
            2.012209
           ]
          }
         ],
         "name": "2015"
        },
        {
         "data": [
          {
           "coloraxis": "coloraxis",
           "customdata": [
            [
             "Algeria",
             0.02084
            ],
            [
             "Argentina",
             2.732613
            ],
            [
             "Australia",
             4.853733
            ],
            [
             "Bangladesh",
             0.017671
            ],
            [
             "Brazil",
             6.658975000000001
            ],
            [
             "China",
             2.726705
            ],
            [
             "Denmark",
             8.127734
            ],
            [
             "Egypt",
             0.429562
            ],
            [
             "France",
             4.295035
            ],
            [
             "Greece",
             3.528294
            ],
            [
             "India",
             0.396761
            ],
            [
             "Indonesia",
             0.390277
            ],
            [
             "Iran",
             0.496647
            ],
            [
             "Japan",
             2.797594
            ],
            [
             "Luxembourg",
             1.985789
            ],
            [
             "Mexico",
             1.00983
            ],
            [
             "Morocco",
             0.333433
            ],
            [
             "Peru",
             2.0951280000000003
            ],
            [
             "Poland",
             1.646162
            ],
            [
             "South Africa",
             0.38568
            ],
            [
             "United States",
             6.187854000000001
            ],
            [
             "World",
             2.098487
            ]
           ],
           "geo": "geo",
           "hovertemplate": "Year=2016<br>Code=%{location}<br>Country Name=%{customdata[0]}<br>Renewables per capita (kWh)=%{z}<extra></extra>",
           "locations": [
            "DZA",
            "ARG",
            "AUS",
            "BGD",
            "BRA",
            "CHN",
            "DNK",
            "EGY",
            "FRA",
            "GRC",
            "IND",
            "IDN",
            "IRN",
            "JPN",
            "LUX",
            "MEX",
            "MAR",
            "PER",
            "POL",
            "ZAF",
            "USA",
            "OWID_WRL"
           ],
           "name": "",
           "type": "choropleth",
           "z": [
            0.02084,
            2.732613,
            4.853733,
            0.017671,
            6.658975000000001,
            2.726705,
            8.127734,
            0.429562,
            4.295035,
            3.528294,
            0.396761,
            0.390277,
            0.496647,
            2.797594,
            1.985789,
            1.00983,
            0.333433,
            2.0951280000000003,
            1.646162,
            0.38568,
            6.187854000000001,
            2.098487
           ]
          }
         ],
         "name": "2016"
        },
        {
         "data": [
          {
           "coloraxis": "coloraxis",
           "customdata": [
            [
             "Algeria",
             0.034973
            ],
            [
             "Argentina",
             2.962672
            ],
            [
             "Australia",
             4.567292
            ],
            [
             "Bangladesh",
             0.020613
            ],
            [
             "Brazil",
             6.634846
            ],
            [
             "China",
             2.951805
            ],
            [
             "Denmark",
             9.5591
            ],
            [
             "Egypt",
             0.41043
            ],
            [
             "France",
             4.013051
            ],
            [
             "Greece",
             3.2645120000000003
            ],
            [
             "India",
             0.4398
            ],
            [
             "Indonesia",
             0.388507
            ],
            [
             "Iran",
             0.5469080000000001
            ],
            [
             "Japan",
             3.1586770000000004
            ],
            [
             "Luxembourg",
             2.535116
            ],
            [
             "Mexico",
             1.048039
            ],
            [
             "Morocco",
             0.325659
            ],
            [
             "Peru",
             2.50181
            ],
            [
             "Poland",
             1.776826
            ],
            [
             "South Africa",
             0.50419
            ],
            [
             "United States",
             6.759386000000001
            ],
            [
             "World",
             2.194493
            ]
           ],
           "geo": "geo",
           "hovertemplate": "Year=2017<br>Code=%{location}<br>Country Name=%{customdata[0]}<br>Renewables per capita (kWh)=%{z}<extra></extra>",
           "locations": [
            "DZA",
            "ARG",
            "AUS",
            "BGD",
            "BRA",
            "CHN",
            "DNK",
            "EGY",
            "FRA",
            "GRC",
            "IND",
            "IDN",
            "IRN",
            "JPN",
            "LUX",
            "MEX",
            "MAR",
            "PER",
            "POL",
            "ZAF",
            "USA",
            "OWID_WRL"
           ],
           "name": "",
           "type": "choropleth",
           "z": [
            0.034973,
            2.962672,
            4.567292,
            0.020613,
            6.634846,
            2.951805,
            9.5591,
            0.41043,
            4.013051,
            3.2645120000000003,
            0.4398,
            0.388507,
            0.5469080000000001,
            3.1586770000000004,
            2.535116,
            1.048039,
            0.325659,
            2.50181,
            1.776826,
            0.50419,
            6.759386000000001,
            2.194493
           ]
          }
         ],
         "name": "2017"
        },
        {
         "data": [
          {
           "coloraxis": "coloraxis",
           "customdata": [
            [
             "Algeria",
             0.042965
            ],
            [
             "Argentina",
             2.962767
            ],
            [
             "Australia",
             5.587851
            ],
            [
             "Bangladesh",
             0.018112
            ],
            [
             "Brazil",
             7.046457
            ],
            [
             "China",
             3.216635
            ],
            [
             "Denmark",
             9.036414
            ],
            [
             "Egypt",
             0.4268949999999999
            ],
            [
             "France",
             4.7488220000000005
            ],
            [
             "Greece",
             3.81439
            ],
            [
             "India",
             0.483233
            ],
            [
             "Indonesia",
             0.419524
            ],
            [
             "Iran",
             0.361036
            ],
            [
             "Japan",
             3.4734360000000004
            ],
            [
             "Luxembourg",
             2.816547
            ],
            [
             "Mexico",
             1.116305
            ],
            [
             "Morocco",
             0.447308
            ],
            [
             "Peru",
             2.659487
            ],
            [
             "Poland",
             1.698895
            ],
            [
             "South Africa",
             0.559766
            ],
            [
             "United States",
             6.8739040000000005
            ],
            [
             "World",
             2.298676
            ]
           ],
           "geo": "geo",
           "hovertemplate": "Year=2018<br>Code=%{location}<br>Country Name=%{customdata[0]}<br>Renewables per capita (kWh)=%{z}<extra></extra>",
           "locations": [
            "DZA",
            "ARG",
            "AUS",
            "BGD",
            "BRA",
            "CHN",
            "DNK",
            "EGY",
            "FRA",
            "GRC",
            "IND",
            "IDN",
            "IRN",
            "JPN",
            "LUX",
            "MEX",
            "MAR",
            "PER",
            "POL",
            "ZAF",
            "USA",
            "OWID_WRL"
           ],
           "name": "",
           "type": "choropleth",
           "z": [
            0.042965,
            2.962767,
            5.587851,
            0.018112,
            7.046457,
            3.216635,
            9.036414,
            0.4268949999999999,
            4.7488220000000005,
            3.81439,
            0.483233,
            0.419524,
            0.361036,
            3.4734360000000004,
            2.816547,
            1.116305,
            0.447308,
            2.659487,
            1.698895,
            0.559766,
            6.8739040000000005,
            2.298676
           ]
          }
         ],
         "name": "2018"
        },
        {
         "data": [
          {
           "coloraxis": "coloraxis",
           "customdata": [
            [
             "Algeria",
             0.044661
            ],
            [
             "Argentina",
             2.91184
            ],
            [
             "Australia",
             6.052054
            ],
            [
             "Bangladesh",
             0.019083
            ],
            [
             "Brazil",
             7.348965000000001
            ],
            [
             "China",
             3.476801
            ],
            [
             "Denmark",
             10.115041
            ],
            [
             "Egypt",
             0.489865
            ],
            [
             "France",
             4.843653000000001
            ],
            [
             "Greece",
             3.680052
            ],
            [
             "India",
             0.538772
            ],
            [
             "Indonesia",
             0.557044
            ],
            [
             "Iran",
             0.881481
            ],
            [
             "Japan",
             3.807995
            ],
            [
             "Luxembourg",
             3.1132660000000003
            ],
            [
             "Mexico",
             1.213589
            ],
            [
             "Morocco",
             0.5121509999999999
            ],
            [
             "Peru",
             2.712196
            ],
            [
             "Poland",
             1.938471
            ],
            [
             "South Africa",
             0.5661470000000001
            ],
            [
             "United States",
             6.960604
            ],
            [
             "World",
             2.398941
            ]
           ],
           "geo": "geo",
           "hovertemplate": "Year=2019<br>Code=%{location}<br>Country Name=%{customdata[0]}<br>Renewables per capita (kWh)=%{z}<extra></extra>",
           "locations": [
            "DZA",
            "ARG",
            "AUS",
            "BGD",
            "BRA",
            "CHN",
            "DNK",
            "EGY",
            "FRA",
            "GRC",
            "IND",
            "IDN",
            "IRN",
            "JPN",
            "LUX",
            "MEX",
            "MAR",
            "PER",
            "POL",
            "ZAF",
            "USA",
            "OWID_WRL"
           ],
           "name": "",
           "type": "choropleth",
           "z": [
            0.044661,
            2.91184,
            6.052054,
            0.019083,
            7.348965000000001,
            3.476801,
            10.115041,
            0.489865,
            4.843653000000001,
            3.680052,
            0.538772,
            0.557044,
            0.881481,
            3.807995,
            3.1132660000000003,
            1.213589,
            0.5121509999999999,
            2.712196,
            1.938471,
            0.5661470000000001,
            6.960604,
            2.398941
           ]
          }
         ],
         "name": "2019"
        }
       ],
       "layout": {
        "coloraxis": {
         "colorbar": {
          "title": {
           "text": "Renewables per capita (kWh)"
          }
         },
         "colorscale": [
          [
           0,
           "#0d0887"
          ],
          [
           0.1111111111111111,
           "#46039f"
          ],
          [
           0.2222222222222222,
           "#7201a8"
          ],
          [
           0.3333333333333333,
           "#9c179e"
          ],
          [
           0.4444444444444444,
           "#bd3786"
          ],
          [
           0.5555555555555556,
           "#d8576b"
          ],
          [
           0.6666666666666666,
           "#ed7953"
          ],
          [
           0.7777777777777778,
           "#fb9f3a"
          ],
          [
           0.8888888888888888,
           "#fdca26"
          ],
          [
           1,
           "#f0f921"
          ]
         ]
        },
        "geo": {
         "center": {},
         "domain": {
          "x": [
           0,
           1
          ],
          "y": [
           0,
           1
          ]
         }
        },
        "legend": {
         "tracegroupgap": 0
        },
        "sliders": [
         {
          "active": 0,
          "currentvalue": {
           "prefix": "Year="
          },
          "len": 0.9,
          "pad": {
           "b": 10,
           "t": 60
          },
          "steps": [
           {
            "args": [
             [
              "1999"
             ],
             {
              "frame": {
               "duration": 0,
               "redraw": true
              },
              "fromcurrent": true,
              "mode": "immediate",
              "transition": {
               "duration": 0,
               "easing": "linear"
              }
             }
            ],
            "label": "1999",
            "method": "animate"
           },
           {
            "args": [
             [
              "2000"
             ],
             {
              "frame": {
               "duration": 0,
               "redraw": true
              },
              "fromcurrent": true,
              "mode": "immediate",
              "transition": {
               "duration": 0,
               "easing": "linear"
              }
             }
            ],
            "label": "2000",
            "method": "animate"
           },
           {
            "args": [
             [
              "2001"
             ],
             {
              "frame": {
               "duration": 0,
               "redraw": true
              },
              "fromcurrent": true,
              "mode": "immediate",
              "transition": {
               "duration": 0,
               "easing": "linear"
              }
             }
            ],
            "label": "2001",
            "method": "animate"
           },
           {
            "args": [
             [
              "2002"
             ],
             {
              "frame": {
               "duration": 0,
               "redraw": true
              },
              "fromcurrent": true,
              "mode": "immediate",
              "transition": {
               "duration": 0,
               "easing": "linear"
              }
             }
            ],
            "label": "2002",
            "method": "animate"
           },
           {
            "args": [
             [
              "2003"
             ],
             {
              "frame": {
               "duration": 0,
               "redraw": true
              },
              "fromcurrent": true,
              "mode": "immediate",
              "transition": {
               "duration": 0,
               "easing": "linear"
              }
             }
            ],
            "label": "2003",
            "method": "animate"
           },
           {
            "args": [
             [
              "2004"
             ],
             {
              "frame": {
               "duration": 0,
               "redraw": true
              },
              "fromcurrent": true,
              "mode": "immediate",
              "transition": {
               "duration": 0,
               "easing": "linear"
              }
             }
            ],
            "label": "2004",
            "method": "animate"
           },
           {
            "args": [
             [
              "2005"
             ],
             {
              "frame": {
               "duration": 0,
               "redraw": true
              },
              "fromcurrent": true,
              "mode": "immediate",
              "transition": {
               "duration": 0,
               "easing": "linear"
              }
             }
            ],
            "label": "2005",
            "method": "animate"
           },
           {
            "args": [
             [
              "2006"
             ],
             {
              "frame": {
               "duration": 0,
               "redraw": true
              },
              "fromcurrent": true,
              "mode": "immediate",
              "transition": {
               "duration": 0,
               "easing": "linear"
              }
             }
            ],
            "label": "2006",
            "method": "animate"
           },
           {
            "args": [
             [
              "2007"
             ],
             {
              "frame": {
               "duration": 0,
               "redraw": true
              },
              "fromcurrent": true,
              "mode": "immediate",
              "transition": {
               "duration": 0,
               "easing": "linear"
              }
             }
            ],
            "label": "2007",
            "method": "animate"
           },
           {
            "args": [
             [
              "2008"
             ],
             {
              "frame": {
               "duration": 0,
               "redraw": true
              },
              "fromcurrent": true,
              "mode": "immediate",
              "transition": {
               "duration": 0,
               "easing": "linear"
              }
             }
            ],
            "label": "2008",
            "method": "animate"
           },
           {
            "args": [
             [
              "2009"
             ],
             {
              "frame": {
               "duration": 0,
               "redraw": true
              },
              "fromcurrent": true,
              "mode": "immediate",
              "transition": {
               "duration": 0,
               "easing": "linear"
              }
             }
            ],
            "label": "2009",
            "method": "animate"
           },
           {
            "args": [
             [
              "2010"
             ],
             {
              "frame": {
               "duration": 0,
               "redraw": true
              },
              "fromcurrent": true,
              "mode": "immediate",
              "transition": {
               "duration": 0,
               "easing": "linear"
              }
             }
            ],
            "label": "2010",
            "method": "animate"
           },
           {
            "args": [
             [
              "2011"
             ],
             {
              "frame": {
               "duration": 0,
               "redraw": true
              },
              "fromcurrent": true,
              "mode": "immediate",
              "transition": {
               "duration": 0,
               "easing": "linear"
              }
             }
            ],
            "label": "2011",
            "method": "animate"
           },
           {
            "args": [
             [
              "2012"
             ],
             {
              "frame": {
               "duration": 0,
               "redraw": true
              },
              "fromcurrent": true,
              "mode": "immediate",
              "transition": {
               "duration": 0,
               "easing": "linear"
              }
             }
            ],
            "label": "2012",
            "method": "animate"
           },
           {
            "args": [
             [
              "2013"
             ],
             {
              "frame": {
               "duration": 0,
               "redraw": true
              },
              "fromcurrent": true,
              "mode": "immediate",
              "transition": {
               "duration": 0,
               "easing": "linear"
              }
             }
            ],
            "label": "2013",
            "method": "animate"
           },
           {
            "args": [
             [
              "2014"
             ],
             {
              "frame": {
               "duration": 0,
               "redraw": true
              },
              "fromcurrent": true,
              "mode": "immediate",
              "transition": {
               "duration": 0,
               "easing": "linear"
              }
             }
            ],
            "label": "2014",
            "method": "animate"
           },
           {
            "args": [
             [
              "2015"
             ],
             {
              "frame": {
               "duration": 0,
               "redraw": true
              },
              "fromcurrent": true,
              "mode": "immediate",
              "transition": {
               "duration": 0,
               "easing": "linear"
              }
             }
            ],
            "label": "2015",
            "method": "animate"
           },
           {
            "args": [
             [
              "2016"
             ],
             {
              "frame": {
               "duration": 0,
               "redraw": true
              },
              "fromcurrent": true,
              "mode": "immediate",
              "transition": {
               "duration": 0,
               "easing": "linear"
              }
             }
            ],
            "label": "2016",
            "method": "animate"
           },
           {
            "args": [
             [
              "2017"
             ],
             {
              "frame": {
               "duration": 0,
               "redraw": true
              },
              "fromcurrent": true,
              "mode": "immediate",
              "transition": {
               "duration": 0,
               "easing": "linear"
              }
             }
            ],
            "label": "2017",
            "method": "animate"
           },
           {
            "args": [
             [
              "2018"
             ],
             {
              "frame": {
               "duration": 0,
               "redraw": true
              },
              "fromcurrent": true,
              "mode": "immediate",
              "transition": {
               "duration": 0,
               "easing": "linear"
              }
             }
            ],
            "label": "2018",
            "method": "animate"
           },
           {
            "args": [
             [
              "2019"
             ],
             {
              "frame": {
               "duration": 0,
               "redraw": true
              },
              "fromcurrent": true,
              "mode": "immediate",
              "transition": {
               "duration": 0,
               "easing": "linear"
              }
             }
            ],
            "label": "2019",
            "method": "animate"
           }
          ],
          "x": 0.1,
          "xanchor": "left",
          "y": 0,
          "yanchor": "top"
         }
        ],
        "template": {
         "data": {
          "bar": [
           {
            "error_x": {
             "color": "#2a3f5f"
            },
            "error_y": {
             "color": "#2a3f5f"
            },
            "marker": {
             "line": {
              "color": "#E5ECF6",
              "width": 0.5
             },
             "pattern": {
              "fillmode": "overlay",
              "size": 10,
              "solidity": 0.2
             }
            },
            "type": "bar"
           }
          ],
          "barpolar": [
           {
            "marker": {
             "line": {
              "color": "#E5ECF6",
              "width": 0.5
             },
             "pattern": {
              "fillmode": "overlay",
              "size": 10,
              "solidity": 0.2
             }
            },
            "type": "barpolar"
           }
          ],
          "carpet": [
           {
            "aaxis": {
             "endlinecolor": "#2a3f5f",
             "gridcolor": "white",
             "linecolor": "white",
             "minorgridcolor": "white",
             "startlinecolor": "#2a3f5f"
            },
            "baxis": {
             "endlinecolor": "#2a3f5f",
             "gridcolor": "white",
             "linecolor": "white",
             "minorgridcolor": "white",
             "startlinecolor": "#2a3f5f"
            },
            "type": "carpet"
           }
          ],
          "choropleth": [
           {
            "colorbar": {
             "outlinewidth": 0,
             "ticks": ""
            },
            "type": "choropleth"
           }
          ],
          "contour": [
           {
            "colorbar": {
             "outlinewidth": 0,
             "ticks": ""
            },
            "colorscale": [
             [
              0,
              "#0d0887"
             ],
             [
              0.1111111111111111,
              "#46039f"
             ],
             [
              0.2222222222222222,
              "#7201a8"
             ],
             [
              0.3333333333333333,
              "#9c179e"
             ],
             [
              0.4444444444444444,
              "#bd3786"
             ],
             [
              0.5555555555555556,
              "#d8576b"
             ],
             [
              0.6666666666666666,
              "#ed7953"
             ],
             [
              0.7777777777777778,
              "#fb9f3a"
             ],
             [
              0.8888888888888888,
              "#fdca26"
             ],
             [
              1,
              "#f0f921"
             ]
            ],
            "type": "contour"
           }
          ],
          "contourcarpet": [
           {
            "colorbar": {
             "outlinewidth": 0,
             "ticks": ""
            },
            "type": "contourcarpet"
           }
          ],
          "heatmap": [
           {
            "colorbar": {
             "outlinewidth": 0,
             "ticks": ""
            },
            "colorscale": [
             [
              0,
              "#0d0887"
             ],
             [
              0.1111111111111111,
              "#46039f"
             ],
             [
              0.2222222222222222,
              "#7201a8"
             ],
             [
              0.3333333333333333,
              "#9c179e"
             ],
             [
              0.4444444444444444,
              "#bd3786"
             ],
             [
              0.5555555555555556,
              "#d8576b"
             ],
             [
              0.6666666666666666,
              "#ed7953"
             ],
             [
              0.7777777777777778,
              "#fb9f3a"
             ],
             [
              0.8888888888888888,
              "#fdca26"
             ],
             [
              1,
              "#f0f921"
             ]
            ],
            "type": "heatmap"
           }
          ],
          "heatmapgl": [
           {
            "colorbar": {
             "outlinewidth": 0,
             "ticks": ""
            },
            "colorscale": [
             [
              0,
              "#0d0887"
             ],
             [
              0.1111111111111111,
              "#46039f"
             ],
             [
              0.2222222222222222,
              "#7201a8"
             ],
             [
              0.3333333333333333,
              "#9c179e"
             ],
             [
              0.4444444444444444,
              "#bd3786"
             ],
             [
              0.5555555555555556,
              "#d8576b"
             ],
             [
              0.6666666666666666,
              "#ed7953"
             ],
             [
              0.7777777777777778,
              "#fb9f3a"
             ],
             [
              0.8888888888888888,
              "#fdca26"
             ],
             [
              1,
              "#f0f921"
             ]
            ],
            "type": "heatmapgl"
           }
          ],
          "histogram": [
           {
            "marker": {
             "pattern": {
              "fillmode": "overlay",
              "size": 10,
              "solidity": 0.2
             }
            },
            "type": "histogram"
           }
          ],
          "histogram2d": [
           {
            "colorbar": {
             "outlinewidth": 0,
             "ticks": ""
            },
            "colorscale": [
             [
              0,
              "#0d0887"
             ],
             [
              0.1111111111111111,
              "#46039f"
             ],
             [
              0.2222222222222222,
              "#7201a8"
             ],
             [
              0.3333333333333333,
              "#9c179e"
             ],
             [
              0.4444444444444444,
              "#bd3786"
             ],
             [
              0.5555555555555556,
              "#d8576b"
             ],
             [
              0.6666666666666666,
              "#ed7953"
             ],
             [
              0.7777777777777778,
              "#fb9f3a"
             ],
             [
              0.8888888888888888,
              "#fdca26"
             ],
             [
              1,
              "#f0f921"
             ]
            ],
            "type": "histogram2d"
           }
          ],
          "histogram2dcontour": [
           {
            "colorbar": {
             "outlinewidth": 0,
             "ticks": ""
            },
            "colorscale": [
             [
              0,
              "#0d0887"
             ],
             [
              0.1111111111111111,
              "#46039f"
             ],
             [
              0.2222222222222222,
              "#7201a8"
             ],
             [
              0.3333333333333333,
              "#9c179e"
             ],
             [
              0.4444444444444444,
              "#bd3786"
             ],
             [
              0.5555555555555556,
              "#d8576b"
             ],
             [
              0.6666666666666666,
              "#ed7953"
             ],
             [
              0.7777777777777778,
              "#fb9f3a"
             ],
             [
              0.8888888888888888,
              "#fdca26"
             ],
             [
              1,
              "#f0f921"
             ]
            ],
            "type": "histogram2dcontour"
           }
          ],
          "mesh3d": [
           {
            "colorbar": {
             "outlinewidth": 0,
             "ticks": ""
            },
            "type": "mesh3d"
           }
          ],
          "parcoords": [
           {
            "line": {
             "colorbar": {
              "outlinewidth": 0,
              "ticks": ""
             }
            },
            "type": "parcoords"
           }
          ],
          "pie": [
           {
            "automargin": true,
            "type": "pie"
           }
          ],
          "scatter": [
           {
            "fillpattern": {
             "fillmode": "overlay",
             "size": 10,
             "solidity": 0.2
            },
            "type": "scatter"
           }
          ],
          "scatter3d": [
           {
            "line": {
             "colorbar": {
              "outlinewidth": 0,
              "ticks": ""
             }
            },
            "marker": {
             "colorbar": {
              "outlinewidth": 0,
              "ticks": ""
             }
            },
            "type": "scatter3d"
           }
          ],
          "scattercarpet": [
           {
            "marker": {
             "colorbar": {
              "outlinewidth": 0,
              "ticks": ""
             }
            },
            "type": "scattercarpet"
           }
          ],
          "scattergeo": [
           {
            "marker": {
             "colorbar": {
              "outlinewidth": 0,
              "ticks": ""
             }
            },
            "type": "scattergeo"
           }
          ],
          "scattergl": [
           {
            "marker": {
             "colorbar": {
              "outlinewidth": 0,
              "ticks": ""
             }
            },
            "type": "scattergl"
           }
          ],
          "scattermapbox": [
           {
            "marker": {
             "colorbar": {
              "outlinewidth": 0,
              "ticks": ""
             }
            },
            "type": "scattermapbox"
           }
          ],
          "scatterpolar": [
           {
            "marker": {
             "colorbar": {
              "outlinewidth": 0,
              "ticks": ""
             }
            },
            "type": "scatterpolar"
           }
          ],
          "scatterpolargl": [
           {
            "marker": {
             "colorbar": {
              "outlinewidth": 0,
              "ticks": ""
             }
            },
            "type": "scatterpolargl"
           }
          ],
          "scatterternary": [
           {
            "marker": {
             "colorbar": {
              "outlinewidth": 0,
              "ticks": ""
             }
            },
            "type": "scatterternary"
           }
          ],
          "surface": [
           {
            "colorbar": {
             "outlinewidth": 0,
             "ticks": ""
            },
            "colorscale": [
             [
              0,
              "#0d0887"
             ],
             [
              0.1111111111111111,
              "#46039f"
             ],
             [
              0.2222222222222222,
              "#7201a8"
             ],
             [
              0.3333333333333333,
              "#9c179e"
             ],
             [
              0.4444444444444444,
              "#bd3786"
             ],
             [
              0.5555555555555556,
              "#d8576b"
             ],
             [
              0.6666666666666666,
              "#ed7953"
             ],
             [
              0.7777777777777778,
              "#fb9f3a"
             ],
             [
              0.8888888888888888,
              "#fdca26"
             ],
             [
              1,
              "#f0f921"
             ]
            ],
            "type": "surface"
           }
          ],
          "table": [
           {
            "cells": {
             "fill": {
              "color": "#EBF0F8"
             },
             "line": {
              "color": "white"
             }
            },
            "header": {
             "fill": {
              "color": "#C8D4E3"
             },
             "line": {
              "color": "white"
             }
            },
            "type": "table"
           }
          ]
         },
         "layout": {
          "annotationdefaults": {
           "arrowcolor": "#2a3f5f",
           "arrowhead": 0,
           "arrowwidth": 1
          },
          "autotypenumbers": "strict",
          "coloraxis": {
           "colorbar": {
            "outlinewidth": 0,
            "ticks": ""
           }
          },
          "colorscale": {
           "diverging": [
            [
             0,
             "#8e0152"
            ],
            [
             0.1,
             "#c51b7d"
            ],
            [
             0.2,
             "#de77ae"
            ],
            [
             0.3,
             "#f1b6da"
            ],
            [
             0.4,
             "#fde0ef"
            ],
            [
             0.5,
             "#f7f7f7"
            ],
            [
             0.6,
             "#e6f5d0"
            ],
            [
             0.7,
             "#b8e186"
            ],
            [
             0.8,
             "#7fbc41"
            ],
            [
             0.9,
             "#4d9221"
            ],
            [
             1,
             "#276419"
            ]
           ],
           "sequential": [
            [
             0,
             "#0d0887"
            ],
            [
             0.1111111111111111,
             "#46039f"
            ],
            [
             0.2222222222222222,
             "#7201a8"
            ],
            [
             0.3333333333333333,
             "#9c179e"
            ],
            [
             0.4444444444444444,
             "#bd3786"
            ],
            [
             0.5555555555555556,
             "#d8576b"
            ],
            [
             0.6666666666666666,
             "#ed7953"
            ],
            [
             0.7777777777777778,
             "#fb9f3a"
            ],
            [
             0.8888888888888888,
             "#fdca26"
            ],
            [
             1,
             "#f0f921"
            ]
           ],
           "sequentialminus": [
            [
             0,
             "#0d0887"
            ],
            [
             0.1111111111111111,
             "#46039f"
            ],
            [
             0.2222222222222222,
             "#7201a8"
            ],
            [
             0.3333333333333333,
             "#9c179e"
            ],
            [
             0.4444444444444444,
             "#bd3786"
            ],
            [
             0.5555555555555556,
             "#d8576b"
            ],
            [
             0.6666666666666666,
             "#ed7953"
            ],
            [
             0.7777777777777778,
             "#fb9f3a"
            ],
            [
             0.8888888888888888,
             "#fdca26"
            ],
            [
             1,
             "#f0f921"
            ]
           ]
          },
          "colorway": [
           "#636efa",
           "#EF553B",
           "#00cc96",
           "#ab63fa",
           "#FFA15A",
           "#19d3f3",
           "#FF6692",
           "#B6E880",
           "#FF97FF",
           "#FECB52"
          ],
          "font": {
           "color": "#2a3f5f"
          },
          "geo": {
           "bgcolor": "white",
           "lakecolor": "white",
           "landcolor": "#E5ECF6",
           "showlakes": true,
           "showland": true,
           "subunitcolor": "white"
          },
          "hoverlabel": {
           "align": "left"
          },
          "hovermode": "closest",
          "mapbox": {
           "style": "light"
          },
          "paper_bgcolor": "white",
          "plot_bgcolor": "#E5ECF6",
          "polar": {
           "angularaxis": {
            "gridcolor": "white",
            "linecolor": "white",
            "ticks": ""
           },
           "bgcolor": "#E5ECF6",
           "radialaxis": {
            "gridcolor": "white",
            "linecolor": "white",
            "ticks": ""
           }
          },
          "scene": {
           "xaxis": {
            "backgroundcolor": "#E5ECF6",
            "gridcolor": "white",
            "gridwidth": 2,
            "linecolor": "white",
            "showbackground": true,
            "ticks": "",
            "zerolinecolor": "white"
           },
           "yaxis": {
            "backgroundcolor": "#E5ECF6",
            "gridcolor": "white",
            "gridwidth": 2,
            "linecolor": "white",
            "showbackground": true,
            "ticks": "",
            "zerolinecolor": "white"
           },
           "zaxis": {
            "backgroundcolor": "#E5ECF6",
            "gridcolor": "white",
            "gridwidth": 2,
            "linecolor": "white",
            "showbackground": true,
            "ticks": "",
            "zerolinecolor": "white"
           }
          },
          "shapedefaults": {
           "line": {
            "color": "#2a3f5f"
           }
          },
          "ternary": {
           "aaxis": {
            "gridcolor": "white",
            "linecolor": "white",
            "ticks": ""
           },
           "baxis": {
            "gridcolor": "white",
            "linecolor": "white",
            "ticks": ""
           },
           "bgcolor": "#E5ECF6",
           "caxis": {
            "gridcolor": "white",
            "linecolor": "white",
            "ticks": ""
           }
          },
          "title": {
           "x": 0.05
          },
          "xaxis": {
           "automargin": true,
           "gridcolor": "white",
           "linecolor": "white",
           "ticks": "",
           "title": {
            "standoff": 15
           },
           "zerolinecolor": "white",
           "zerolinewidth": 2
          },
          "yaxis": {
           "automargin": true,
           "gridcolor": "white",
           "linecolor": "white",
           "ticks": "",
           "title": {
            "standoff": 15
           },
           "zerolinecolor": "white",
           "zerolinewidth": 2
          }
         }
        },
        "title": {
         "text": "Renewables per capita (kWh) of countries throughout the years"
        },
        "transition": {
         "duration": 10000
        },
        "updatemenus": [
         {
          "buttons": [
           {
            "args": [
             null,
             {
              "frame": {
               "duration": 500,
               "redraw": true
              },
              "fromcurrent": true,
              "mode": "immediate",
              "transition": {
               "duration": 500,
               "easing": "linear"
              }
             }
            ],
            "label": "&#9654;",
            "method": "animate"
           },
           {
            "args": [
             [
              null
             ],
             {
              "frame": {
               "duration": 0,
               "redraw": true
              },
              "fromcurrent": true,
              "mode": "immediate",
              "transition": {
               "duration": 0,
               "easing": "linear"
              }
             }
            ],
            "label": "&#9724;",
            "method": "animate"
           }
          ],
          "direction": "left",
          "pad": {
           "r": 10,
           "t": 70
          },
          "showactive": false,
          "type": "buttons",
          "x": 0.1,
          "xanchor": "right",
          "y": 0,
          "yanchor": "top"
         }
        ]
       }
      },
      "text/html": [
       "<div>                            <div id=\"56b1a2ee-9c1d-4fc7-81c3-a3f7b05fcc1c\" class=\"plotly-graph-div\" style=\"height:525px; width:100%;\"></div>            <script type=\"text/javascript\">                require([\"plotly\"], function(Plotly) {                    window.PLOTLYENV=window.PLOTLYENV || {};                                    if (document.getElementById(\"56b1a2ee-9c1d-4fc7-81c3-a3f7b05fcc1c\")) {                    Plotly.newPlot(                        \"56b1a2ee-9c1d-4fc7-81c3-a3f7b05fcc1c\",                        [{\"coloraxis\":\"coloraxis\",\"customdata\":[[\"Algeria\",0.018414],[\"Argentina\",2.073058],[\"Australia\",2.587144],[\"Bangladesh\",0.018483],[\"Brazil\",5.317034],[\"China\",0.432628],[\"Denmark\",2.285739],[\"Egypt\",0.55347],[\"France\",3.620868],[\"Greece\",1.19771],[\"India\",0.228492],[\"Indonesia\",0.190682],[\"Iran\",0.221962],[\"Japan\",2.193261],[\"Luxembourg\",0.785319],[\"Mexico\",1.105479],[\"Morocco\",0.080534],[\"Peru\",1.563708],[\"Poland\",0.169398],[\"South Africa\",0.057825],[\"United States\",3.993018],[\"World\",1.306271]],\"geo\":\"geo\",\"hovertemplate\":\"Year=1999<br>Code=%{location}<br>Country Name=%{customdata[0]}<br>Renewables per capita (kWh)=%{z}<extra></extra>\",\"locations\":[\"DZA\",\"ARG\",\"AUS\",\"BGD\",\"BRA\",\"CHN\",\"DNK\",\"EGY\",\"FRA\",\"GRC\",\"IND\",\"IDN\",\"IRN\",\"JPN\",\"LUX\",\"MEX\",\"MAR\",\"PER\",\"POL\",\"ZAF\",\"USA\",\"OWID_WRL\"],\"name\":\"\",\"z\":[0.018414,2.073058,2.587144,0.018483,5.317034,0.432628,2.285739,0.55347,3.620868,1.19771,0.228492,0.190682,0.221962,2.193261,0.785319,1.105479,0.080534,1.563708,0.169398,0.057825,3.993018,1.306271],\"type\":\"choropleth\"}],                        {\"template\":{\"data\":{\"histogram2dcontour\":[{\"type\":\"histogram2dcontour\",\"colorbar\":{\"outlinewidth\":0,\"ticks\":\"\"},\"colorscale\":[[0.0,\"#0d0887\"],[0.1111111111111111,\"#46039f\"],[0.2222222222222222,\"#7201a8\"],[0.3333333333333333,\"#9c179e\"],[0.4444444444444444,\"#bd3786\"],[0.5555555555555556,\"#d8576b\"],[0.6666666666666666,\"#ed7953\"],[0.7777777777777778,\"#fb9f3a\"],[0.8888888888888888,\"#fdca26\"],[1.0,\"#f0f921\"]]}],\"choropleth\":[{\"type\":\"choropleth\",\"colorbar\":{\"outlinewidth\":0,\"ticks\":\"\"}}],\"histogram2d\":[{\"type\":\"histogram2d\",\"colorbar\":{\"outlinewidth\":0,\"ticks\":\"\"},\"colorscale\":[[0.0,\"#0d0887\"],[0.1111111111111111,\"#46039f\"],[0.2222222222222222,\"#7201a8\"],[0.3333333333333333,\"#9c179e\"],[0.4444444444444444,\"#bd3786\"],[0.5555555555555556,\"#d8576b\"],[0.6666666666666666,\"#ed7953\"],[0.7777777777777778,\"#fb9f3a\"],[0.8888888888888888,\"#fdca26\"],[1.0,\"#f0f921\"]]}],\"heatmap\":[{\"type\":\"heatmap\",\"colorbar\":{\"outlinewidth\":0,\"ticks\":\"\"},\"colorscale\":[[0.0,\"#0d0887\"],[0.1111111111111111,\"#46039f\"],[0.2222222222222222,\"#7201a8\"],[0.3333333333333333,\"#9c179e\"],[0.4444444444444444,\"#bd3786\"],[0.5555555555555556,\"#d8576b\"],[0.6666666666666666,\"#ed7953\"],[0.7777777777777778,\"#fb9f3a\"],[0.8888888888888888,\"#fdca26\"],[1.0,\"#f0f921\"]]}],\"heatmapgl\":[{\"type\":\"heatmapgl\",\"colorbar\":{\"outlinewidth\":0,\"ticks\":\"\"},\"colorscale\":[[0.0,\"#0d0887\"],[0.1111111111111111,\"#46039f\"],[0.2222222222222222,\"#7201a8\"],[0.3333333333333333,\"#9c179e\"],[0.4444444444444444,\"#bd3786\"],[0.5555555555555556,\"#d8576b\"],[0.6666666666666666,\"#ed7953\"],[0.7777777777777778,\"#fb9f3a\"],[0.8888888888888888,\"#fdca26\"],[1.0,\"#f0f921\"]]}],\"contourcarpet\":[{\"type\":\"contourcarpet\",\"colorbar\":{\"outlinewidth\":0,\"ticks\":\"\"}}],\"contour\":[{\"type\":\"contour\",\"colorbar\":{\"outlinewidth\":0,\"ticks\":\"\"},\"colorscale\":[[0.0,\"#0d0887\"],[0.1111111111111111,\"#46039f\"],[0.2222222222222222,\"#7201a8\"],[0.3333333333333333,\"#9c179e\"],[0.4444444444444444,\"#bd3786\"],[0.5555555555555556,\"#d8576b\"],[0.6666666666666666,\"#ed7953\"],[0.7777777777777778,\"#fb9f3a\"],[0.8888888888888888,\"#fdca26\"],[1.0,\"#f0f921\"]]}],\"surface\":[{\"type\":\"surface\",\"colorbar\":{\"outlinewidth\":0,\"ticks\":\"\"},\"colorscale\":[[0.0,\"#0d0887\"],[0.1111111111111111,\"#46039f\"],[0.2222222222222222,\"#7201a8\"],[0.3333333333333333,\"#9c179e\"],[0.4444444444444444,\"#bd3786\"],[0.5555555555555556,\"#d8576b\"],[0.6666666666666666,\"#ed7953\"],[0.7777777777777778,\"#fb9f3a\"],[0.8888888888888888,\"#fdca26\"],[1.0,\"#f0f921\"]]}],\"mesh3d\":[{\"type\":\"mesh3d\",\"colorbar\":{\"outlinewidth\":0,\"ticks\":\"\"}}],\"scatter\":[{\"fillpattern\":{\"fillmode\":\"overlay\",\"size\":10,\"solidity\":0.2},\"type\":\"scatter\"}],\"parcoords\":[{\"type\":\"parcoords\",\"line\":{\"colorbar\":{\"outlinewidth\":0,\"ticks\":\"\"}}}],\"scatterpolargl\":[{\"type\":\"scatterpolargl\",\"marker\":{\"colorbar\":{\"outlinewidth\":0,\"ticks\":\"\"}}}],\"bar\":[{\"error_x\":{\"color\":\"#2a3f5f\"},\"error_y\":{\"color\":\"#2a3f5f\"},\"marker\":{\"line\":{\"color\":\"#E5ECF6\",\"width\":0.5},\"pattern\":{\"fillmode\":\"overlay\",\"size\":10,\"solidity\":0.2}},\"type\":\"bar\"}],\"scattergeo\":[{\"type\":\"scattergeo\",\"marker\":{\"colorbar\":{\"outlinewidth\":0,\"ticks\":\"\"}}}],\"scatterpolar\":[{\"type\":\"scatterpolar\",\"marker\":{\"colorbar\":{\"outlinewidth\":0,\"ticks\":\"\"}}}],\"histogram\":[{\"marker\":{\"pattern\":{\"fillmode\":\"overlay\",\"size\":10,\"solidity\":0.2}},\"type\":\"histogram\"}],\"scattergl\":[{\"type\":\"scattergl\",\"marker\":{\"colorbar\":{\"outlinewidth\":0,\"ticks\":\"\"}}}],\"scatter3d\":[{\"type\":\"scatter3d\",\"line\":{\"colorbar\":{\"outlinewidth\":0,\"ticks\":\"\"}},\"marker\":{\"colorbar\":{\"outlinewidth\":0,\"ticks\":\"\"}}}],\"scattermapbox\":[{\"type\":\"scattermapbox\",\"marker\":{\"colorbar\":{\"outlinewidth\":0,\"ticks\":\"\"}}}],\"scatterternary\":[{\"type\":\"scatterternary\",\"marker\":{\"colorbar\":{\"outlinewidth\":0,\"ticks\":\"\"}}}],\"scattercarpet\":[{\"type\":\"scattercarpet\",\"marker\":{\"colorbar\":{\"outlinewidth\":0,\"ticks\":\"\"}}}],\"carpet\":[{\"aaxis\":{\"endlinecolor\":\"#2a3f5f\",\"gridcolor\":\"white\",\"linecolor\":\"white\",\"minorgridcolor\":\"white\",\"startlinecolor\":\"#2a3f5f\"},\"baxis\":{\"endlinecolor\":\"#2a3f5f\",\"gridcolor\":\"white\",\"linecolor\":\"white\",\"minorgridcolor\":\"white\",\"startlinecolor\":\"#2a3f5f\"},\"type\":\"carpet\"}],\"table\":[{\"cells\":{\"fill\":{\"color\":\"#EBF0F8\"},\"line\":{\"color\":\"white\"}},\"header\":{\"fill\":{\"color\":\"#C8D4E3\"},\"line\":{\"color\":\"white\"}},\"type\":\"table\"}],\"barpolar\":[{\"marker\":{\"line\":{\"color\":\"#E5ECF6\",\"width\":0.5},\"pattern\":{\"fillmode\":\"overlay\",\"size\":10,\"solidity\":0.2}},\"type\":\"barpolar\"}],\"pie\":[{\"automargin\":true,\"type\":\"pie\"}]},\"layout\":{\"autotypenumbers\":\"strict\",\"colorway\":[\"#636efa\",\"#EF553B\",\"#00cc96\",\"#ab63fa\",\"#FFA15A\",\"#19d3f3\",\"#FF6692\",\"#B6E880\",\"#FF97FF\",\"#FECB52\"],\"font\":{\"color\":\"#2a3f5f\"},\"hovermode\":\"closest\",\"hoverlabel\":{\"align\":\"left\"},\"paper_bgcolor\":\"white\",\"plot_bgcolor\":\"#E5ECF6\",\"polar\":{\"bgcolor\":\"#E5ECF6\",\"angularaxis\":{\"gridcolor\":\"white\",\"linecolor\":\"white\",\"ticks\":\"\"},\"radialaxis\":{\"gridcolor\":\"white\",\"linecolor\":\"white\",\"ticks\":\"\"}},\"ternary\":{\"bgcolor\":\"#E5ECF6\",\"aaxis\":{\"gridcolor\":\"white\",\"linecolor\":\"white\",\"ticks\":\"\"},\"baxis\":{\"gridcolor\":\"white\",\"linecolor\":\"white\",\"ticks\":\"\"},\"caxis\":{\"gridcolor\":\"white\",\"linecolor\":\"white\",\"ticks\":\"\"}},\"coloraxis\":{\"colorbar\":{\"outlinewidth\":0,\"ticks\":\"\"}},\"colorscale\":{\"sequential\":[[0.0,\"#0d0887\"],[0.1111111111111111,\"#46039f\"],[0.2222222222222222,\"#7201a8\"],[0.3333333333333333,\"#9c179e\"],[0.4444444444444444,\"#bd3786\"],[0.5555555555555556,\"#d8576b\"],[0.6666666666666666,\"#ed7953\"],[0.7777777777777778,\"#fb9f3a\"],[0.8888888888888888,\"#fdca26\"],[1.0,\"#f0f921\"]],\"sequentialminus\":[[0.0,\"#0d0887\"],[0.1111111111111111,\"#46039f\"],[0.2222222222222222,\"#7201a8\"],[0.3333333333333333,\"#9c179e\"],[0.4444444444444444,\"#bd3786\"],[0.5555555555555556,\"#d8576b\"],[0.6666666666666666,\"#ed7953\"],[0.7777777777777778,\"#fb9f3a\"],[0.8888888888888888,\"#fdca26\"],[1.0,\"#f0f921\"]],\"diverging\":[[0,\"#8e0152\"],[0.1,\"#c51b7d\"],[0.2,\"#de77ae\"],[0.3,\"#f1b6da\"],[0.4,\"#fde0ef\"],[0.5,\"#f7f7f7\"],[0.6,\"#e6f5d0\"],[0.7,\"#b8e186\"],[0.8,\"#7fbc41\"],[0.9,\"#4d9221\"],[1,\"#276419\"]]},\"xaxis\":{\"gridcolor\":\"white\",\"linecolor\":\"white\",\"ticks\":\"\",\"title\":{\"standoff\":15},\"zerolinecolor\":\"white\",\"automargin\":true,\"zerolinewidth\":2},\"yaxis\":{\"gridcolor\":\"white\",\"linecolor\":\"white\",\"ticks\":\"\",\"title\":{\"standoff\":15},\"zerolinecolor\":\"white\",\"automargin\":true,\"zerolinewidth\":2},\"scene\":{\"xaxis\":{\"backgroundcolor\":\"#E5ECF6\",\"gridcolor\":\"white\",\"linecolor\":\"white\",\"showbackground\":true,\"ticks\":\"\",\"zerolinecolor\":\"white\",\"gridwidth\":2},\"yaxis\":{\"backgroundcolor\":\"#E5ECF6\",\"gridcolor\":\"white\",\"linecolor\":\"white\",\"showbackground\":true,\"ticks\":\"\",\"zerolinecolor\":\"white\",\"gridwidth\":2},\"zaxis\":{\"backgroundcolor\":\"#E5ECF6\",\"gridcolor\":\"white\",\"linecolor\":\"white\",\"showbackground\":true,\"ticks\":\"\",\"zerolinecolor\":\"white\",\"gridwidth\":2}},\"shapedefaults\":{\"line\":{\"color\":\"#2a3f5f\"}},\"annotationdefaults\":{\"arrowcolor\":\"#2a3f5f\",\"arrowhead\":0,\"arrowwidth\":1},\"geo\":{\"bgcolor\":\"white\",\"landcolor\":\"#E5ECF6\",\"subunitcolor\":\"white\",\"showland\":true,\"showlakes\":true,\"lakecolor\":\"white\"},\"title\":{\"x\":0.05},\"mapbox\":{\"style\":\"light\"}}},\"geo\":{\"domain\":{\"x\":[0.0,1.0],\"y\":[0.0,1.0]},\"center\":{}},\"coloraxis\":{\"colorbar\":{\"title\":{\"text\":\"Renewables per capita (kWh)\"}},\"colorscale\":[[0.0,\"#0d0887\"],[0.1111111111111111,\"#46039f\"],[0.2222222222222222,\"#7201a8\"],[0.3333333333333333,\"#9c179e\"],[0.4444444444444444,\"#bd3786\"],[0.5555555555555556,\"#d8576b\"],[0.6666666666666666,\"#ed7953\"],[0.7777777777777778,\"#fb9f3a\"],[0.8888888888888888,\"#fdca26\"],[1.0,\"#f0f921\"]]},\"legend\":{\"tracegroupgap\":0},\"title\":{\"text\":\"Renewables per capita (kWh) of countries throughout the years\"},\"updatemenus\":[{\"buttons\":[{\"args\":[null,{\"frame\":{\"duration\":500,\"redraw\":true},\"mode\":\"immediate\",\"fromcurrent\":true,\"transition\":{\"duration\":500,\"easing\":\"linear\"}}],\"label\":\"&#9654;\",\"method\":\"animate\"},{\"args\":[[null],{\"frame\":{\"duration\":0,\"redraw\":true},\"mode\":\"immediate\",\"fromcurrent\":true,\"transition\":{\"duration\":0,\"easing\":\"linear\"}}],\"label\":\"&#9724;\",\"method\":\"animate\"}],\"direction\":\"left\",\"pad\":{\"r\":10,\"t\":70},\"showactive\":false,\"type\":\"buttons\",\"x\":0.1,\"xanchor\":\"right\",\"y\":0,\"yanchor\":\"top\"}],\"sliders\":[{\"active\":0,\"currentvalue\":{\"prefix\":\"Year=\"},\"len\":0.9,\"pad\":{\"b\":10,\"t\":60},\"steps\":[{\"args\":[[\"1999\"],{\"frame\":{\"duration\":0,\"redraw\":true},\"mode\":\"immediate\",\"fromcurrent\":true,\"transition\":{\"duration\":0,\"easing\":\"linear\"}}],\"label\":\"1999\",\"method\":\"animate\"},{\"args\":[[\"2000\"],{\"frame\":{\"duration\":0,\"redraw\":true},\"mode\":\"immediate\",\"fromcurrent\":true,\"transition\":{\"duration\":0,\"easing\":\"linear\"}}],\"label\":\"2000\",\"method\":\"animate\"},{\"args\":[[\"2001\"],{\"frame\":{\"duration\":0,\"redraw\":true},\"mode\":\"immediate\",\"fromcurrent\":true,\"transition\":{\"duration\":0,\"easing\":\"linear\"}}],\"label\":\"2001\",\"method\":\"animate\"},{\"args\":[[\"2002\"],{\"frame\":{\"duration\":0,\"redraw\":true},\"mode\":\"immediate\",\"fromcurrent\":true,\"transition\":{\"duration\":0,\"easing\":\"linear\"}}],\"label\":\"2002\",\"method\":\"animate\"},{\"args\":[[\"2003\"],{\"frame\":{\"duration\":0,\"redraw\":true},\"mode\":\"immediate\",\"fromcurrent\":true,\"transition\":{\"duration\":0,\"easing\":\"linear\"}}],\"label\":\"2003\",\"method\":\"animate\"},{\"args\":[[\"2004\"],{\"frame\":{\"duration\":0,\"redraw\":true},\"mode\":\"immediate\",\"fromcurrent\":true,\"transition\":{\"duration\":0,\"easing\":\"linear\"}}],\"label\":\"2004\",\"method\":\"animate\"},{\"args\":[[\"2005\"],{\"frame\":{\"duration\":0,\"redraw\":true},\"mode\":\"immediate\",\"fromcurrent\":true,\"transition\":{\"duration\":0,\"easing\":\"linear\"}}],\"label\":\"2005\",\"method\":\"animate\"},{\"args\":[[\"2006\"],{\"frame\":{\"duration\":0,\"redraw\":true},\"mode\":\"immediate\",\"fromcurrent\":true,\"transition\":{\"duration\":0,\"easing\":\"linear\"}}],\"label\":\"2006\",\"method\":\"animate\"},{\"args\":[[\"2007\"],{\"frame\":{\"duration\":0,\"redraw\":true},\"mode\":\"immediate\",\"fromcurrent\":true,\"transition\":{\"duration\":0,\"easing\":\"linear\"}}],\"label\":\"2007\",\"method\":\"animate\"},{\"args\":[[\"2008\"],{\"frame\":{\"duration\":0,\"redraw\":true},\"mode\":\"immediate\",\"fromcurrent\":true,\"transition\":{\"duration\":0,\"easing\":\"linear\"}}],\"label\":\"2008\",\"method\":\"animate\"},{\"args\":[[\"2009\"],{\"frame\":{\"duration\":0,\"redraw\":true},\"mode\":\"immediate\",\"fromcurrent\":true,\"transition\":{\"duration\":0,\"easing\":\"linear\"}}],\"label\":\"2009\",\"method\":\"animate\"},{\"args\":[[\"2010\"],{\"frame\":{\"duration\":0,\"redraw\":true},\"mode\":\"immediate\",\"fromcurrent\":true,\"transition\":{\"duration\":0,\"easing\":\"linear\"}}],\"label\":\"2010\",\"method\":\"animate\"},{\"args\":[[\"2011\"],{\"frame\":{\"duration\":0,\"redraw\":true},\"mode\":\"immediate\",\"fromcurrent\":true,\"transition\":{\"duration\":0,\"easing\":\"linear\"}}],\"label\":\"2011\",\"method\":\"animate\"},{\"args\":[[\"2012\"],{\"frame\":{\"duration\":0,\"redraw\":true},\"mode\":\"immediate\",\"fromcurrent\":true,\"transition\":{\"duration\":0,\"easing\":\"linear\"}}],\"label\":\"2012\",\"method\":\"animate\"},{\"args\":[[\"2013\"],{\"frame\":{\"duration\":0,\"redraw\":true},\"mode\":\"immediate\",\"fromcurrent\":true,\"transition\":{\"duration\":0,\"easing\":\"linear\"}}],\"label\":\"2013\",\"method\":\"animate\"},{\"args\":[[\"2014\"],{\"frame\":{\"duration\":0,\"redraw\":true},\"mode\":\"immediate\",\"fromcurrent\":true,\"transition\":{\"duration\":0,\"easing\":\"linear\"}}],\"label\":\"2014\",\"method\":\"animate\"},{\"args\":[[\"2015\"],{\"frame\":{\"duration\":0,\"redraw\":true},\"mode\":\"immediate\",\"fromcurrent\":true,\"transition\":{\"duration\":0,\"easing\":\"linear\"}}],\"label\":\"2015\",\"method\":\"animate\"},{\"args\":[[\"2016\"],{\"frame\":{\"duration\":0,\"redraw\":true},\"mode\":\"immediate\",\"fromcurrent\":true,\"transition\":{\"duration\":0,\"easing\":\"linear\"}}],\"label\":\"2016\",\"method\":\"animate\"},{\"args\":[[\"2017\"],{\"frame\":{\"duration\":0,\"redraw\":true},\"mode\":\"immediate\",\"fromcurrent\":true,\"transition\":{\"duration\":0,\"easing\":\"linear\"}}],\"label\":\"2017\",\"method\":\"animate\"},{\"args\":[[\"2018\"],{\"frame\":{\"duration\":0,\"redraw\":true},\"mode\":\"immediate\",\"fromcurrent\":true,\"transition\":{\"duration\":0,\"easing\":\"linear\"}}],\"label\":\"2018\",\"method\":\"animate\"},{\"args\":[[\"2019\"],{\"frame\":{\"duration\":0,\"redraw\":true},\"mode\":\"immediate\",\"fromcurrent\":true,\"transition\":{\"duration\":0,\"easing\":\"linear\"}}],\"label\":\"2019\",\"method\":\"animate\"}],\"x\":0.1,\"xanchor\":\"left\",\"y\":0,\"yanchor\":\"top\"}],\"transition\":{\"duration\":10000}},                        {\"responsive\": true}                    ).then(function(){\n",
       "                            Plotly.addFrames('56b1a2ee-9c1d-4fc7-81c3-a3f7b05fcc1c', [{\"data\":[{\"coloraxis\":\"coloraxis\",\"customdata\":[[\"Algeria\",0.018414],[\"Argentina\",2.073058],[\"Australia\",2.587144],[\"Bangladesh\",0.018483],[\"Brazil\",5.317034],[\"China\",0.432628],[\"Denmark\",2.285739],[\"Egypt\",0.55347],[\"France\",3.620868],[\"Greece\",1.19771],[\"India\",0.228492],[\"Indonesia\",0.190682],[\"Iran\",0.221962],[\"Japan\",2.193261],[\"Luxembourg\",0.785319],[\"Mexico\",1.105479],[\"Morocco\",0.080534],[\"Peru\",1.563708],[\"Poland\",0.169398],[\"South Africa\",0.057825],[\"United States\",3.993018],[\"World\",1.306271]],\"geo\":\"geo\",\"hovertemplate\":\"Year=1999<br>Code=%{location}<br>Country Name=%{customdata[0]}<br>Renewables per capita (kWh)=%{z}<extra></extra>\",\"locations\":[\"DZA\",\"ARG\",\"AUS\",\"BGD\",\"BRA\",\"CHN\",\"DNK\",\"EGY\",\"FRA\",\"GRC\",\"IND\",\"IDN\",\"IRN\",\"JPN\",\"LUX\",\"MEX\",\"MAR\",\"PER\",\"POL\",\"ZAF\",\"USA\",\"OWID_WRL\"],\"name\":\"\",\"z\":[0.018414,2.073058,2.587144,0.018483,5.317034,0.432628,2.285739,0.55347,3.620868,1.19771,0.228492,0.190682,0.221962,2.193261,0.785319,1.105479,0.080534,1.563708,0.169398,0.057825,3.993018,1.306271],\"type\":\"choropleth\"}],\"name\":\"1999\"},{\"data\":[{\"coloraxis\":\"coloraxis\",\"customdata\":[[\"Algeria\",0.004832],[\"Argentina\",2.6175230000000003],[\"Australia\",2.565069],[\"Bangladesh\",0.016298],[\"Brazil\",5.349714],[\"China\",0.485493],[\"Denmark\",2.898027],[\"Egypt\",0.575423],[\"France\",3.329194],[\"Greece\",1.038722],[\"India\",0.211294],[\"Indonesia\",0.1955269999999999],[\"Iran\",0.161592],[\"Japan\",2.200724],[\"Luxembourg\",1.08715],[\"Mexico\",1.10829],[\"Morocco\",0.07544],[\"Peru\",1.714843],[\"Poland\",0.168005],[\"South Africa\",0.098082],[\"United States\",3.545591],[\"World\",1.3184380000000002]],\"geo\":\"geo\",\"hovertemplate\":\"Year=2000<br>Code=%{location}<br>Country Name=%{customdata[0]}<br>Renewables per capita (kWh)=%{z}<extra></extra>\",\"locations\":[\"DZA\",\"ARG\",\"AUS\",\"BGD\",\"BRA\",\"CHN\",\"DNK\",\"EGY\",\"FRA\",\"GRC\",\"IND\",\"IDN\",\"IRN\",\"JPN\",\"LUX\",\"MEX\",\"MAR\",\"PER\",\"POL\",\"ZAF\",\"USA\",\"OWID_WRL\"],\"name\":\"\",\"z\":[0.004832,2.6175230000000003,2.565069,0.016298,5.349714,0.485493,2.898027,0.575423,3.329194,1.038722,0.211294,0.1955269999999999,0.161592,2.200724,1.08715,1.10829,0.07544,1.714843,0.168005,0.098082,3.545591,1.3184380000000002],\"type\":\"choropleth\"}],\"name\":\"2000\"},{\"data\":[{\"coloraxis\":\"coloraxis\",\"customdata\":[[\"Algeria\",0.006054],[\"Argentina\",3.151093],[\"Australia\",2.4818490000000004],[\"Bangladesh\",0.0210659999999999],[\"Brazil\",4.674265999999999],[\"China\",0.596405],[\"Denmark\",3.0112910000000004],[\"Egypt\",0.5740879999999999],[\"France\",3.675663],[\"Greece\",0.7267440000000001],[\"India\",0.195901],[\"Indonesia\",0.2276709999999999],[\"Iran\",0.172593],[\"Japan\",2.12452],[\"Luxembourg\",1.051782],[\"Mexico\",0.955028],[\"Morocco\",0.101204],[\"Peru\",1.830869],[\"Poland\",0.199335],[\"South Africa\",0.130499],[\"United States\",2.904],[\"World\",1.268913]],\"geo\":\"geo\",\"hovertemplate\":\"Year=2001<br>Code=%{location}<br>Country Name=%{customdata[0]}<br>Renewables per capita (kWh)=%{z}<extra></extra>\",\"locations\":[\"DZA\",\"ARG\",\"AUS\",\"BGD\",\"BRA\",\"CHN\",\"DNK\",\"EGY\",\"FRA\",\"GRC\",\"IND\",\"IDN\",\"IRN\",\"JPN\",\"LUX\",\"MEX\",\"MAR\",\"PER\",\"POL\",\"ZAF\",\"USA\",\"OWID_WRL\"],\"name\":\"\",\"z\":[0.006054,3.151093,2.4818490000000004,0.0210659999999999,4.674265999999999,0.596405,3.0112910000000004,0.5740879999999999,3.675663,0.7267440000000001,0.195901,0.2276709999999999,0.172593,2.12452,1.051782,0.955028,0.101204,1.830869,0.199335,0.130499,2.904,1.268913],\"type\":\"choropleth\"}],\"name\":\"2001\"},{\"data\":[{\"coloraxis\":\"coloraxis\",\"customdata\":[[\"Algeria\",0.004906],[\"Argentina\",3.084571],[\"Australia\",2.537384],[\"Bangladesh\",0.015504],[\"Brazil\",4.929479000000001],[\"China\",0.611502],[\"Denmark\",3.46462],[\"Egypt\",0.5449740000000001],[\"France\",3.009317],[\"Greece\",0.877116],[\"India\",0.182817],[\"Indonesia\",0.204062],[\"Iran\",0.327733],[\"Japan\",2.114922],[\"Luxembourg\",0.934259],[\"Mexico\",0.8439070000000001],[\"Morocco\",0.09644],[\"Peru\",1.844143],[\"Poland\",0.19712],[\"South Africa\",0.151899],[\"United States\",3.427357],[\"World\",1.281657]],\"geo\":\"geo\",\"hovertemplate\":\"Year=2002<br>Code=%{location}<br>Country Name=%{customdata[0]}<br>Renewables per capita (kWh)=%{z}<extra></extra>\",\"locations\":[\"DZA\",\"ARG\",\"AUS\",\"BGD\",\"BRA\",\"CHN\",\"DNK\",\"EGY\",\"FRA\",\"GRC\",\"IND\",\"IDN\",\"IRN\",\"JPN\",\"LUX\",\"MEX\",\"MAR\",\"PER\",\"POL\",\"ZAF\",\"USA\",\"OWID_WRL\"],\"name\":\"\",\"z\":[0.004906,3.084571,2.537384,0.015504,4.929479000000001,0.611502,3.46462,0.5449740000000001,3.009317,0.877116,0.182817,0.204062,0.327733,2.114922,0.934259,0.8439070000000001,0.09644,1.844143,0.19712,0.151899,3.427357,1.281657],\"type\":\"choropleth\"}],\"name\":\"2002\"},{\"data\":[{\"coloraxis\":\"coloraxis\",\"customdata\":[[\"Algeria\",0.022377],[\"Argentina\",2.873439],[\"Australia\",2.591864],[\"Bangladesh\",0.015157],[\"Brazil\",5.137103],[\"China\",0.5962609999999999],[\"Denmark\",4.084698],[\"Egypt\",0.494774],[\"France\",2.910826],[\"Greece\",1.430781],[\"India\",0.183219],[\"Indonesia\",0.190449],[\"Iran\",0.384545],[\"Japan\",2.385596],[\"Luxembourg\",0.860204],[\"Mexico\",0.717852],[\"Morocco\",0.150439],[\"Peru\",1.864304],[\"Poland\",0.168454],[\"South Africa\",0.073225],[\"United States\",3.5523800000000003],[\"World\",1.268534]],\"geo\":\"geo\",\"hovertemplate\":\"Year=2003<br>Code=%{location}<br>Country Name=%{customdata[0]}<br>Renewables per capita (kWh)=%{z}<extra></extra>\",\"locations\":[\"DZA\",\"ARG\",\"AUS\",\"BGD\",\"BRA\",\"CHN\",\"DNK\",\"EGY\",\"FRA\",\"GRC\",\"IND\",\"IDN\",\"IRN\",\"JPN\",\"LUX\",\"MEX\",\"MAR\",\"PER\",\"POL\",\"ZAF\",\"USA\",\"OWID_WRL\"],\"name\":\"\",\"z\":[0.022377,2.873439,2.591864,0.015157,5.137103,0.5962609999999999,4.084698,0.494774,2.910826,1.430781,0.183219,0.190449,0.384545,2.385596,0.860204,0.717852,0.150439,1.864304,0.168454,0.073225,3.5523800000000003,1.268534],\"type\":\"choropleth\"}],\"name\":\"2003\"},{\"data\":[{\"coloraxis\":\"coloraxis\",\"customdata\":[[\"Algeria\",0.020784],[\"Argentina\",2.558176],[\"Australia\",2.637543],[\"Bangladesh\",0.014839],[\"Brazil\",5.320681],[\"China\",0.735486],[\"Denmark\",4.770811],[\"Egypt\",0.486736],[\"France\",2.916229],[\"Greece\",1.425667],[\"India\",0.26201],[\"Indonesia\",0.198093],[\"Iran\",0.470306],[\"Japan\",2.373987],[\"Luxembourg\",1.16923],[\"Mexico\",0.8497640000000001],[\"Morocco\",0.160928],[\"Peru\",1.732499],[\"Poland\",0.221029],[\"South Africa\",0.077809],[\"United States\",3.52631],[\"World\",1.348134]],\"geo\":\"geo\",\"hovertemplate\":\"Year=2004<br>Code=%{location}<br>Country Name=%{customdata[0]}<br>Renewables per capita (kWh)=%{z}<extra></extra>\",\"locations\":[\"DZA\",\"ARG\",\"AUS\",\"BGD\",\"BRA\",\"CHN\",\"DNK\",\"EGY\",\"FRA\",\"GRC\",\"IND\",\"IDN\",\"IRN\",\"JPN\",\"LUX\",\"MEX\",\"MAR\",\"PER\",\"POL\",\"ZAF\",\"USA\",\"OWID_WRL\"],\"name\":\"\",\"z\":[0.020784,2.558176,2.637543,0.014839,5.320681,0.735486,4.770811,0.486736,2.916229,1.425667,0.26201,0.198093,0.470306,2.373987,1.16923,0.8497640000000001,0.160928,1.732499,0.221029,0.077809,3.52631,1.348134],\"type\":\"choropleth\"}],\"name\":\"2004\"},{\"data\":[{\"coloraxis\":\"coloraxis\",\"customdata\":[[\"Algeria\",0.045058],[\"Argentina\",2.800738],[\"Australia\",2.765928],[\"Bangladesh\",0.014556],[\"Brazil\",5.520577],[\"China\",0.823615],[\"Denmark\",4.8682240000000006],[\"Egypt\",0.468535],[\"France\",2.587616],[\"Greece\",1.535086],[\"India\",0.252272],[\"Indonesia\",0.206119],[\"Iran\",0.559818],[\"Japan\",2.154558],[\"Luxembourg\",1.227775],[\"Mexico\",0.919985],[\"Morocco\",0.103432],[\"Peru\",1.769009],[\"Poland\",0.285209],[\"South Africa\",0.100348],[\"United States\",3.59805],[\"World\",1.384765]],\"geo\":\"geo\",\"hovertemplate\":\"Year=2005<br>Code=%{location}<br>Country Name=%{customdata[0]}<br>Renewables per capita (kWh)=%{z}<extra></extra>\",\"locations\":[\"DZA\",\"ARG\",\"AUS\",\"BGD\",\"BRA\",\"CHN\",\"DNK\",\"EGY\",\"FRA\",\"GRC\",\"IND\",\"IDN\",\"IRN\",\"JPN\",\"LUX\",\"MEX\",\"MAR\",\"PER\",\"POL\",\"ZAF\",\"USA\",\"OWID_WRL\"],\"name\":\"\",\"z\":[0.045058,2.800738,2.765928,0.014556,5.520577,0.823615,4.8682240000000006,0.468535,2.587616,1.535086,0.252272,0.206119,0.559818,2.154558,1.227775,0.919985,0.103432,1.769009,0.285209,0.100348,3.59805,1.384765],\"type\":\"choropleth\"}],\"name\":\"2005\"},{\"data\":[{\"coloraxis\":\"coloraxis\",\"customdata\":[[\"Algeria\",0.017289],[\"Argentina\",3.079184],[\"Australia\",2.798649],[\"Bangladesh\",0.01434],[\"Brazil\",5.580398000000001],[\"China\",0.9000130000000001],[\"Denmark\",4.518852],[\"Egypt\",0.465598],[\"France\",2.840119],[\"Greece\",1.835105],[\"India\",0.29296],[\"Indonesia\",0.190041],[\"Iran\",0.705959],[\"Japan\",2.382454],[\"Luxembourg\",1.4089120000000002],[\"Mexico\",0.953749],[\"Morocco\",0.101157],[\"Peru\",1.896952],[\"Poland\",0.327247],[\"South Africa\",0.183771],[\"United States\",3.933222],[\"World\",1.432626]],\"geo\":\"geo\",\"hovertemplate\":\"Year=2006<br>Code=%{location}<br>Country Name=%{customdata[0]}<br>Renewables per capita (kWh)=%{z}<extra></extra>\",\"locations\":[\"DZA\",\"ARG\",\"AUS\",\"BGD\",\"BRA\",\"CHN\",\"DNK\",\"EGY\",\"FRA\",\"GRC\",\"IND\",\"IDN\",\"IRN\",\"JPN\",\"LUX\",\"MEX\",\"MAR\",\"PER\",\"POL\",\"ZAF\",\"USA\",\"OWID_WRL\"],\"name\":\"\",\"z\":[0.017289,3.079184,2.798649,0.01434,5.580398000000001,0.9000130000000001,4.518852,0.465598,2.840119,1.835105,0.29296,0.190041,0.705959,2.382454,1.4089120000000002,0.953749,0.101157,1.896952,0.327247,0.183771,3.933222,1.432626],\"type\":\"choropleth\"}],\"name\":\"2006\"},{\"data\":[{\"coloraxis\":\"coloraxis\",\"customdata\":[[\"Algeria\",0.01757],[\"Argentina\",2.635797],[\"Australia\",2.749236],[\"Bangladesh\",0.014143],[\"Brazil\",6.0511490000000006],[\"China\",0.998242],[\"Denmark\",5.005097],[\"Egypt\",0.505267],[\"France\",3.092219],[\"Greece\",1.097376],[\"India\",0.318684],[\"Indonesia\",0.211243],[\"Iran\",0.673968],[\"Japan\",2.103606],[\"Luxembourg\",1.479426],[\"Mexico\",0.881394],[\"Morocco\",0.100662],[\"Peru\",1.87193],[\"Poland\",0.406387],[\"South Africa\",0.179979],[\"United States\",3.699545],[\"World\",1.465992]],\"geo\":\"geo\",\"hovertemplate\":\"Year=2007<br>Code=%{location}<br>Country Name=%{customdata[0]}<br>Renewables per capita (kWh)=%{z}<extra></extra>\",\"locations\":[\"DZA\",\"ARG\",\"AUS\",\"BGD\",\"BRA\",\"CHN\",\"DNK\",\"EGY\",\"FRA\",\"GRC\",\"IND\",\"IDN\",\"IRN\",\"JPN\",\"LUX\",\"MEX\",\"MAR\",\"PER\",\"POL\",\"ZAF\",\"USA\",\"OWID_WRL\"],\"name\":\"\",\"z\":[0.01757,2.635797,2.749236,0.014143,6.0511490000000006,0.998242,5.005097,0.505267,3.092219,1.097376,0.318684,0.211243,0.673968,2.103606,1.479426,0.881394,0.100662,1.87193,0.406387,0.179979,3.699545,1.465992],\"type\":\"choropleth\"}],\"name\":\"2007\"},{\"data\":[{\"coloraxis\":\"coloraxis\",\"customdata\":[[\"Algeria\",0.02151],[\"Argentina\",2.564317],[\"Australia\",2.77023],[\"Bangladesh\",0.017709],[\"Brazil\",6.113883],[\"China\",1.309142],[\"Denmark\",4.847771],[\"Egypt\",0.531269],[\"France\",3.556371],[\"Greece\",1.374872],[\"India\",0.305984],[\"Indonesia\",0.224298],[\"Iran\",0.279418],[\"Japan\",2.094658],[\"Luxembourg\",1.536946],[\"Mexico\",1.138339],[\"Morocco\",0.1016239999999999],[\"Peru\",1.804149],[\"Poland\",0.58905],[\"South Africa\",0.093248],[\"United States\",4.112739],[\"World\",1.559443]],\"geo\":\"geo\",\"hovertemplate\":\"Year=2008<br>Code=%{location}<br>Country Name=%{customdata[0]}<br>Renewables per capita (kWh)=%{z}<extra></extra>\",\"locations\":[\"DZA\",\"ARG\",\"AUS\",\"BGD\",\"BRA\",\"CHN\",\"DNK\",\"EGY\",\"FRA\",\"GRC\",\"IND\",\"IDN\",\"IRN\",\"JPN\",\"LUX\",\"MEX\",\"MAR\",\"PER\",\"POL\",\"ZAF\",\"USA\",\"OWID_WRL\"],\"name\":\"\",\"z\":[0.02151,2.564317,2.77023,0.017709,6.113883,1.309142,4.847771,0.531269,3.556371,1.374872,0.305984,0.224298,0.279418,2.094658,1.536946,1.138339,0.1016239999999999,1.804149,0.58905,0.093248,4.112739,1.559443],\"type\":\"choropleth\"}],\"name\":\"2008\"},{\"data\":[{\"coloraxis\":\"coloraxis\",\"customdata\":[[\"Algeria\",0.025393],[\"Argentina\",2.7573220000000003],[\"Australia\",3.014951],[\"Bangladesh\",0.008058],[\"Brazil\",6.4253800000000005],[\"China\",1.293615],[\"Denmark\",4.777585],[\"Egypt\",0.478935],[\"France\",3.372104],[\"Greece\",1.959395],[\"India\",0.289571],[\"Indonesia\",0.235594],[\"Iran\",0.250068],[\"Japan\",1.98491],[\"Luxembourg\",1.4136700000000002],[\"Mexico\",0.8239310000000001],[\"Morocco\",0.243169],[\"Peru\",1.855546],[\"Poland\",0.784357],[\"South Africa\",0.101557],[\"United States\",4.497078],[\"World\",1.574581]],\"geo\":\"geo\",\"hovertemplate\":\"Year=2009<br>Code=%{location}<br>Country Name=%{customdata[0]}<br>Renewables per capita (kWh)=%{z}<extra></extra>\",\"locations\":[\"DZA\",\"ARG\",\"AUS\",\"BGD\",\"BRA\",\"CHN\",\"DNK\",\"EGY\",\"FRA\",\"GRC\",\"IND\",\"IDN\",\"IRN\",\"JPN\",\"LUX\",\"MEX\",\"MAR\",\"PER\",\"POL\",\"ZAF\",\"USA\",\"OWID_WRL\"],\"name\":\"\",\"z\":[0.025393,2.7573220000000003,3.014951,0.008058,6.4253800000000005,1.293615,4.777585,0.478935,3.372104,1.959395,0.289571,0.235594,0.250068,1.98491,1.4136700000000002,0.8239310000000001,0.243169,1.855546,0.784357,0.101557,4.497078,1.574581],\"type\":\"choropleth\"}],\"name\":\"2009\"},{\"data\":[{\"coloraxis\":\"coloraxis\",\"customdata\":[[\"Algeria\",0.0131969999999999],[\"Argentina\",2.860631],[\"Australia\",3.471619],[\"Bangladesh\",0.013788],[\"Brazil\",6.6812510000000005],[\"China\",1.511048],[\"Denmark\",5.834372999999999],[\"Egypt\",0.453317],[\"France\",3.681379],[\"Greece\",2.519718],[\"India\",0.301345],[\"Indonesia\",0.298076],[\"Iran\",0.370156],[\"Japan\",2.398334],[\"Luxembourg\",1.375703],[\"Mexico\",1.058648],[\"Morocco\",0.332678],[\"Peru\",1.861686],[\"Poland\",0.937348],[\"South Africa\",0.081494],[\"United States\",4.648846],[\"World\",1.675008]],\"geo\":\"geo\",\"hovertemplate\":\"Year=2010<br>Code=%{location}<br>Country Name=%{customdata[0]}<br>Renewables per capita (kWh)=%{z}<extra></extra>\",\"locations\":[\"DZA\",\"ARG\",\"AUS\",\"BGD\",\"BRA\",\"CHN\",\"DNK\",\"EGY\",\"FRA\",\"GRC\",\"IND\",\"IDN\",\"IRN\",\"JPN\",\"LUX\",\"MEX\",\"MAR\",\"PER\",\"POL\",\"ZAF\",\"USA\",\"OWID_WRL\"],\"name\":\"\",\"z\":[0.0131969999999999,2.860631,3.471619,0.013788,6.6812510000000005,1.511048,5.834372999999999,0.453317,3.681379,2.519718,0.301345,0.298076,0.370156,2.398334,1.375703,1.058648,0.332678,1.861686,0.937348,0.081494,4.648846,1.675008],\"type\":\"choropleth\"}],\"name\":\"2010\"},{\"data\":[{\"coloraxis\":\"coloraxis\",\"customdata\":[[\"Algeria\",0.028001],[\"Argentina\",2.838265],[\"Australia\",4.418236],[\"Bangladesh\",0.016293],[\"Brazil\",6.855265],[\"China\",1.507158],[\"Denmark\",6.582503],[\"Egypt\",0.451569],[\"France\",3.070873],[\"Greece\",1.948684],[\"India\",0.360518],[\"Indonesia\",0.244972],[\"Iran\",0.37917],[\"Japan\",2.288779],[\"Luxembourg\",1.227192],[\"Mexico\",1.024666],[\"Morocco\",0.213257],[\"Peru\",1.968881],[\"Poland\",1.097759],[\"South Africa\",0.179053],[\"United States\",5.384592],[\"World\",1.727259]],\"geo\":\"geo\",\"hovertemplate\":\"Year=2011<br>Code=%{location}<br>Country Name=%{customdata[0]}<br>Renewables per capita (kWh)=%{z}<extra></extra>\",\"locations\":[\"DZA\",\"ARG\",\"AUS\",\"BGD\",\"BRA\",\"CHN\",\"DNK\",\"EGY\",\"FRA\",\"GRC\",\"IND\",\"IDN\",\"IRN\",\"JPN\",\"LUX\",\"MEX\",\"MAR\",\"PER\",\"POL\",\"ZAF\",\"USA\",\"OWID_WRL\"],\"name\":\"\",\"z\":[0.028001,2.838265,4.418236,0.016293,6.855265,1.507158,6.582503,0.451569,3.070873,1.948684,0.360518,0.244972,0.37917,2.288779,1.227192,1.024666,0.213257,1.968881,1.097759,0.179053,5.384592,1.727259],\"type\":\"choropleth\"}],\"name\":\"2011\"},{\"data\":[{\"coloraxis\":\"coloraxis\",\"customdata\":[[\"Algeria\",0.028643],[\"Argentina\",2.709964],[\"Australia\",4.1904200000000005],[\"Bangladesh\",0.014959],[\"Brazil\",6.619196],[\"China\",1.877702],[\"Denmark\",6.811133],[\"Egypt\",0.44313],[\"France\",3.83187],[\"Greece\",2.4252420000000003],[\"India\",0.336762],[\"Indonesia\",0.256406],[\"Iran\",0.434053],[\"Japan\",2.232896],[\"Luxembourg\",1.494309],[\"Mexico\",0.942592],[\"Morocco\",0.1827949999999999],[\"Peru\",1.986862],[\"Poland\",1.368291],[\"South Africa\",0.076255],[\"United States\",5.188684],[\"World\",1.810606]],\"geo\":\"geo\",\"hovertemplate\":\"Year=2012<br>Code=%{location}<br>Country Name=%{customdata[0]}<br>Renewables per capita (kWh)=%{z}<extra></extra>\",\"locations\":[\"DZA\",\"ARG\",\"AUS\",\"BGD\",\"BRA\",\"CHN\",\"DNK\",\"EGY\",\"FRA\",\"GRC\",\"IND\",\"IDN\",\"IRN\",\"JPN\",\"LUX\",\"MEX\",\"MAR\",\"PER\",\"POL\",\"ZAF\",\"USA\",\"OWID_WRL\"],\"name\":\"\",\"z\":[0.028643,2.709964,4.1904200000000005,0.014959,6.619196,1.877702,6.811133,0.44313,3.83187,2.4252420000000003,0.336762,0.256406,0.434053,2.232896,1.494309,0.942592,0.1827949999999999,1.986862,1.368291,0.076255,5.188684,1.810606],\"type\":\"choropleth\"}],\"name\":\"2012\"},{\"data\":[{\"coloraxis\":\"coloraxis\",\"customdata\":[[\"Algeria\",0.008565],[\"Argentina\",2.932792],[\"Australia\",4.645385],[\"Bangladesh\",0.014548],[\"Brazil\",6.427952],[\"China\",2.031559],[\"Denmark\",7.251027],[\"Egypt\",0.4297289999999999],[\"France\",4.356782],[\"Greece\",3.420252],[\"India\",0.376177],[\"Indonesia\",0.306826],[\"Iran\",0.497283],[\"Japan\",2.405333],[\"Luxembourg\",1.745355],[\"Mexico\",0.864516],[\"Morocco\",0.303742],[\"Peru\",2.018829],[\"Poland\",1.370504],[\"South Africa\",0.088777],[\"United States\",5.454616],[\"World\",1.907451]],\"geo\":\"geo\",\"hovertemplate\":\"Year=2013<br>Code=%{location}<br>Country Name=%{customdata[0]}<br>Renewables per capita (kWh)=%{z}<extra></extra>\",\"locations\":[\"DZA\",\"ARG\",\"AUS\",\"BGD\",\"BRA\",\"CHN\",\"DNK\",\"EGY\",\"FRA\",\"GRC\",\"IND\",\"IDN\",\"IRN\",\"JPN\",\"LUX\",\"MEX\",\"MAR\",\"PER\",\"POL\",\"ZAF\",\"USA\",\"OWID_WRL\"],\"name\":\"\",\"z\":[0.008565,2.932792,4.645385,0.014548,6.427952,2.031559,7.251027,0.4297289999999999,4.356782,3.420252,0.376177,0.306826,0.497283,2.405333,1.745355,0.864516,0.303742,2.018829,1.370504,0.088777,5.454616,1.907451],\"type\":\"choropleth\"}],\"name\":\"2013\"},{\"data\":[{\"coloraxis\":\"coloraxis\",\"customdata\":[[\"Algeria\",0.016607],[\"Argentina\",2.945296],[\"Australia\",4.226812],[\"Bangladesh\",0.012262],[\"Brazil\",6.353726],[\"China\",2.371355],[\"Denmark\",8.083590000000001],[\"Egypt\",0.415254],[\"France\",4.149449],[\"Greece\",2.895935],[\"India\",0.397351],[\"Indonesia\",0.3187629999999999],[\"Iran\",0.484534],[\"Japan\",2.658675],[\"Luxembourg\",1.823303],[\"Mexico\",1.129981],[\"Morocco\",0.2650679999999999],[\"Peru\",2.02633],[\"Poland\",1.540532],[\"South Africa\",0.206049],[\"United States\",5.563348],[\"World\",1.96872]],\"geo\":\"geo\",\"hovertemplate\":\"Year=2014<br>Code=%{location}<br>Country Name=%{customdata[0]}<br>Renewables per capita (kWh)=%{z}<extra></extra>\",\"locations\":[\"DZA\",\"ARG\",\"AUS\",\"BGD\",\"BRA\",\"CHN\",\"DNK\",\"EGY\",\"FRA\",\"GRC\",\"IND\",\"IDN\",\"IRN\",\"JPN\",\"LUX\",\"MEX\",\"MAR\",\"PER\",\"POL\",\"ZAF\",\"USA\",\"OWID_WRL\"],\"name\":\"\",\"z\":[0.016607,2.945296,4.226812,0.012262,6.353726,2.371355,8.083590000000001,0.415254,4.149449,2.895935,0.397351,0.3187629999999999,0.484534,2.658675,1.823303,1.129981,0.2650679999999999,2.02633,1.540532,0.206049,5.563348,1.96872],\"type\":\"choropleth\"}],\"name\":\"2014\"},{\"data\":[{\"coloraxis\":\"coloraxis\",\"customdata\":[[\"Algeria\",0.014136],[\"Argentina\",2.985942],[\"Australia\",4.406212000000001],[\"Bangladesh\",0.01795],[\"Brazil\",6.420413],[\"China\",2.52211],[\"Denmark\",8.429234000000001],[\"Egypt\",0.4274529999999999],[\"France\",4.02145],[\"Greece\",3.5241080000000005],[\"India\",0.383997],[\"Indonesia\",0.2677219999999999],[\"Iran\",0.435486],[\"Japan\",3.044241],[\"Luxembourg\",1.922022],[\"Mexico\",0.999343],[\"Morocco\",0.321847],[\"Peru\",2.1103110000000003],[\"Poland\",1.710318],[\"South Africa\",0.321503],[\"United States\",5.6211340000000005],[\"World\",2.012209]],\"geo\":\"geo\",\"hovertemplate\":\"Year=2015<br>Code=%{location}<br>Country Name=%{customdata[0]}<br>Renewables per capita (kWh)=%{z}<extra></extra>\",\"locations\":[\"DZA\",\"ARG\",\"AUS\",\"BGD\",\"BRA\",\"CHN\",\"DNK\",\"EGY\",\"FRA\",\"GRC\",\"IND\",\"IDN\",\"IRN\",\"JPN\",\"LUX\",\"MEX\",\"MAR\",\"PER\",\"POL\",\"ZAF\",\"USA\",\"OWID_WRL\"],\"name\":\"\",\"z\":[0.014136,2.985942,4.406212000000001,0.01795,6.420413,2.52211,8.429234000000001,0.4274529999999999,4.02145,3.5241080000000005,0.383997,0.2677219999999999,0.435486,3.044241,1.922022,0.999343,0.321847,2.1103110000000003,1.710318,0.321503,5.6211340000000005,2.012209],\"type\":\"choropleth\"}],\"name\":\"2015\"},{\"data\":[{\"coloraxis\":\"coloraxis\",\"customdata\":[[\"Algeria\",0.02084],[\"Argentina\",2.732613],[\"Australia\",4.853733],[\"Bangladesh\",0.017671],[\"Brazil\",6.658975000000001],[\"China\",2.726705],[\"Denmark\",8.127734],[\"Egypt\",0.429562],[\"France\",4.295035],[\"Greece\",3.528294],[\"India\",0.396761],[\"Indonesia\",0.390277],[\"Iran\",0.496647],[\"Japan\",2.797594],[\"Luxembourg\",1.985789],[\"Mexico\",1.00983],[\"Morocco\",0.333433],[\"Peru\",2.0951280000000003],[\"Poland\",1.646162],[\"South Africa\",0.38568],[\"United States\",6.187854000000001],[\"World\",2.098487]],\"geo\":\"geo\",\"hovertemplate\":\"Year=2016<br>Code=%{location}<br>Country Name=%{customdata[0]}<br>Renewables per capita (kWh)=%{z}<extra></extra>\",\"locations\":[\"DZA\",\"ARG\",\"AUS\",\"BGD\",\"BRA\",\"CHN\",\"DNK\",\"EGY\",\"FRA\",\"GRC\",\"IND\",\"IDN\",\"IRN\",\"JPN\",\"LUX\",\"MEX\",\"MAR\",\"PER\",\"POL\",\"ZAF\",\"USA\",\"OWID_WRL\"],\"name\":\"\",\"z\":[0.02084,2.732613,4.853733,0.017671,6.658975000000001,2.726705,8.127734,0.429562,4.295035,3.528294,0.396761,0.390277,0.496647,2.797594,1.985789,1.00983,0.333433,2.0951280000000003,1.646162,0.38568,6.187854000000001,2.098487],\"type\":\"choropleth\"}],\"name\":\"2016\"},{\"data\":[{\"coloraxis\":\"coloraxis\",\"customdata\":[[\"Algeria\",0.034973],[\"Argentina\",2.962672],[\"Australia\",4.567292],[\"Bangladesh\",0.020613],[\"Brazil\",6.634846],[\"China\",2.951805],[\"Denmark\",9.5591],[\"Egypt\",0.41043],[\"France\",4.013051],[\"Greece\",3.2645120000000003],[\"India\",0.4398],[\"Indonesia\",0.388507],[\"Iran\",0.5469080000000001],[\"Japan\",3.1586770000000004],[\"Luxembourg\",2.535116],[\"Mexico\",1.048039],[\"Morocco\",0.325659],[\"Peru\",2.50181],[\"Poland\",1.776826],[\"South Africa\",0.50419],[\"United States\",6.759386000000001],[\"World\",2.194493]],\"geo\":\"geo\",\"hovertemplate\":\"Year=2017<br>Code=%{location}<br>Country Name=%{customdata[0]}<br>Renewables per capita (kWh)=%{z}<extra></extra>\",\"locations\":[\"DZA\",\"ARG\",\"AUS\",\"BGD\",\"BRA\",\"CHN\",\"DNK\",\"EGY\",\"FRA\",\"GRC\",\"IND\",\"IDN\",\"IRN\",\"JPN\",\"LUX\",\"MEX\",\"MAR\",\"PER\",\"POL\",\"ZAF\",\"USA\",\"OWID_WRL\"],\"name\":\"\",\"z\":[0.034973,2.962672,4.567292,0.020613,6.634846,2.951805,9.5591,0.41043,4.013051,3.2645120000000003,0.4398,0.388507,0.5469080000000001,3.1586770000000004,2.535116,1.048039,0.325659,2.50181,1.776826,0.50419,6.759386000000001,2.194493],\"type\":\"choropleth\"}],\"name\":\"2017\"},{\"data\":[{\"coloraxis\":\"coloraxis\",\"customdata\":[[\"Algeria\",0.042965],[\"Argentina\",2.962767],[\"Australia\",5.587851],[\"Bangladesh\",0.018112],[\"Brazil\",7.046457],[\"China\",3.216635],[\"Denmark\",9.036414],[\"Egypt\",0.4268949999999999],[\"France\",4.7488220000000005],[\"Greece\",3.81439],[\"India\",0.483233],[\"Indonesia\",0.419524],[\"Iran\",0.361036],[\"Japan\",3.4734360000000004],[\"Luxembourg\",2.816547],[\"Mexico\",1.116305],[\"Morocco\",0.447308],[\"Peru\",2.659487],[\"Poland\",1.698895],[\"South Africa\",0.559766],[\"United States\",6.8739040000000005],[\"World\",2.298676]],\"geo\":\"geo\",\"hovertemplate\":\"Year=2018<br>Code=%{location}<br>Country Name=%{customdata[0]}<br>Renewables per capita (kWh)=%{z}<extra></extra>\",\"locations\":[\"DZA\",\"ARG\",\"AUS\",\"BGD\",\"BRA\",\"CHN\",\"DNK\",\"EGY\",\"FRA\",\"GRC\",\"IND\",\"IDN\",\"IRN\",\"JPN\",\"LUX\",\"MEX\",\"MAR\",\"PER\",\"POL\",\"ZAF\",\"USA\",\"OWID_WRL\"],\"name\":\"\",\"z\":[0.042965,2.962767,5.587851,0.018112,7.046457,3.216635,9.036414,0.4268949999999999,4.7488220000000005,3.81439,0.483233,0.419524,0.361036,3.4734360000000004,2.816547,1.116305,0.447308,2.659487,1.698895,0.559766,6.8739040000000005,2.298676],\"type\":\"choropleth\"}],\"name\":\"2018\"},{\"data\":[{\"coloraxis\":\"coloraxis\",\"customdata\":[[\"Algeria\",0.044661],[\"Argentina\",2.91184],[\"Australia\",6.052054],[\"Bangladesh\",0.019083],[\"Brazil\",7.348965000000001],[\"China\",3.476801],[\"Denmark\",10.115041],[\"Egypt\",0.489865],[\"France\",4.843653000000001],[\"Greece\",3.680052],[\"India\",0.538772],[\"Indonesia\",0.557044],[\"Iran\",0.881481],[\"Japan\",3.807995],[\"Luxembourg\",3.1132660000000003],[\"Mexico\",1.213589],[\"Morocco\",0.5121509999999999],[\"Peru\",2.712196],[\"Poland\",1.938471],[\"South Africa\",0.5661470000000001],[\"United States\",6.960604],[\"World\",2.398941]],\"geo\":\"geo\",\"hovertemplate\":\"Year=2019<br>Code=%{location}<br>Country Name=%{customdata[0]}<br>Renewables per capita (kWh)=%{z}<extra></extra>\",\"locations\":[\"DZA\",\"ARG\",\"AUS\",\"BGD\",\"BRA\",\"CHN\",\"DNK\",\"EGY\",\"FRA\",\"GRC\",\"IND\",\"IDN\",\"IRN\",\"JPN\",\"LUX\",\"MEX\",\"MAR\",\"PER\",\"POL\",\"ZAF\",\"USA\",\"OWID_WRL\"],\"name\":\"\",\"z\":[0.044661,2.91184,6.052054,0.019083,7.348965000000001,3.476801,10.115041,0.489865,4.843653000000001,3.680052,0.538772,0.557044,0.881481,3.807995,3.1132660000000003,1.213589,0.5121509999999999,2.712196,1.938471,0.5661470000000001,6.960604,2.398941],\"type\":\"choropleth\"}],\"name\":\"2019\"}]);\n",
       "                        }).then(function(){\n",
       "                            \n",
       "var gd = document.getElementById('56b1a2ee-9c1d-4fc7-81c3-a3f7b05fcc1c');\n",
       "var x = new MutationObserver(function (mutations, observer) {{\n",
       "        var display = window.getComputedStyle(gd).display;\n",
       "        if (!display || display === 'none') {{\n",
       "            console.log([gd, 'removed!']);\n",
       "            Plotly.purge(gd);\n",
       "            observer.disconnect();\n",
       "        }}\n",
       "}});\n",
       "\n",
       "// Listen for the removal of the full notebook cells\n",
       "var notebookContainer = gd.closest('#notebook-container');\n",
       "if (notebookContainer) {{\n",
       "    x.observe(notebookContainer, {childList: true});\n",
       "}}\n",
       "\n",
       "// Listen for the clearing of the current output cell\n",
       "var outputEl = gd.closest('.output');\n",
       "if (outputEl) {{\n",
       "    x.observe(outputEl, {childList: true});\n",
       "}}\n",
       "\n",
       "                        })                };                });            </script>        </div>"
      ]
     },
     "metadata": {},
     "output_type": "display_data"
    }
   ],
   "source": [
    "import pandas as pd  #importing pandas library for data extraction and organisation \n",
    "import numpy as np  # importing numpy library  for calculations\n",
    "import plotly.express as px# importing plotly.express for animated graphs\n",
    "\n",
    "#importing data\n",
    "df= pd.read_csv(\"./per-capita-renewables.csv\") \n",
    "\n",
    "#renaming headers\n",
    "header_names=['Country Name','Code','Year','Renewables per capita (kWh)']\n",
    "df= pd.read_csv(\"./per-capita-renewables.csv\",header=None,skiprows=1,names=header_names) \n",
    "\n",
    "# excluding canada,norway,new zealand as mentioned before in previous code \n",
    "Countries_renewable=['United States','India','Algeria','Australia','Bangladesh','Brazil','China','Egypt','France','Indonesia','Japan','Luxembourg','Morocco','South Africa','World','Mexico','Denmark','Peru','Argentina','Poland','Greece','Iran']\n",
    "df_map1=df[df['Country Name'].isin(Countries_renewable)] \n",
    "\n",
    "# choosing recent years \n",
    "years_renewable=[i for i in range (1999,2020)]\n",
    "df_map1=df_map1[df_map1['Year'].isin(years_renewable)]\n",
    "\n",
    "#plotting the data on an animated world map \n",
    "fig=px.choropleth(df_map1,locations='Code',color='Renewables per capita (kWh)',hover_data=['Country Name','Renewables per capita (kWh)'],\n",
    "                  animation_frame=df_map1['Year'],\n",
    "                  title='Renewables per capita (kWh) of countries throughout the years',\n",
    "                  color_discrete_map=px.colors.sequential.Inferno)\n",
    "fig.update_layout(transition={'duration':10000})\n",
    "fig.show()"
   ]
  },
  {
   "cell_type": "code",
   "execution_count": 12,
   "id": "91ecb849",
   "metadata": {},
   "outputs": [
    {
     "data": {
      "application/vnd.plotly.v1+json": {
       "config": {
        "plotlyServerURL": "https://plot.ly"
       },
       "data": [
        {
         "coloraxis": "coloraxis",
         "customdata": [
          [
           "Algeria",
           1530
          ],
          [
           "Argentina",
           7580
          ],
          [
           "Australia",
           21440
          ],
          [
           "Bangladesh",
           420
          ],
          [
           "Brazil",
           4120
          ],
          [
           "Canada",
           21210
          ],
          [
           "China",
           860
          ],
          [
           "Denmark",
           33060
          ],
          [
           "Egypt",
           1310
          ],
          [
           "France",
           25420
          ],
          [
           "Greece",
           null
          ],
          [
           "India",
           440
          ],
          [
           "Indonesia",
           570
          ],
          [
           "Iran",
           1740
          ],
          [
           "Japan",
           34320
          ],
          [
           "Mexico",
           5510
          ],
          [
           "Morocco",
           1410
          ],
          [
           "New Zealand",
           15040
          ],
          [
           "Norway",
           35540
          ],
          [
           "Peru",
           2030
          ],
          [
           "Poland",
           4440
          ],
          [
           "South Africa",
           3480
          ],
          [
           "United States",
           33670
          ],
          [
           "World",
           5333.583867
          ]
         ],
         "geo": "geo",
         "hovertemplate": "Year=1999<br>Code=%{location}<br>Country Name=%{customdata[0]}<br>gni=%{z}<extra></extra>",
         "locations": [
          "DZA",
          "ARG",
          "AUS",
          "BGD",
          "BRA",
          "CAN",
          "CHN",
          "DNK",
          "EGY",
          "FRA",
          "GRC",
          "IND",
          "IDN",
          "IRN",
          "JPN",
          "MEX",
          "MAR",
          "NZL",
          "NOR",
          "PER",
          "POL",
          "ZAF",
          "USA",
          "OWID_WRL"
         ],
         "name": "",
         "type": "choropleth",
         "z": [
          1530,
          7580,
          21440,
          420,
          4120,
          21210,
          860,
          33060,
          1310,
          25420,
          null,
          440,
          570,
          1740,
          34320,
          5510,
          1410,
          15040,
          35540,
          2030,
          4440,
          3480,
          33670,
          5333.583867
         ]
        }
       ],
       "frames": [
        {
         "data": [
          {
           "coloraxis": "coloraxis",
           "customdata": [
            [
             "Algeria",
             1530
            ],
            [
             "Argentina",
             7580
            ],
            [
             "Australia",
             21440
            ],
            [
             "Bangladesh",
             420
            ],
            [
             "Brazil",
             4120
            ],
            [
             "Canada",
             21210
            ],
            [
             "China",
             860
            ],
            [
             "Denmark",
             33060
            ],
            [
             "Egypt",
             1310
            ],
            [
             "France",
             25420
            ],
            [
             "Greece",
             null
            ],
            [
             "India",
             440
            ],
            [
             "Indonesia",
             570
            ],
            [
             "Iran",
             1740
            ],
            [
             "Japan",
             34320
            ],
            [
             "Mexico",
             5510
            ],
            [
             "Morocco",
             1410
            ],
            [
             "New Zealand",
             15040
            ],
            [
             "Norway",
             35540
            ],
            [
             "Peru",
             2030
            ],
            [
             "Poland",
             4440
            ],
            [
             "South Africa",
             3480
            ],
            [
             "United States",
             33670
            ],
            [
             "World",
             5333.583867
            ]
           ],
           "geo": "geo",
           "hovertemplate": "Year=1999<br>Code=%{location}<br>Country Name=%{customdata[0]}<br>gni=%{z}<extra></extra>",
           "locations": [
            "DZA",
            "ARG",
            "AUS",
            "BGD",
            "BRA",
            "CAN",
            "CHN",
            "DNK",
            "EGY",
            "FRA",
            "GRC",
            "IND",
            "IDN",
            "IRN",
            "JPN",
            "MEX",
            "MAR",
            "NZL",
            "NOR",
            "PER",
            "POL",
            "ZAF",
            "USA",
            "OWID_WRL"
           ],
           "name": "",
           "type": "choropleth",
           "z": [
            1530,
            7580,
            21440,
            420,
            4120,
            21210,
            860,
            33060,
            1310,
            25420,
            null,
            440,
            570,
            1740,
            34320,
            5510,
            1410,
            15040,
            35540,
            2030,
            4440,
            3480,
            33670,
            5333.583867
           ]
          }
         ],
         "name": "1999"
        },
        {
         "data": [
          {
           "coloraxis": "coloraxis",
           "customdata": [
            [
             "Algeria",
             1590
            ],
            [
             "Argentina",
             7470
            ],
            [
             "Australia",
             21130
            ],
            [
             "Bangladesh",
             440
            ],
            [
             "Brazil",
             3930
            ],
            [
             "Canada",
             22620
            ],
            [
             "China",
             940
            ],
            [
             "Denmark",
             32580
            ],
            [
             "Egypt",
             1420
            ],
            [
             "France",
             24970
            ],
            [
             "Greece",
             null
            ],
            [
             "India",
             440
            ],
            [
             "Indonesia",
             580
            ],
            [
             "Iran",
             1760
            ],
            [
             "Japan",
             36810
            ],
            [
             "Mexico",
             6210
            ],
            [
             "Morocco",
             1390
            ],
            [
             "New Zealand",
             14080
            ],
            [
             "Norway",
             36540
            ],
            [
             "Peru",
             1970
            ],
            [
             "Poland",
             4670
            ],
            [
             "South Africa",
             3420
            ],
            [
             "United States",
             35960
            ],
            [
             "World",
             5520.322295
            ]
           ],
           "geo": "geo",
           "hovertemplate": "Year=2000<br>Code=%{location}<br>Country Name=%{customdata[0]}<br>gni=%{z}<extra></extra>",
           "locations": [
            "DZA",
            "ARG",
            "AUS",
            "BGD",
            "BRA",
            "CAN",
            "CHN",
            "DNK",
            "EGY",
            "FRA",
            "GRC",
            "IND",
            "IDN",
            "IRN",
            "JPN",
            "MEX",
            "MAR",
            "NZL",
            "NOR",
            "PER",
            "POL",
            "ZAF",
            "USA",
            "OWID_WRL"
           ],
           "name": "",
           "type": "choropleth",
           "z": [
            1590,
            7470,
            21130,
            440,
            3930,
            22620,
            940,
            32580,
            1420,
            24970,
            null,
            440,
            580,
            1760,
            36810,
            6210,
            1390,
            14080,
            36540,
            1970,
            4670,
            3420,
            35960,
            5520.322295
           ]
          }
         ],
         "name": "2000"
        },
        {
         "data": [
          {
           "coloraxis": "coloraxis",
           "customdata": [
            [
             "Algeria",
             1670
            ],
            [
             "Argentina",
             7000
            ],
            [
             "Australia",
             20160
            ],
            [
             "Bangladesh",
             440
            ],
            [
             "Brazil",
             3350
            ],
            [
             "Canada",
             23030
            ],
            [
             "China",
             1010
            ],
            [
             "Denmark",
             31410
            ],
            [
             "Egypt",
             1430
            ],
            [
             "France",
             23840
            ],
            [
             "Greece",
             null
            ],
            [
             "India",
             450
            ],
            [
             "Indonesia",
             720
            ],
            [
             "Iran",
             1790
            ],
            [
             "Japan",
             37380
            ],
            [
             "Mexico",
             6740
            ],
            [
             "Morocco",
             1400
            ],
            [
             "New Zealand",
             13810
            ],
            [
             "Norway",
             38220
            ],
            [
             "Peru",
             1900
            ],
            [
             "Poland",
             4710
            ],
            [
             "South Africa",
             3190
            ],
            [
             "United States",
             36720
            ],
            [
             "World",
             5498.241909
            ]
           ],
           "geo": "geo",
           "hovertemplate": "Year=2001<br>Code=%{location}<br>Country Name=%{customdata[0]}<br>gni=%{z}<extra></extra>",
           "locations": [
            "DZA",
            "ARG",
            "AUS",
            "BGD",
            "BRA",
            "CAN",
            "CHN",
            "DNK",
            "EGY",
            "FRA",
            "GRC",
            "IND",
            "IDN",
            "IRN",
            "JPN",
            "MEX",
            "MAR",
            "NZL",
            "NOR",
            "PER",
            "POL",
            "ZAF",
            "USA",
            "OWID_WRL"
           ],
           "name": "",
           "type": "choropleth",
           "z": [
            1670,
            7000,
            20160,
            440,
            3350,
            23030,
            1010,
            31410,
            1430,
            23840,
            null,
            450,
            720,
            1790,
            37380,
            6740,
            1400,
            13810,
            38220,
            1900,
            4710,
            3190,
            36720,
            5498.241909
           ]
          }
         ],
         "name": "2001"
        },
        {
         "data": [
          {
           "coloraxis": "coloraxis",
           "customdata": [
            [
             "Algeria",
             1730
            ],
            [
             "Argentina",
             4040
            ],
            [
             "Australia",
             20030
            ],
            [
             "Bangladesh",
             440
            ],
            [
             "Brazil",
             3100
            ],
            [
             "Canada",
             23610
            ],
            [
             "China",
             1110
            ],
            [
             "Denmark",
             30850
            ],
            [
             "Egypt",
             1330
            ],
            [
             "France",
             23090
            ],
            [
             "Greece",
             null
            ],
            [
             "India",
             460
            ],
            [
             "Indonesia",
             790
            ],
            [
             "Iran",
             1880
            ],
            [
             "Japan",
             35360
            ],
            [
             "Mexico",
             7100
            ],
            [
             "Morocco",
             1370
            ],
            [
             "New Zealand",
             14170
            ],
            [
             "Norway",
             39890
            ],
            [
             "Peru",
             1960
            ],
            [
             "Poland",
             4900
            ],
            [
             "South Africa",
             2990
            ],
            [
             "United States",
             37310
            ],
            [
             "World",
             5454.419028
            ]
           ],
           "geo": "geo",
           "hovertemplate": "Year=2002<br>Code=%{location}<br>Country Name=%{customdata[0]}<br>gni=%{z}<extra></extra>",
           "locations": [
            "DZA",
            "ARG",
            "AUS",
            "BGD",
            "BRA",
            "CAN",
            "CHN",
            "DNK",
            "EGY",
            "FRA",
            "GRC",
            "IND",
            "IDN",
            "IRN",
            "JPN",
            "MEX",
            "MAR",
            "NZL",
            "NOR",
            "PER",
            "POL",
            "ZAF",
            "USA",
            "OWID_WRL"
           ],
           "name": "",
           "type": "choropleth",
           "z": [
            1730,
            4040,
            20030,
            440,
            3100,
            23610,
            1110,
            30850,
            1330,
            23090,
            null,
            460,
            790,
            1880,
            35360,
            7100,
            1370,
            14170,
            39890,
            1960,
            4900,
            2990,
            37310,
            5454.419028
           ]
          }
         ],
         "name": "2002"
        },
        {
         "data": [
          {
           "coloraxis": "coloraxis",
           "customdata": [
            [
             "Algeria",
             1930
            ],
            [
             "Argentina",
             3650
            ],
            [
             "Australia",
             21170
            ],
            [
             "Bangladesh",
             460
            ],
            [
             "Brazil",
             2990
            ],
            [
             "Canada",
             25860
            ],
            [
             "China",
             1280
            ],
            [
             "Denmark",
             34750
            ],
            [
             "Egypt",
             1240
            ],
            [
             "France",
             25930
            ],
            [
             "Greece",
             null
            ],
            [
             "India",
             520
            ],
            [
             "Indonesia",
             900
            ],
            [
             "Iran",
             2200
            ],
            [
             "Japan",
             35660
            ],
            [
             "Mexico",
             7360
            ],
            [
             "Morocco",
             1540
            ],
            [
             "New Zealand",
             16960
            ],
            [
             "Norway",
             44750
            ],
            [
             "Peru",
             2080
            ],
            [
             "Poland",
             5500
            ],
            [
             "South Africa",
             3280
            ],
            [
             "United States",
             39780
            ],
            [
             "World",
             5854.965938
            ]
           ],
           "geo": "geo",
           "hovertemplate": "Year=2003<br>Code=%{location}<br>Country Name=%{customdata[0]}<br>gni=%{z}<extra></extra>",
           "locations": [
            "DZA",
            "ARG",
            "AUS",
            "BGD",
            "BRA",
            "CAN",
            "CHN",
            "DNK",
            "EGY",
            "FRA",
            "GRC",
            "IND",
            "IDN",
            "IRN",
            "JPN",
            "MEX",
            "MAR",
            "NZL",
            "NOR",
            "PER",
            "POL",
            "ZAF",
            "USA",
            "OWID_WRL"
           ],
           "name": "",
           "type": "choropleth",
           "z": [
            1930,
            3650,
            21170,
            460,
            2990,
            25860,
            1280,
            34750,
            1240,
            25930,
            null,
            520,
            900,
            2200,
            35660,
            7360,
            1540,
            16960,
            44750,
            2080,
            5500,
            3280,
            39780,
            5854.965938
           ]
          }
         ],
         "name": "2003"
        },
        {
         "data": [
          {
           "coloraxis": "coloraxis",
           "customdata": [
            [
             "Algeria",
             2250
            ],
            [
             "Argentina",
             3370
            ],
            [
             "Australia",
             25570
            ],
            [
             "Bangladesh",
             510
            ],
            [
             "Brazil",
             3350
            ],
            [
             "Canada",
             29900
            ],
            [
             "China",
             1510
            ],
            [
             "Denmark",
             42640
            ],
            [
             "Egypt",
             1200
            ],
            [
             "France",
             31360
            ],
            [
             "Greece",
             null
            ],
            [
             "India",
             610
            ],
            [
             "Indonesia",
             1080
            ],
            [
             "Iran",
             2520
            ],
            [
             "Japan",
             39000
            ],
            [
             "Mexico",
             7820
            ],
            [
             "Morocco",
             1830
            ],
            [
             "New Zealand",
             21500
            ],
            [
             "Norway",
             54140
            ],
            [
             "Peru",
             2280
            ],
            [
             "Poland",
             6250
            ],
            [
             "South Africa",
             4180
            ],
            [
             "United States",
             43520
            ],
            [
             "World",
             6672.135502
            ]
           ],
           "geo": "geo",
           "hovertemplate": "Year=2004<br>Code=%{location}<br>Country Name=%{customdata[0]}<br>gni=%{z}<extra></extra>",
           "locations": [
            "DZA",
            "ARG",
            "AUS",
            "BGD",
            "BRA",
            "CAN",
            "CHN",
            "DNK",
            "EGY",
            "FRA",
            "GRC",
            "IND",
            "IDN",
            "IRN",
            "JPN",
            "MEX",
            "MAR",
            "NZL",
            "NOR",
            "PER",
            "POL",
            "ZAF",
            "USA",
            "OWID_WRL"
           ],
           "name": "",
           "type": "choropleth",
           "z": [
            2250,
            3370,
            25570,
            510,
            3350,
            29900,
            1510,
            42640,
            1200,
            31360,
            null,
            610,
            1080,
            2520,
            39000,
            7820,
            1830,
            21500,
            54140,
            2280,
            6250,
            4180,
            43520,
            6672.135502
           ]
          }
         ],
         "name": "2004"
        },
        {
         "data": [
          {
           "coloraxis": "coloraxis",
           "customdata": [
            [
             "Algeria",
             2710
            ],
            [
             "Argentina",
             4260
            ],
            [
             "Australia",
             30390
            ],
            [
             "Bangladesh",
             550
            ],
            [
             "Brazil",
             4000
            ],
            [
             "Canada",
             34810
            ],
            [
             "China",
             1760
            ],
            [
             "Denmark",
             49610
            ],
            [
             "Egypt",
             1220
            ],
            [
             "France",
             35870
            ],
            [
             "Greece",
             null
            ],
            [
             "India",
             710
            ],
            [
             "Indonesia",
             1220
            ],
            [
             "Iran",
             2960
            ],
            [
             "Japan",
             41280
            ],
            [
             "Mexico",
             8050
            ],
            [
             "Morocco",
             2070
            ],
            [
             "New Zealand",
             25440
            ],
            [
             "Norway",
             63830
            ],
            [
             "Peru",
             2540
            ],
            [
             "Poland",
             7340
            ],
            [
             "South Africa",
             5610
            ],
            [
             "United States",
             46180
            ],
            [
             "World",
             7391.728076
            ]
           ],
           "geo": "geo",
           "hovertemplate": "Year=2005<br>Code=%{location}<br>Country Name=%{customdata[0]}<br>gni=%{z}<extra></extra>",
           "locations": [
            "DZA",
            "ARG",
            "AUS",
            "BGD",
            "BRA",
            "CAN",
            "CHN",
            "DNK",
            "EGY",
            "FRA",
            "GRC",
            "IND",
            "IDN",
            "IRN",
            "JPN",
            "MEX",
            "MAR",
            "NZL",
            "NOR",
            "PER",
            "POL",
            "ZAF",
            "USA",
            "OWID_WRL"
           ],
           "name": "",
           "type": "choropleth",
           "z": [
            2710,
            4260,
            30390,
            550,
            4000,
            34810,
            1760,
            49610,
            1220,
            35870,
            null,
            710,
            1220,
            2960,
            41280,
            8050,
            2070,
            25440,
            63830,
            2540,
            7340,
            5610,
            46180,
            7391.728076
           ]
          }
         ],
         "name": "2005"
        },
        {
         "data": [
          {
           "coloraxis": "coloraxis",
           "customdata": [
            [
             "Algeria",
             3110
            ],
            [
             "Argentina",
             5480
            ],
            [
             "Australia",
             34150
            ],
            [
             "Bangladesh",
             570
            ],
            [
             "Brazil",
             4850
            ],
            [
             "Canada",
             38510
            ],
            [
             "China",
             2060
            ],
            [
             "Denmark",
             53540
            ],
            [
             "Egypt",
             1320
            ],
            [
             "France",
             37850
            ],
            [
             "Greece",
             24550
            ],
            [
             "India",
             790
            ],
            [
             "Indonesia",
             1380
            ],
            [
             "Iran",
             3480
            ],
            [
             "Japan",
             40590
            ],
            [
             "Mexico",
             8690
            ],
            [
             "Morocco",
             2240
            ],
            [
             "New Zealand",
             26400
            ],
            [
             "Norway",
             70020
            ],
            [
             "Peru",
             2810
            ],
            [
             "Poland",
             8460
            ],
            [
             "South Africa",
             6310
            ],
            [
             "United States",
             47850
            ],
            [
             "World",
             7887.103333
            ]
           ],
           "geo": "geo",
           "hovertemplate": "Year=2006<br>Code=%{location}<br>Country Name=%{customdata[0]}<br>gni=%{z}<extra></extra>",
           "locations": [
            "DZA",
            "ARG",
            "AUS",
            "BGD",
            "BRA",
            "CAN",
            "CHN",
            "DNK",
            "EGY",
            "FRA",
            "GRC",
            "IND",
            "IDN",
            "IRN",
            "JPN",
            "MEX",
            "MAR",
            "NZL",
            "NOR",
            "PER",
            "POL",
            "ZAF",
            "USA",
            "OWID_WRL"
           ],
           "name": "",
           "type": "choropleth",
           "z": [
            3110,
            5480,
            34150,
            570,
            4850,
            38510,
            2060,
            53540,
            1320,
            37850,
            24550,
            790,
            1380,
            3480,
            40590,
            8690,
            2240,
            26400,
            70020,
            2810,
            8460,
            6310,
            47850,
            7887.103333
           ]
          }
         ],
         "name": "2006"
        },
        {
         "data": [
          {
           "coloraxis": "coloraxis",
           "customdata": [
            [
             "Algeria",
             3600
            ],
            [
             "Argentina",
             6510
            ],
            [
             "Australia",
             37340
            ],
            [
             "Bangladesh",
             610
            ],
            [
             "Brazil",
             6190
            ],
            [
             "Canada",
             43090
            ],
            [
             "China",
             2510
            ],
            [
             "Denmark",
             55740
            ],
            [
             "Egypt",
             1530
            ],
            [
             "France",
             40130
            ],
            [
             "Greece",
             26350
            ],
            [
             "India",
             910
            ],
            [
             "Indonesia",
             1600
            ],
            [
             "Iran",
             4270
            ],
            [
             "Japan",
             39310
            ],
            [
             "Mexico",
             9250
            ],
            [
             "Morocco",
             2380
            ],
            [
             "New Zealand",
             28150
            ],
            [
             "Norway",
             78470
            ],
            [
             "Peru",
             3210
            ],
            [
             "Poland",
             9940
            ],
            [
             "South Africa",
             6630
            ],
            [
             "United States",
             48520
            ],
            [
             "World",
             8407.423636
            ]
           ],
           "geo": "geo",
           "hovertemplate": "Year=2007<br>Code=%{location}<br>Country Name=%{customdata[0]}<br>gni=%{z}<extra></extra>",
           "locations": [
            "DZA",
            "ARG",
            "AUS",
            "BGD",
            "BRA",
            "CAN",
            "CHN",
            "DNK",
            "EGY",
            "FRA",
            "GRC",
            "IND",
            "IDN",
            "IRN",
            "JPN",
            "MEX",
            "MAR",
            "NZL",
            "NOR",
            "PER",
            "POL",
            "ZAF",
            "USA",
            "OWID_WRL"
           ],
           "name": "",
           "type": "choropleth",
           "z": [
            3600,
            6510,
            37340,
            610,
            6190,
            43090,
            2510,
            55740,
            1530,
            40130,
            26350,
            910,
            1600,
            4270,
            39310,
            9250,
            2380,
            28150,
            78470,
            3210,
            9940,
            6630,
            48520,
            8407.423636
           ]
          }
         ],
         "name": "2007"
        },
        {
         "data": [
          {
           "coloraxis": "coloraxis",
           "customdata": [
            [
             "Algeria",
             4210
            ],
            [
             "Argentina",
             7670
            ],
            [
             "Australia",
             42360
            ],
            [
             "Bangladesh",
             660
            ],
            [
             "Brazil",
             7620
            ],
            [
             "Canada",
             45650
            ],
            [
             "China",
             3100
            ],
            [
             "Denmark",
             60390
            ],
            [
             "Egypt",
             1840
            ],
            [
             "France",
             43460
            ],
            [
             "Greece",
             28660
            ],
            [
             "India",
             1000
            ],
            [
             "Indonesia",
             1940
            ],
            [
             "Iran",
             4970
            ],
            [
             "Japan",
             39380
            ],
            [
             "Mexico",
             9780
            ],
            [
             "Morocco",
             2700
            ],
            [
             "New Zealand",
             28630
            ],
            [
             "Norway",
             87470
            ],
            [
             "Peru",
             3790
            ],
            [
             "Poland",
             11980
            ],
            [
             "South Africa",
             6660
            ],
            [
             "United States",
             49090
            ],
            [
             "World",
             9004.979089
            ]
           ],
           "geo": "geo",
           "hovertemplate": "Year=2008<br>Code=%{location}<br>Country Name=%{customdata[0]}<br>gni=%{z}<extra></extra>",
           "locations": [
            "DZA",
            "ARG",
            "AUS",
            "BGD",
            "BRA",
            "CAN",
            "CHN",
            "DNK",
            "EGY",
            "FRA",
            "GRC",
            "IND",
            "IDN",
            "IRN",
            "JPN",
            "MEX",
            "MAR",
            "NZL",
            "NOR",
            "PER",
            "POL",
            "ZAF",
            "USA",
            "OWID_WRL"
           ],
           "name": "",
           "type": "choropleth",
           "z": [
            4210,
            7670,
            42360,
            660,
            7620,
            45650,
            3100,
            60390,
            1840,
            43460,
            28660,
            1000,
            1940,
            4970,
            39380,
            9780,
            2700,
            28630,
            87470,
            3790,
            11980,
            6660,
            49090,
            9004.979089
           ]
          }
         ],
         "name": "2008"
        },
        {
         "data": [
          {
           "coloraxis": "coloraxis",
           "customdata": [
            [
             "Algeria",
             4290
            ],
            [
             "Argentina",
             7790
            ],
            [
             "Australia",
             44050
            ],
            [
             "Bangladesh",
             730
            ],
            [
             "Brazil",
             8320
            ],
            [
             "Canada",
             43230
            ],
            [
             "China",
             3680
            ],
            [
             "Denmark",
             60090
            ],
            [
             "Egypt",
             2120
            ],
            [
             "France",
             43930
            ],
            [
             "Greece",
             29330
            ],
            [
             "India",
             1120
            ],
            [
             "Indonesia",
             2150
            ],
            [
             "Iran",
             5560
            ],
            [
             "Japan",
             39230
            ],
            [
             "Mexico",
             8820
            ],
            [
             "Morocco",
             2880
            ],
            [
             "New Zealand",
             29690
            ],
            [
             "Norway",
             87830
            ],
            [
             "Peru",
             3970
            ],
            [
             "Poland",
             12500
            ],
            [
             "South Africa",
             6510
            ],
            [
             "United States",
             47830
            ],
            [
             "World",
             9036.109062
            ]
           ],
           "geo": "geo",
           "hovertemplate": "Year=2009<br>Code=%{location}<br>Country Name=%{customdata[0]}<br>gni=%{z}<extra></extra>",
           "locations": [
            "DZA",
            "ARG",
            "AUS",
            "BGD",
            "BRA",
            "CAN",
            "CHN",
            "DNK",
            "EGY",
            "FRA",
            "GRC",
            "IND",
            "IDN",
            "IRN",
            "JPN",
            "MEX",
            "MAR",
            "NZL",
            "NOR",
            "PER",
            "POL",
            "ZAF",
            "USA",
            "OWID_WRL"
           ],
           "name": "",
           "type": "choropleth",
           "z": [
            4290,
            7790,
            44050,
            730,
            8320,
            43230,
            3680,
            60090,
            2120,
            43930,
            29330,
            1120,
            2150,
            5560,
            39230,
            8820,
            2880,
            29690,
            87830,
            3970,
            12500,
            6510,
            47830,
            9036.109062
           ]
          }
         ],
         "name": "2009"
        },
        {
         "data": [
          {
           "coloraxis": "coloraxis",
           "customdata": [
            [
             "Algeria",
             4470
            ],
            [
             "Argentina",
             9270
            ],
            [
             "Australia",
             46690
            ],
            [
             "Bangladesh",
             800
            ],
            [
             "Brazil",
             9650
            ],
            [
             "Canada",
             44490
            ],
            [
             "China",
             4340
            ],
            [
             "Denmark",
             61220
            ],
            [
             "Egypt",
             2370
            ],
            [
             "France",
             43850
            ],
            [
             "Greece",
             27530
            ],
            [
             "India",
             1220
            ],
            [
             "Indonesia",
             2530
            ],
            [
             "Iran",
             6250
            ],
            [
             "Japan",
             43910
            ],
            [
             "Mexico",
             9040
            ],
            [
             "Morocco",
             2930
            ],
            [
             "New Zealand",
             29680
            ],
            [
             "Norway",
             88490
            ],
            [
             "Peru",
             4410
            ],
            [
             "Poland",
             12740
            ],
            [
             "South Africa",
             6880
            ],
            [
             "United States",
             49140
            ],
            [
             "World",
             9470.278851
            ]
           ],
           "geo": "geo",
           "hovertemplate": "Year=2010<br>Code=%{location}<br>Country Name=%{customdata[0]}<br>gni=%{z}<extra></extra>",
           "locations": [
            "DZA",
            "ARG",
            "AUS",
            "BGD",
            "BRA",
            "CAN",
            "CHN",
            "DNK",
            "EGY",
            "FRA",
            "GRC",
            "IND",
            "IDN",
            "IRN",
            "JPN",
            "MEX",
            "MAR",
            "NZL",
            "NOR",
            "PER",
            "POL",
            "ZAF",
            "USA",
            "OWID_WRL"
           ],
           "name": "",
           "type": "choropleth",
           "z": [
            4470,
            9270,
            46690,
            800,
            9650,
            44490,
            4340,
            61220,
            2370,
            43850,
            27530,
            1220,
            2530,
            6250,
            43910,
            9040,
            2930,
            29680,
            88490,
            4410,
            12740,
            6880,
            49140,
            9470.278851
           ]
          }
         ],
         "name": "2010"
        },
        {
         "data": [
          {
           "coloraxis": "coloraxis",
           "customdata": [
            [
             "Algeria",
             4600
            ],
            [
             "Argentina",
             10710
            ],
            [
             "Australia",
             50380
            ],
            [
             "Bangladesh",
             890
            ],
            [
             "Brazil",
             11080
            ],
            [
             "Canada",
             47190
            ],
            [
             "China",
             5040
            ],
            [
             "Denmark",
             61990
            ],
            [
             "Egypt",
             2560
            ],
            [
             "France",
             44350
            ],
            [
             "Greece",
             24510
            ],
            [
             "India",
             1360
            ],
            [
             "Indonesia",
             3010
            ],
            [
             "Iran",
             6870
            ],
            [
             "Japan",
             47470
            ],
            [
             "Mexico",
             9310
            ],
            [
             "Morocco",
             3000
            ],
            [
             "New Zealand",
             32230
            ],
            [
             "Norway",
             90330
            ],
            [
             "Peru",
             4970
            ],
            [
             "Poland",
             12890
            ],
            [
             "South Africa",
             7760
            ],
            [
             "United States",
             50630
            ],
            [
             "World",
             9941.134658
            ]
           ],
           "geo": "geo",
           "hovertemplate": "Year=2011<br>Code=%{location}<br>Country Name=%{customdata[0]}<br>gni=%{z}<extra></extra>",
           "locations": [
            "DZA",
            "ARG",
            "AUS",
            "BGD",
            "BRA",
            "CAN",
            "CHN",
            "DNK",
            "EGY",
            "FRA",
            "GRC",
            "IND",
            "IDN",
            "IRN",
            "JPN",
            "MEX",
            "MAR",
            "NZL",
            "NOR",
            "PER",
            "POL",
            "ZAF",
            "USA",
            "OWID_WRL"
           ],
           "name": "",
           "type": "choropleth",
           "z": [
            4600,
            10710,
            50380,
            890,
            11080,
            47190,
            5040,
            61990,
            2560,
            44350,
            24510,
            1360,
            3010,
            6870,
            47470,
            9310,
            3000,
            32230,
            90330,
            4970,
            12890,
            7760,
            50630,
            9941.134658
           ]
          }
         ],
         "name": "2011"
        },
        {
         "data": [
          {
           "coloraxis": "coloraxis",
           "customdata": [
            [
             "Algeria",
             5200
            ],
            [
             "Argentina",
             11870
            ],
            [
             "Australia",
             60260
            ],
            [
             "Bangladesh",
             970
            ],
            [
             "Brazil",
             12310
            ],
            [
             "Canada",
             51080
            ],
            [
             "China",
             5910
            ],
            [
             "Denmark",
             61650
            ],
            [
             "Egypt",
             2840
            ],
            [
             "France",
             43380
            ],
            [
             "Greece",
             23170
            ],
            [
             "India",
             1480
            ],
            [
             "Indonesia",
             3580
            ],
            [
             "Iran",
             7130
            ],
            [
             "Japan",
             50060
            ],
            [
             "Mexico",
             10050
            ],
            [
             "Morocco",
             2980
            ],
            [
             "New Zealand",
             36700
            ],
            [
             "Norway",
             99110
            ],
            [
             "Peru",
             5790
            ],
            [
             "Poland",
             13160
            ],
            [
             "South Africa",
             8370
            ],
            [
             "United States",
             52780
            ],
            [
             "World",
             10522.58942
            ]
           ],
           "geo": "geo",
           "hovertemplate": "Year=2012<br>Code=%{location}<br>Country Name=%{customdata[0]}<br>gni=%{z}<extra></extra>",
           "locations": [
            "DZA",
            "ARG",
            "AUS",
            "BGD",
            "BRA",
            "CAN",
            "CHN",
            "DNK",
            "EGY",
            "FRA",
            "GRC",
            "IND",
            "IDN",
            "IRN",
            "JPN",
            "MEX",
            "MAR",
            "NZL",
            "NOR",
            "PER",
            "POL",
            "ZAF",
            "USA",
            "OWID_WRL"
           ],
           "name": "",
           "type": "choropleth",
           "z": [
            5200,
            11870,
            60260,
            970,
            12310,
            51080,
            5910,
            61650,
            2840,
            43380,
            23170,
            1480,
            3580,
            7130,
            50060,
            10050,
            2980,
            36700,
            99110,
            5790,
            13160,
            8370,
            52780,
            10522.58942
           ]
          }
         ],
         "name": "2012"
        },
        {
         "data": [
          {
           "coloraxis": "coloraxis",
           "customdata": [
            [
             "Algeria",
             5520
            ],
            [
             "Argentina",
             12840
            ],
            [
             "Australia",
             66050
            ],
            [
             "Bangladesh",
             1040
            ],
            [
             "Brazil",
             12790
            ],
            [
             "Canada",
             52800
            ],
            [
             "China",
             6740
            ],
            [
             "Denmark",
             63200
            ],
            [
             "Egypt",
             3030
            ],
            [
             "France",
             43780
            ],
            [
             "Greece",
             22410
            ],
            [
             "India",
             1520
            ],
            [
             "Indonesia",
             3730
            ],
            [
             "Iran",
             6990
            ],
            [
             "Japan",
             48850
            ],
            [
             "Mexico",
             10270
            ],
            [
             "Morocco",
             3090
            ],
            [
             "New Zealand",
             39930
            ],
            [
             "Norway",
             104190
            ],
            [
             "Peru",
             6420
            ],
            [
             "Poland",
             13390
            ],
            [
             "South Africa",
             8070
            ],
            [
             "United States",
             53980
            ],
            [
             "World",
             10894.35943
            ]
           ],
           "geo": "geo",
           "hovertemplate": "Year=2013<br>Code=%{location}<br>Country Name=%{customdata[0]}<br>gni=%{z}<extra></extra>",
           "locations": [
            "DZA",
            "ARG",
            "AUS",
            "BGD",
            "BRA",
            "CAN",
            "CHN",
            "DNK",
            "EGY",
            "FRA",
            "GRC",
            "IND",
            "IDN",
            "IRN",
            "JPN",
            "MEX",
            "MAR",
            "NZL",
            "NOR",
            "PER",
            "POL",
            "ZAF",
            "USA",
            "OWID_WRL"
           ],
           "name": "",
           "type": "choropleth",
           "z": [
            5520,
            12840,
            66050,
            1040,
            12790,
            52800,
            6740,
            63200,
            3030,
            43780,
            22410,
            1520,
            3730,
            6990,
            48850,
            10270,
            3090,
            39930,
            104190,
            6420,
            13390,
            8070,
            53980,
            10894.35943
           ]
          }
         ],
         "name": "2013"
        },
        {
         "data": [
          {
           "coloraxis": "coloraxis",
           "customdata": [
            [
             "Algeria",
             5490
            ],
            [
             "Argentina",
             12330
            ],
            [
             "Australia",
             65180
            ],
            [
             "Bangladesh",
             1110
            ],
            [
             "Brazil",
             12120
            ],
            [
             "Canada",
             52200
            ],
            [
             "China",
             7470
            ],
            [
             "Denmark",
             63670
            ],
            [
             "Egypt",
             3230
            ],
            [
             "France",
             43320
            ],
            [
             "Greece",
             21990
            ],
            [
             "India",
             1560
            ],
            [
             "Indonesia",
             3620
            ],
            [
             "Iran",
             6500
            ],
            [
             "Japan",
             44440
            ],
            [
             "Mexico",
             10500
            ],
            [
             "Morocco",
             3060
            ],
            [
             "New Zealand",
             41680
            ],
            [
             "Norway",
             104370
            ],
            [
             "Peru",
             6530
            ],
            [
             "Poland",
             13560
            ],
            [
             "South Africa",
             7370
            ],
            [
             "United States",
             55800
            ],
            [
             "World",
             11005.71578
            ]
           ],
           "geo": "geo",
           "hovertemplate": "Year=2014<br>Code=%{location}<br>Country Name=%{customdata[0]}<br>gni=%{z}<extra></extra>",
           "locations": [
            "DZA",
            "ARG",
            "AUS",
            "BGD",
            "BRA",
            "CAN",
            "CHN",
            "DNK",
            "EGY",
            "FRA",
            "GRC",
            "IND",
            "IDN",
            "IRN",
            "JPN",
            "MEX",
            "MAR",
            "NZL",
            "NOR",
            "PER",
            "POL",
            "ZAF",
            "USA",
            "OWID_WRL"
           ],
           "name": "",
           "type": "choropleth",
           "z": [
            5490,
            12330,
            65180,
            1110,
            12120,
            52200,
            7470,
            63670,
            3230,
            43320,
            21990,
            1560,
            3620,
            6500,
            44440,
            10500,
            3060,
            41680,
            104370,
            6530,
            13560,
            7370,
            55800,
            11005.71578
           ]
          }
         ],
         "name": "2014"
        },
        {
         "data": [
          {
           "coloraxis": "coloraxis",
           "customdata": [
            [
             "Algeria",
             4850
            ],
            [
             "Argentina",
             12590
            ],
            [
             "Australia",
             60490
            ],
            [
             "Bangladesh",
             1220
            ],
            [
             "Brazil",
             10190
            ],
            [
             "Canada",
             47590
            ],
            [
             "China",
             7890
            ],
            [
             "Denmark",
             60510
            ],
            [
             "Egypt",
             3340
            ],
            [
             "France",
             41100
            ],
            [
             "Greece",
             20170
            ],
            [
             "India",
             1600
            ],
            [
             "Indonesia",
             3430
            ],
            [
             "Iran",
             5370
            ],
            [
             "Japan",
             39380
            ],
            [
             "Mexico",
             10160
            ],
            [
             "Morocco",
             3020
            ],
            [
             "New Zealand",
             40650
            ],
            [
             "Norway",
             92910
            ],
            [
             "Peru",
             6340
            ],
            [
             "Poland",
             13310
            ],
            [
             "South Africa",
             6610
            ],
            [
             "United States",
             56640
            ],
            [
             "World",
             10650.36429
            ]
           ],
           "geo": "geo",
           "hovertemplate": "Year=2015<br>Code=%{location}<br>Country Name=%{customdata[0]}<br>gni=%{z}<extra></extra>",
           "locations": [
            "DZA",
            "ARG",
            "AUS",
            "BGD",
            "BRA",
            "CAN",
            "CHN",
            "DNK",
            "EGY",
            "FRA",
            "GRC",
            "IND",
            "IDN",
            "IRN",
            "JPN",
            "MEX",
            "MAR",
            "NZL",
            "NOR",
            "PER",
            "POL",
            "ZAF",
            "USA",
            "OWID_WRL"
           ],
           "name": "",
           "type": "choropleth",
           "z": [
            4850,
            12590,
            60490,
            1220,
            10190,
            47590,
            7890,
            60510,
            3340,
            41100,
            20170,
            1600,
            3430,
            5370,
            39380,
            10160,
            3020,
            40650,
            92910,
            6340,
            13310,
            6610,
            56640,
            10650.36429
           ]
          }
         ],
         "name": "2015"
        },
        {
         "data": [
          {
           "coloraxis": "coloraxis",
           "customdata": [
            [
             "Algeria",
             4370
            ],
            [
             "Argentina",
             12220
            ],
            [
             "Australia",
             54090
            ],
            [
             "Bangladesh",
             1370
            ],
            [
             "Brazil",
             8920
            ],
            [
             "Canada",
             43890
            ],
            [
             "China",
             8210
            ],
            [
             "Denmark",
             58040
            ],
            [
             "Egypt",
             3440
            ],
            [
             "France",
             39070
            ],
            [
             "Greece",
             18630
            ],
            [
             "India",
             1680
            ],
            [
             "Indonesia",
             3400
            ],
            [
             "Iran",
             5500
            ],
            [
             "Japan",
             38490
            ],
            [
             "Mexico",
             9390
            ],
            [
             "Morocco",
             2880
            ],
            [
             "New Zealand",
             39440
            ],
            [
             "Norway",
             81370
            ],
            [
             "Peru",
             6110
            ],
            [
             "Poland",
             12720
            ],
            [
             "South Africa",
             5990
            ],
            [
             "United States",
             57130
            ],
            [
             "World",
             10391.86198
            ]
           ],
           "geo": "geo",
           "hovertemplate": "Year=2016<br>Code=%{location}<br>Country Name=%{customdata[0]}<br>gni=%{z}<extra></extra>",
           "locations": [
            "DZA",
            "ARG",
            "AUS",
            "BGD",
            "BRA",
            "CAN",
            "CHN",
            "DNK",
            "EGY",
            "FRA",
            "GRC",
            "IND",
            "IDN",
            "IRN",
            "JPN",
            "MEX",
            "MAR",
            "NZL",
            "NOR",
            "PER",
            "POL",
            "ZAF",
            "USA",
            "OWID_WRL"
           ],
           "name": "",
           "type": "choropleth",
           "z": [
            4370,
            12220,
            54090,
            1370,
            8920,
            43890,
            8210,
            58040,
            3440,
            39070,
            18630,
            1680,
            3400,
            5500,
            38490,
            9390,
            2880,
            39440,
            81370,
            6110,
            12720,
            5990,
            57130,
            10391.86198
           ]
          }
         ],
         "name": "2016"
        },
        {
         "data": [
          {
           "coloraxis": "coloraxis",
           "customdata": [
            [
             "Algeria",
             3950
            ],
            [
             "Argentina",
             13140
            ],
            [
             "Australia",
             51480
            ],
            [
             "Bangladesh",
             1520
            ],
            [
             "Brazil",
             8700
            ],
            [
             "Canada",
             42900
            ],
            [
             "China",
             8670
            ],
            [
             "Denmark",
             56690
            ],
            [
             "Egypt",
             3030
            ],
            [
             "France",
             38270
            ],
            [
             "Greece",
             17940
            ],
            [
             "India",
             1820
            ],
            [
             "Indonesia",
             3530
            ],
            [
             "Iran",
             5420
            ],
            [
             "Japan",
             38990
            ],
            [
             "Mexico",
             8920
            ],
            [
             "Morocco",
             2880
            ],
            [
             "New Zealand",
             38910
            ],
            [
             "Norway",
             75650
            ],
            [
             "Peru",
             6060
            ],
            [
             "Poland",
             12730
            ],
            [
             "South Africa",
             5910
            ],
            [
             "United States",
             59240
            ],
            [
             "World",
             10464.82792
            ]
           ],
           "geo": "geo",
           "hovertemplate": "Year=2017<br>Code=%{location}<br>Country Name=%{customdata[0]}<br>gni=%{z}<extra></extra>",
           "locations": [
            "DZA",
            "ARG",
            "AUS",
            "BGD",
            "BRA",
            "CAN",
            "CHN",
            "DNK",
            "EGY",
            "FRA",
            "GRC",
            "IND",
            "IDN",
            "IRN",
            "JPN",
            "MEX",
            "MAR",
            "NZL",
            "NOR",
            "PER",
            "POL",
            "ZAF",
            "USA",
            "OWID_WRL"
           ],
           "name": "",
           "type": "choropleth",
           "z": [
            3950,
            13140,
            51480,
            1520,
            8700,
            42900,
            8670,
            56690,
            3030,
            38270,
            17940,
            1820,
            3530,
            5420,
            38990,
            8920,
            2880,
            38910,
            75650,
            6060,
            12730,
            5910,
            59240,
            10464.82792
           ]
          }
         ],
         "name": "2017"
        },
        {
         "data": [
          {
           "coloraxis": "coloraxis",
           "customdata": [
            [
             "Algeria",
             3980
            ],
            [
             "Argentina",
             12430
            ],
            [
             "Australia",
             53070
            ],
            [
             "Bangladesh",
             1750
            ],
            [
             "Brazil",
             9170
            ],
            [
             "Canada",
             45080
            ],
            [
             "China",
             9540
            ],
            [
             "Denmark",
             61260
            ],
            [
             "Egypt",
             2790
            ],
            [
             "France",
             41150
            ],
            [
             "Greece",
             19060
            ],
            [
             "India",
             2010
            ],
            [
             "Indonesia",
             3840
            ],
            [
             "Iran",
             4530
            ],
            [
             "Japan",
             41850
            ],
            [
             "Mexico",
             9180
            ],
            [
             "Morocco",
             3090
            ],
            [
             "New Zealand",
             41680
            ],
            [
             "Norway",
             80320
            ],
            [
             "Peru",
             6470
            ],
            [
             "Poland",
             14150
            ],
            [
             "South Africa",
             6340
            ],
            [
             "United States",
             63490
            ],
            [
             "World",
             11148.93049
            ]
           ],
           "geo": "geo",
           "hovertemplate": "Year=2018<br>Code=%{location}<br>Country Name=%{customdata[0]}<br>gni=%{z}<extra></extra>",
           "locations": [
            "DZA",
            "ARG",
            "AUS",
            "BGD",
            "BRA",
            "CAN",
            "CHN",
            "DNK",
            "EGY",
            "FRA",
            "GRC",
            "IND",
            "IDN",
            "IRN",
            "JPN",
            "MEX",
            "MAR",
            "NZL",
            "NOR",
            "PER",
            "POL",
            "ZAF",
            "USA",
            "OWID_WRL"
           ],
           "name": "",
           "type": "choropleth",
           "z": [
            3980,
            12430,
            53070,
            1750,
            9170,
            45080,
            9540,
            61260,
            2790,
            41150,
            19060,
            2010,
            3840,
            4530,
            41850,
            9180,
            3090,
            41680,
            80320,
            6470,
            14150,
            6340,
            63490,
            11148.93049
           ]
          }
         ],
         "name": "2018"
        },
        {
         "data": [
          {
           "coloraxis": "coloraxis",
           "customdata": [
            [
             "Algeria",
             4010
            ],
            [
             "Argentina",
             11250
            ],
            [
             "Australia",
             54910
            ],
            [
             "Bangladesh",
             1930
            ],
            [
             "Brazil",
             9270
            ],
            [
             "Canada",
             46550
            ],
            [
             "China",
             10310
            ],
            [
             "Denmark",
             63460
            ],
            [
             "Egypt",
             2690
            ],
            [
             "France",
             42510
            ],
            [
             "Greece",
             19650
            ],
            [
             "India",
             2120
            ],
            [
             "Indonesia",
             4050
            ],
            [
             "Iran",
             3640
            ],
            [
             "Japan",
             42330
            ],
            [
             "Mexico",
             9470
            ],
            [
             "Morocco",
             3200
            ],
            [
             "New Zealand",
             42870
            ],
            [
             "Norway",
             81640
            ],
            [
             "Peru",
             6790
            ],
            [
             "Poland",
             15360
            ],
            [
             "South Africa",
             6670
            ],
            [
             "United States",
             65970
            ],
            [
             "World",
             11552.73278
            ]
           ],
           "geo": "geo",
           "hovertemplate": "Year=2019<br>Code=%{location}<br>Country Name=%{customdata[0]}<br>gni=%{z}<extra></extra>",
           "locations": [
            "DZA",
            "ARG",
            "AUS",
            "BGD",
            "BRA",
            "CAN",
            "CHN",
            "DNK",
            "EGY",
            "FRA",
            "GRC",
            "IND",
            "IDN",
            "IRN",
            "JPN",
            "MEX",
            "MAR",
            "NZL",
            "NOR",
            "PER",
            "POL",
            "ZAF",
            "USA",
            "OWID_WRL"
           ],
           "name": "",
           "type": "choropleth",
           "z": [
            4010,
            11250,
            54910,
            1930,
            9270,
            46550,
            10310,
            63460,
            2690,
            42510,
            19650,
            2120,
            4050,
            3640,
            42330,
            9470,
            3200,
            42870,
            81640,
            6790,
            15360,
            6670,
            65970,
            11552.73278
           ]
          }
         ],
         "name": "2019"
        }
       ],
       "layout": {
        "coloraxis": {
         "colorbar": {
          "title": {
           "text": "gni"
          }
         },
         "colorscale": [
          [
           0,
           "#0d0887"
          ],
          [
           0.1111111111111111,
           "#46039f"
          ],
          [
           0.2222222222222222,
           "#7201a8"
          ],
          [
           0.3333333333333333,
           "#9c179e"
          ],
          [
           0.4444444444444444,
           "#bd3786"
          ],
          [
           0.5555555555555556,
           "#d8576b"
          ],
          [
           0.6666666666666666,
           "#ed7953"
          ],
          [
           0.7777777777777778,
           "#fb9f3a"
          ],
          [
           0.8888888888888888,
           "#fdca26"
          ],
          [
           1,
           "#f0f921"
          ]
         ]
        },
        "geo": {
         "center": {},
         "domain": {
          "x": [
           0,
           1
          ],
          "y": [
           0,
           1
          ]
         }
        },
        "legend": {
         "tracegroupgap": 0
        },
        "sliders": [
         {
          "active": 0,
          "currentvalue": {
           "prefix": "Year="
          },
          "len": 0.9,
          "pad": {
           "b": 10,
           "t": 60
          },
          "steps": [
           {
            "args": [
             [
              "1999"
             ],
             {
              "frame": {
               "duration": 0,
               "redraw": true
              },
              "fromcurrent": true,
              "mode": "immediate",
              "transition": {
               "duration": 0,
               "easing": "linear"
              }
             }
            ],
            "label": "1999",
            "method": "animate"
           },
           {
            "args": [
             [
              "2000"
             ],
             {
              "frame": {
               "duration": 0,
               "redraw": true
              },
              "fromcurrent": true,
              "mode": "immediate",
              "transition": {
               "duration": 0,
               "easing": "linear"
              }
             }
            ],
            "label": "2000",
            "method": "animate"
           },
           {
            "args": [
             [
              "2001"
             ],
             {
              "frame": {
               "duration": 0,
               "redraw": true
              },
              "fromcurrent": true,
              "mode": "immediate",
              "transition": {
               "duration": 0,
               "easing": "linear"
              }
             }
            ],
            "label": "2001",
            "method": "animate"
           },
           {
            "args": [
             [
              "2002"
             ],
             {
              "frame": {
               "duration": 0,
               "redraw": true
              },
              "fromcurrent": true,
              "mode": "immediate",
              "transition": {
               "duration": 0,
               "easing": "linear"
              }
             }
            ],
            "label": "2002",
            "method": "animate"
           },
           {
            "args": [
             [
              "2003"
             ],
             {
              "frame": {
               "duration": 0,
               "redraw": true
              },
              "fromcurrent": true,
              "mode": "immediate",
              "transition": {
               "duration": 0,
               "easing": "linear"
              }
             }
            ],
            "label": "2003",
            "method": "animate"
           },
           {
            "args": [
             [
              "2004"
             ],
             {
              "frame": {
               "duration": 0,
               "redraw": true
              },
              "fromcurrent": true,
              "mode": "immediate",
              "transition": {
               "duration": 0,
               "easing": "linear"
              }
             }
            ],
            "label": "2004",
            "method": "animate"
           },
           {
            "args": [
             [
              "2005"
             ],
             {
              "frame": {
               "duration": 0,
               "redraw": true
              },
              "fromcurrent": true,
              "mode": "immediate",
              "transition": {
               "duration": 0,
               "easing": "linear"
              }
             }
            ],
            "label": "2005",
            "method": "animate"
           },
           {
            "args": [
             [
              "2006"
             ],
             {
              "frame": {
               "duration": 0,
               "redraw": true
              },
              "fromcurrent": true,
              "mode": "immediate",
              "transition": {
               "duration": 0,
               "easing": "linear"
              }
             }
            ],
            "label": "2006",
            "method": "animate"
           },
           {
            "args": [
             [
              "2007"
             ],
             {
              "frame": {
               "duration": 0,
               "redraw": true
              },
              "fromcurrent": true,
              "mode": "immediate",
              "transition": {
               "duration": 0,
               "easing": "linear"
              }
             }
            ],
            "label": "2007",
            "method": "animate"
           },
           {
            "args": [
             [
              "2008"
             ],
             {
              "frame": {
               "duration": 0,
               "redraw": true
              },
              "fromcurrent": true,
              "mode": "immediate",
              "transition": {
               "duration": 0,
               "easing": "linear"
              }
             }
            ],
            "label": "2008",
            "method": "animate"
           },
           {
            "args": [
             [
              "2009"
             ],
             {
              "frame": {
               "duration": 0,
               "redraw": true
              },
              "fromcurrent": true,
              "mode": "immediate",
              "transition": {
               "duration": 0,
               "easing": "linear"
              }
             }
            ],
            "label": "2009",
            "method": "animate"
           },
           {
            "args": [
             [
              "2010"
             ],
             {
              "frame": {
               "duration": 0,
               "redraw": true
              },
              "fromcurrent": true,
              "mode": "immediate",
              "transition": {
               "duration": 0,
               "easing": "linear"
              }
             }
            ],
            "label": "2010",
            "method": "animate"
           },
           {
            "args": [
             [
              "2011"
             ],
             {
              "frame": {
               "duration": 0,
               "redraw": true
              },
              "fromcurrent": true,
              "mode": "immediate",
              "transition": {
               "duration": 0,
               "easing": "linear"
              }
             }
            ],
            "label": "2011",
            "method": "animate"
           },
           {
            "args": [
             [
              "2012"
             ],
             {
              "frame": {
               "duration": 0,
               "redraw": true
              },
              "fromcurrent": true,
              "mode": "immediate",
              "transition": {
               "duration": 0,
               "easing": "linear"
              }
             }
            ],
            "label": "2012",
            "method": "animate"
           },
           {
            "args": [
             [
              "2013"
             ],
             {
              "frame": {
               "duration": 0,
               "redraw": true
              },
              "fromcurrent": true,
              "mode": "immediate",
              "transition": {
               "duration": 0,
               "easing": "linear"
              }
             }
            ],
            "label": "2013",
            "method": "animate"
           },
           {
            "args": [
             [
              "2014"
             ],
             {
              "frame": {
               "duration": 0,
               "redraw": true
              },
              "fromcurrent": true,
              "mode": "immediate",
              "transition": {
               "duration": 0,
               "easing": "linear"
              }
             }
            ],
            "label": "2014",
            "method": "animate"
           },
           {
            "args": [
             [
              "2015"
             ],
             {
              "frame": {
               "duration": 0,
               "redraw": true
              },
              "fromcurrent": true,
              "mode": "immediate",
              "transition": {
               "duration": 0,
               "easing": "linear"
              }
             }
            ],
            "label": "2015",
            "method": "animate"
           },
           {
            "args": [
             [
              "2016"
             ],
             {
              "frame": {
               "duration": 0,
               "redraw": true
              },
              "fromcurrent": true,
              "mode": "immediate",
              "transition": {
               "duration": 0,
               "easing": "linear"
              }
             }
            ],
            "label": "2016",
            "method": "animate"
           },
           {
            "args": [
             [
              "2017"
             ],
             {
              "frame": {
               "duration": 0,
               "redraw": true
              },
              "fromcurrent": true,
              "mode": "immediate",
              "transition": {
               "duration": 0,
               "easing": "linear"
              }
             }
            ],
            "label": "2017",
            "method": "animate"
           },
           {
            "args": [
             [
              "2018"
             ],
             {
              "frame": {
               "duration": 0,
               "redraw": true
              },
              "fromcurrent": true,
              "mode": "immediate",
              "transition": {
               "duration": 0,
               "easing": "linear"
              }
             }
            ],
            "label": "2018",
            "method": "animate"
           },
           {
            "args": [
             [
              "2019"
             ],
             {
              "frame": {
               "duration": 0,
               "redraw": true
              },
              "fromcurrent": true,
              "mode": "immediate",
              "transition": {
               "duration": 0,
               "easing": "linear"
              }
             }
            ],
            "label": "2019",
            "method": "animate"
           }
          ],
          "x": 0.1,
          "xanchor": "left",
          "y": 0,
          "yanchor": "top"
         }
        ],
        "template": {
         "data": {
          "bar": [
           {
            "error_x": {
             "color": "#2a3f5f"
            },
            "error_y": {
             "color": "#2a3f5f"
            },
            "marker": {
             "line": {
              "color": "#E5ECF6",
              "width": 0.5
             },
             "pattern": {
              "fillmode": "overlay",
              "size": 10,
              "solidity": 0.2
             }
            },
            "type": "bar"
           }
          ],
          "barpolar": [
           {
            "marker": {
             "line": {
              "color": "#E5ECF6",
              "width": 0.5
             },
             "pattern": {
              "fillmode": "overlay",
              "size": 10,
              "solidity": 0.2
             }
            },
            "type": "barpolar"
           }
          ],
          "carpet": [
           {
            "aaxis": {
             "endlinecolor": "#2a3f5f",
             "gridcolor": "white",
             "linecolor": "white",
             "minorgridcolor": "white",
             "startlinecolor": "#2a3f5f"
            },
            "baxis": {
             "endlinecolor": "#2a3f5f",
             "gridcolor": "white",
             "linecolor": "white",
             "minorgridcolor": "white",
             "startlinecolor": "#2a3f5f"
            },
            "type": "carpet"
           }
          ],
          "choropleth": [
           {
            "colorbar": {
             "outlinewidth": 0,
             "ticks": ""
            },
            "type": "choropleth"
           }
          ],
          "contour": [
           {
            "colorbar": {
             "outlinewidth": 0,
             "ticks": ""
            },
            "colorscale": [
             [
              0,
              "#0d0887"
             ],
             [
              0.1111111111111111,
              "#46039f"
             ],
             [
              0.2222222222222222,
              "#7201a8"
             ],
             [
              0.3333333333333333,
              "#9c179e"
             ],
             [
              0.4444444444444444,
              "#bd3786"
             ],
             [
              0.5555555555555556,
              "#d8576b"
             ],
             [
              0.6666666666666666,
              "#ed7953"
             ],
             [
              0.7777777777777778,
              "#fb9f3a"
             ],
             [
              0.8888888888888888,
              "#fdca26"
             ],
             [
              1,
              "#f0f921"
             ]
            ],
            "type": "contour"
           }
          ],
          "contourcarpet": [
           {
            "colorbar": {
             "outlinewidth": 0,
             "ticks": ""
            },
            "type": "contourcarpet"
           }
          ],
          "heatmap": [
           {
            "colorbar": {
             "outlinewidth": 0,
             "ticks": ""
            },
            "colorscale": [
             [
              0,
              "#0d0887"
             ],
             [
              0.1111111111111111,
              "#46039f"
             ],
             [
              0.2222222222222222,
              "#7201a8"
             ],
             [
              0.3333333333333333,
              "#9c179e"
             ],
             [
              0.4444444444444444,
              "#bd3786"
             ],
             [
              0.5555555555555556,
              "#d8576b"
             ],
             [
              0.6666666666666666,
              "#ed7953"
             ],
             [
              0.7777777777777778,
              "#fb9f3a"
             ],
             [
              0.8888888888888888,
              "#fdca26"
             ],
             [
              1,
              "#f0f921"
             ]
            ],
            "type": "heatmap"
           }
          ],
          "heatmapgl": [
           {
            "colorbar": {
             "outlinewidth": 0,
             "ticks": ""
            },
            "colorscale": [
             [
              0,
              "#0d0887"
             ],
             [
              0.1111111111111111,
              "#46039f"
             ],
             [
              0.2222222222222222,
              "#7201a8"
             ],
             [
              0.3333333333333333,
              "#9c179e"
             ],
             [
              0.4444444444444444,
              "#bd3786"
             ],
             [
              0.5555555555555556,
              "#d8576b"
             ],
             [
              0.6666666666666666,
              "#ed7953"
             ],
             [
              0.7777777777777778,
              "#fb9f3a"
             ],
             [
              0.8888888888888888,
              "#fdca26"
             ],
             [
              1,
              "#f0f921"
             ]
            ],
            "type": "heatmapgl"
           }
          ],
          "histogram": [
           {
            "marker": {
             "pattern": {
              "fillmode": "overlay",
              "size": 10,
              "solidity": 0.2
             }
            },
            "type": "histogram"
           }
          ],
          "histogram2d": [
           {
            "colorbar": {
             "outlinewidth": 0,
             "ticks": ""
            },
            "colorscale": [
             [
              0,
              "#0d0887"
             ],
             [
              0.1111111111111111,
              "#46039f"
             ],
             [
              0.2222222222222222,
              "#7201a8"
             ],
             [
              0.3333333333333333,
              "#9c179e"
             ],
             [
              0.4444444444444444,
              "#bd3786"
             ],
             [
              0.5555555555555556,
              "#d8576b"
             ],
             [
              0.6666666666666666,
              "#ed7953"
             ],
             [
              0.7777777777777778,
              "#fb9f3a"
             ],
             [
              0.8888888888888888,
              "#fdca26"
             ],
             [
              1,
              "#f0f921"
             ]
            ],
            "type": "histogram2d"
           }
          ],
          "histogram2dcontour": [
           {
            "colorbar": {
             "outlinewidth": 0,
             "ticks": ""
            },
            "colorscale": [
             [
              0,
              "#0d0887"
             ],
             [
              0.1111111111111111,
              "#46039f"
             ],
             [
              0.2222222222222222,
              "#7201a8"
             ],
             [
              0.3333333333333333,
              "#9c179e"
             ],
             [
              0.4444444444444444,
              "#bd3786"
             ],
             [
              0.5555555555555556,
              "#d8576b"
             ],
             [
              0.6666666666666666,
              "#ed7953"
             ],
             [
              0.7777777777777778,
              "#fb9f3a"
             ],
             [
              0.8888888888888888,
              "#fdca26"
             ],
             [
              1,
              "#f0f921"
             ]
            ],
            "type": "histogram2dcontour"
           }
          ],
          "mesh3d": [
           {
            "colorbar": {
             "outlinewidth": 0,
             "ticks": ""
            },
            "type": "mesh3d"
           }
          ],
          "parcoords": [
           {
            "line": {
             "colorbar": {
              "outlinewidth": 0,
              "ticks": ""
             }
            },
            "type": "parcoords"
           }
          ],
          "pie": [
           {
            "automargin": true,
            "type": "pie"
           }
          ],
          "scatter": [
           {
            "fillpattern": {
             "fillmode": "overlay",
             "size": 10,
             "solidity": 0.2
            },
            "type": "scatter"
           }
          ],
          "scatter3d": [
           {
            "line": {
             "colorbar": {
              "outlinewidth": 0,
              "ticks": ""
             }
            },
            "marker": {
             "colorbar": {
              "outlinewidth": 0,
              "ticks": ""
             }
            },
            "type": "scatter3d"
           }
          ],
          "scattercarpet": [
           {
            "marker": {
             "colorbar": {
              "outlinewidth": 0,
              "ticks": ""
             }
            },
            "type": "scattercarpet"
           }
          ],
          "scattergeo": [
           {
            "marker": {
             "colorbar": {
              "outlinewidth": 0,
              "ticks": ""
             }
            },
            "type": "scattergeo"
           }
          ],
          "scattergl": [
           {
            "marker": {
             "colorbar": {
              "outlinewidth": 0,
              "ticks": ""
             }
            },
            "type": "scattergl"
           }
          ],
          "scattermapbox": [
           {
            "marker": {
             "colorbar": {
              "outlinewidth": 0,
              "ticks": ""
             }
            },
            "type": "scattermapbox"
           }
          ],
          "scatterpolar": [
           {
            "marker": {
             "colorbar": {
              "outlinewidth": 0,
              "ticks": ""
             }
            },
            "type": "scatterpolar"
           }
          ],
          "scatterpolargl": [
           {
            "marker": {
             "colorbar": {
              "outlinewidth": 0,
              "ticks": ""
             }
            },
            "type": "scatterpolargl"
           }
          ],
          "scatterternary": [
           {
            "marker": {
             "colorbar": {
              "outlinewidth": 0,
              "ticks": ""
             }
            },
            "type": "scatterternary"
           }
          ],
          "surface": [
           {
            "colorbar": {
             "outlinewidth": 0,
             "ticks": ""
            },
            "colorscale": [
             [
              0,
              "#0d0887"
             ],
             [
              0.1111111111111111,
              "#46039f"
             ],
             [
              0.2222222222222222,
              "#7201a8"
             ],
             [
              0.3333333333333333,
              "#9c179e"
             ],
             [
              0.4444444444444444,
              "#bd3786"
             ],
             [
              0.5555555555555556,
              "#d8576b"
             ],
             [
              0.6666666666666666,
              "#ed7953"
             ],
             [
              0.7777777777777778,
              "#fb9f3a"
             ],
             [
              0.8888888888888888,
              "#fdca26"
             ],
             [
              1,
              "#f0f921"
             ]
            ],
            "type": "surface"
           }
          ],
          "table": [
           {
            "cells": {
             "fill": {
              "color": "#EBF0F8"
             },
             "line": {
              "color": "white"
             }
            },
            "header": {
             "fill": {
              "color": "#C8D4E3"
             },
             "line": {
              "color": "white"
             }
            },
            "type": "table"
           }
          ]
         },
         "layout": {
          "annotationdefaults": {
           "arrowcolor": "#2a3f5f",
           "arrowhead": 0,
           "arrowwidth": 1
          },
          "autotypenumbers": "strict",
          "coloraxis": {
           "colorbar": {
            "outlinewidth": 0,
            "ticks": ""
           }
          },
          "colorscale": {
           "diverging": [
            [
             0,
             "#8e0152"
            ],
            [
             0.1,
             "#c51b7d"
            ],
            [
             0.2,
             "#de77ae"
            ],
            [
             0.3,
             "#f1b6da"
            ],
            [
             0.4,
             "#fde0ef"
            ],
            [
             0.5,
             "#f7f7f7"
            ],
            [
             0.6,
             "#e6f5d0"
            ],
            [
             0.7,
             "#b8e186"
            ],
            [
             0.8,
             "#7fbc41"
            ],
            [
             0.9,
             "#4d9221"
            ],
            [
             1,
             "#276419"
            ]
           ],
           "sequential": [
            [
             0,
             "#0d0887"
            ],
            [
             0.1111111111111111,
             "#46039f"
            ],
            [
             0.2222222222222222,
             "#7201a8"
            ],
            [
             0.3333333333333333,
             "#9c179e"
            ],
            [
             0.4444444444444444,
             "#bd3786"
            ],
            [
             0.5555555555555556,
             "#d8576b"
            ],
            [
             0.6666666666666666,
             "#ed7953"
            ],
            [
             0.7777777777777778,
             "#fb9f3a"
            ],
            [
             0.8888888888888888,
             "#fdca26"
            ],
            [
             1,
             "#f0f921"
            ]
           ],
           "sequentialminus": [
            [
             0,
             "#0d0887"
            ],
            [
             0.1111111111111111,
             "#46039f"
            ],
            [
             0.2222222222222222,
             "#7201a8"
            ],
            [
             0.3333333333333333,
             "#9c179e"
            ],
            [
             0.4444444444444444,
             "#bd3786"
            ],
            [
             0.5555555555555556,
             "#d8576b"
            ],
            [
             0.6666666666666666,
             "#ed7953"
            ],
            [
             0.7777777777777778,
             "#fb9f3a"
            ],
            [
             0.8888888888888888,
             "#fdca26"
            ],
            [
             1,
             "#f0f921"
            ]
           ]
          },
          "colorway": [
           "#636efa",
           "#EF553B",
           "#00cc96",
           "#ab63fa",
           "#FFA15A",
           "#19d3f3",
           "#FF6692",
           "#B6E880",
           "#FF97FF",
           "#FECB52"
          ],
          "font": {
           "color": "#2a3f5f"
          },
          "geo": {
           "bgcolor": "white",
           "lakecolor": "white",
           "landcolor": "#E5ECF6",
           "showlakes": true,
           "showland": true,
           "subunitcolor": "white"
          },
          "hoverlabel": {
           "align": "left"
          },
          "hovermode": "closest",
          "mapbox": {
           "style": "light"
          },
          "paper_bgcolor": "white",
          "plot_bgcolor": "#E5ECF6",
          "polar": {
           "angularaxis": {
            "gridcolor": "white",
            "linecolor": "white",
            "ticks": ""
           },
           "bgcolor": "#E5ECF6",
           "radialaxis": {
            "gridcolor": "white",
            "linecolor": "white",
            "ticks": ""
           }
          },
          "scene": {
           "xaxis": {
            "backgroundcolor": "#E5ECF6",
            "gridcolor": "white",
            "gridwidth": 2,
            "linecolor": "white",
            "showbackground": true,
            "ticks": "",
            "zerolinecolor": "white"
           },
           "yaxis": {
            "backgroundcolor": "#E5ECF6",
            "gridcolor": "white",
            "gridwidth": 2,
            "linecolor": "white",
            "showbackground": true,
            "ticks": "",
            "zerolinecolor": "white"
           },
           "zaxis": {
            "backgroundcolor": "#E5ECF6",
            "gridcolor": "white",
            "gridwidth": 2,
            "linecolor": "white",
            "showbackground": true,
            "ticks": "",
            "zerolinecolor": "white"
           }
          },
          "shapedefaults": {
           "line": {
            "color": "#2a3f5f"
           }
          },
          "ternary": {
           "aaxis": {
            "gridcolor": "white",
            "linecolor": "white",
            "ticks": ""
           },
           "baxis": {
            "gridcolor": "white",
            "linecolor": "white",
            "ticks": ""
           },
           "bgcolor": "#E5ECF6",
           "caxis": {
            "gridcolor": "white",
            "linecolor": "white",
            "ticks": ""
           }
          },
          "title": {
           "x": 0.05
          },
          "xaxis": {
           "automargin": true,
           "gridcolor": "white",
           "linecolor": "white",
           "ticks": "",
           "title": {
            "standoff": 15
           },
           "zerolinecolor": "white",
           "zerolinewidth": 2
          },
          "yaxis": {
           "automargin": true,
           "gridcolor": "white",
           "linecolor": "white",
           "ticks": "",
           "title": {
            "standoff": 15
           },
           "zerolinecolor": "white",
           "zerolinewidth": 2
          }
         }
        },
        "title": {
         "text": "GNI of countries throughout the years"
        },
        "transition": {
         "duration": 10000
        },
        "updatemenus": [
         {
          "buttons": [
           {
            "args": [
             null,
             {
              "frame": {
               "duration": 500,
               "redraw": true
              },
              "fromcurrent": true,
              "mode": "immediate",
              "transition": {
               "duration": 500,
               "easing": "linear"
              }
             }
            ],
            "label": "&#9654;",
            "method": "animate"
           },
           {
            "args": [
             [
              null
             ],
             {
              "frame": {
               "duration": 0,
               "redraw": true
              },
              "fromcurrent": true,
              "mode": "immediate",
              "transition": {
               "duration": 0,
               "easing": "linear"
              }
             }
            ],
            "label": "&#9724;",
            "method": "animate"
           }
          ],
          "direction": "left",
          "pad": {
           "r": 10,
           "t": 70
          },
          "showactive": false,
          "type": "buttons",
          "x": 0.1,
          "xanchor": "right",
          "y": 0,
          "yanchor": "top"
         }
        ]
       }
      },
      "text/html": [
       "<div>                            <div id=\"cc818d98-d19d-4503-af8a-9a83e575733b\" class=\"plotly-graph-div\" style=\"height:525px; width:100%;\"></div>            <script type=\"text/javascript\">                require([\"plotly\"], function(Plotly) {                    window.PLOTLYENV=window.PLOTLYENV || {};                                    if (document.getElementById(\"cc818d98-d19d-4503-af8a-9a83e575733b\")) {                    Plotly.newPlot(                        \"cc818d98-d19d-4503-af8a-9a83e575733b\",                        [{\"coloraxis\":\"coloraxis\",\"customdata\":[[\"Algeria\",1530.0],[\"Argentina\",7580.0],[\"Australia\",21440.0],[\"Bangladesh\",420.0],[\"Brazil\",4120.0],[\"Canada\",21210.0],[\"China\",860.0],[\"Denmark\",33060.0],[\"Egypt\",1310.0],[\"France\",25420.0],[\"Greece\",null],[\"India\",440.0],[\"Indonesia\",570.0],[\"Iran\",1740.0],[\"Japan\",34320.0],[\"Mexico\",5510.0],[\"Morocco\",1410.0],[\"New Zealand\",15040.0],[\"Norway\",35540.0],[\"Peru\",2030.0],[\"Poland\",4440.0],[\"South Africa\",3480.0],[\"United States\",33670.0],[\"World\",5333.583867]],\"geo\":\"geo\",\"hovertemplate\":\"Year=1999<br>Code=%{location}<br>Country Name=%{customdata[0]}<br>gni=%{z}<extra></extra>\",\"locations\":[\"DZA\",\"ARG\",\"AUS\",\"BGD\",\"BRA\",\"CAN\",\"CHN\",\"DNK\",\"EGY\",\"FRA\",\"GRC\",\"IND\",\"IDN\",\"IRN\",\"JPN\",\"MEX\",\"MAR\",\"NZL\",\"NOR\",\"PER\",\"POL\",\"ZAF\",\"USA\",\"OWID_WRL\"],\"name\":\"\",\"z\":[1530.0,7580.0,21440.0,420.0,4120.0,21210.0,860.0,33060.0,1310.0,25420.0,null,440.0,570.0,1740.0,34320.0,5510.0,1410.0,15040.0,35540.0,2030.0,4440.0,3480.0,33670.0,5333.583867],\"type\":\"choropleth\"}],                        {\"template\":{\"data\":{\"histogram2dcontour\":[{\"type\":\"histogram2dcontour\",\"colorbar\":{\"outlinewidth\":0,\"ticks\":\"\"},\"colorscale\":[[0.0,\"#0d0887\"],[0.1111111111111111,\"#46039f\"],[0.2222222222222222,\"#7201a8\"],[0.3333333333333333,\"#9c179e\"],[0.4444444444444444,\"#bd3786\"],[0.5555555555555556,\"#d8576b\"],[0.6666666666666666,\"#ed7953\"],[0.7777777777777778,\"#fb9f3a\"],[0.8888888888888888,\"#fdca26\"],[1.0,\"#f0f921\"]]}],\"choropleth\":[{\"type\":\"choropleth\",\"colorbar\":{\"outlinewidth\":0,\"ticks\":\"\"}}],\"histogram2d\":[{\"type\":\"histogram2d\",\"colorbar\":{\"outlinewidth\":0,\"ticks\":\"\"},\"colorscale\":[[0.0,\"#0d0887\"],[0.1111111111111111,\"#46039f\"],[0.2222222222222222,\"#7201a8\"],[0.3333333333333333,\"#9c179e\"],[0.4444444444444444,\"#bd3786\"],[0.5555555555555556,\"#d8576b\"],[0.6666666666666666,\"#ed7953\"],[0.7777777777777778,\"#fb9f3a\"],[0.8888888888888888,\"#fdca26\"],[1.0,\"#f0f921\"]]}],\"heatmap\":[{\"type\":\"heatmap\",\"colorbar\":{\"outlinewidth\":0,\"ticks\":\"\"},\"colorscale\":[[0.0,\"#0d0887\"],[0.1111111111111111,\"#46039f\"],[0.2222222222222222,\"#7201a8\"],[0.3333333333333333,\"#9c179e\"],[0.4444444444444444,\"#bd3786\"],[0.5555555555555556,\"#d8576b\"],[0.6666666666666666,\"#ed7953\"],[0.7777777777777778,\"#fb9f3a\"],[0.8888888888888888,\"#fdca26\"],[1.0,\"#f0f921\"]]}],\"heatmapgl\":[{\"type\":\"heatmapgl\",\"colorbar\":{\"outlinewidth\":0,\"ticks\":\"\"},\"colorscale\":[[0.0,\"#0d0887\"],[0.1111111111111111,\"#46039f\"],[0.2222222222222222,\"#7201a8\"],[0.3333333333333333,\"#9c179e\"],[0.4444444444444444,\"#bd3786\"],[0.5555555555555556,\"#d8576b\"],[0.6666666666666666,\"#ed7953\"],[0.7777777777777778,\"#fb9f3a\"],[0.8888888888888888,\"#fdca26\"],[1.0,\"#f0f921\"]]}],\"contourcarpet\":[{\"type\":\"contourcarpet\",\"colorbar\":{\"outlinewidth\":0,\"ticks\":\"\"}}],\"contour\":[{\"type\":\"contour\",\"colorbar\":{\"outlinewidth\":0,\"ticks\":\"\"},\"colorscale\":[[0.0,\"#0d0887\"],[0.1111111111111111,\"#46039f\"],[0.2222222222222222,\"#7201a8\"],[0.3333333333333333,\"#9c179e\"],[0.4444444444444444,\"#bd3786\"],[0.5555555555555556,\"#d8576b\"],[0.6666666666666666,\"#ed7953\"],[0.7777777777777778,\"#fb9f3a\"],[0.8888888888888888,\"#fdca26\"],[1.0,\"#f0f921\"]]}],\"surface\":[{\"type\":\"surface\",\"colorbar\":{\"outlinewidth\":0,\"ticks\":\"\"},\"colorscale\":[[0.0,\"#0d0887\"],[0.1111111111111111,\"#46039f\"],[0.2222222222222222,\"#7201a8\"],[0.3333333333333333,\"#9c179e\"],[0.4444444444444444,\"#bd3786\"],[0.5555555555555556,\"#d8576b\"],[0.6666666666666666,\"#ed7953\"],[0.7777777777777778,\"#fb9f3a\"],[0.8888888888888888,\"#fdca26\"],[1.0,\"#f0f921\"]]}],\"mesh3d\":[{\"type\":\"mesh3d\",\"colorbar\":{\"outlinewidth\":0,\"ticks\":\"\"}}],\"scatter\":[{\"fillpattern\":{\"fillmode\":\"overlay\",\"size\":10,\"solidity\":0.2},\"type\":\"scatter\"}],\"parcoords\":[{\"type\":\"parcoords\",\"line\":{\"colorbar\":{\"outlinewidth\":0,\"ticks\":\"\"}}}],\"scatterpolargl\":[{\"type\":\"scatterpolargl\",\"marker\":{\"colorbar\":{\"outlinewidth\":0,\"ticks\":\"\"}}}],\"bar\":[{\"error_x\":{\"color\":\"#2a3f5f\"},\"error_y\":{\"color\":\"#2a3f5f\"},\"marker\":{\"line\":{\"color\":\"#E5ECF6\",\"width\":0.5},\"pattern\":{\"fillmode\":\"overlay\",\"size\":10,\"solidity\":0.2}},\"type\":\"bar\"}],\"scattergeo\":[{\"type\":\"scattergeo\",\"marker\":{\"colorbar\":{\"outlinewidth\":0,\"ticks\":\"\"}}}],\"scatterpolar\":[{\"type\":\"scatterpolar\",\"marker\":{\"colorbar\":{\"outlinewidth\":0,\"ticks\":\"\"}}}],\"histogram\":[{\"marker\":{\"pattern\":{\"fillmode\":\"overlay\",\"size\":10,\"solidity\":0.2}},\"type\":\"histogram\"}],\"scattergl\":[{\"type\":\"scattergl\",\"marker\":{\"colorbar\":{\"outlinewidth\":0,\"ticks\":\"\"}}}],\"scatter3d\":[{\"type\":\"scatter3d\",\"line\":{\"colorbar\":{\"outlinewidth\":0,\"ticks\":\"\"}},\"marker\":{\"colorbar\":{\"outlinewidth\":0,\"ticks\":\"\"}}}],\"scattermapbox\":[{\"type\":\"scattermapbox\",\"marker\":{\"colorbar\":{\"outlinewidth\":0,\"ticks\":\"\"}}}],\"scatterternary\":[{\"type\":\"scatterternary\",\"marker\":{\"colorbar\":{\"outlinewidth\":0,\"ticks\":\"\"}}}],\"scattercarpet\":[{\"type\":\"scattercarpet\",\"marker\":{\"colorbar\":{\"outlinewidth\":0,\"ticks\":\"\"}}}],\"carpet\":[{\"aaxis\":{\"endlinecolor\":\"#2a3f5f\",\"gridcolor\":\"white\",\"linecolor\":\"white\",\"minorgridcolor\":\"white\",\"startlinecolor\":\"#2a3f5f\"},\"baxis\":{\"endlinecolor\":\"#2a3f5f\",\"gridcolor\":\"white\",\"linecolor\":\"white\",\"minorgridcolor\":\"white\",\"startlinecolor\":\"#2a3f5f\"},\"type\":\"carpet\"}],\"table\":[{\"cells\":{\"fill\":{\"color\":\"#EBF0F8\"},\"line\":{\"color\":\"white\"}},\"header\":{\"fill\":{\"color\":\"#C8D4E3\"},\"line\":{\"color\":\"white\"}},\"type\":\"table\"}],\"barpolar\":[{\"marker\":{\"line\":{\"color\":\"#E5ECF6\",\"width\":0.5},\"pattern\":{\"fillmode\":\"overlay\",\"size\":10,\"solidity\":0.2}},\"type\":\"barpolar\"}],\"pie\":[{\"automargin\":true,\"type\":\"pie\"}]},\"layout\":{\"autotypenumbers\":\"strict\",\"colorway\":[\"#636efa\",\"#EF553B\",\"#00cc96\",\"#ab63fa\",\"#FFA15A\",\"#19d3f3\",\"#FF6692\",\"#B6E880\",\"#FF97FF\",\"#FECB52\"],\"font\":{\"color\":\"#2a3f5f\"},\"hovermode\":\"closest\",\"hoverlabel\":{\"align\":\"left\"},\"paper_bgcolor\":\"white\",\"plot_bgcolor\":\"#E5ECF6\",\"polar\":{\"bgcolor\":\"#E5ECF6\",\"angularaxis\":{\"gridcolor\":\"white\",\"linecolor\":\"white\",\"ticks\":\"\"},\"radialaxis\":{\"gridcolor\":\"white\",\"linecolor\":\"white\",\"ticks\":\"\"}},\"ternary\":{\"bgcolor\":\"#E5ECF6\",\"aaxis\":{\"gridcolor\":\"white\",\"linecolor\":\"white\",\"ticks\":\"\"},\"baxis\":{\"gridcolor\":\"white\",\"linecolor\":\"white\",\"ticks\":\"\"},\"caxis\":{\"gridcolor\":\"white\",\"linecolor\":\"white\",\"ticks\":\"\"}},\"coloraxis\":{\"colorbar\":{\"outlinewidth\":0,\"ticks\":\"\"}},\"colorscale\":{\"sequential\":[[0.0,\"#0d0887\"],[0.1111111111111111,\"#46039f\"],[0.2222222222222222,\"#7201a8\"],[0.3333333333333333,\"#9c179e\"],[0.4444444444444444,\"#bd3786\"],[0.5555555555555556,\"#d8576b\"],[0.6666666666666666,\"#ed7953\"],[0.7777777777777778,\"#fb9f3a\"],[0.8888888888888888,\"#fdca26\"],[1.0,\"#f0f921\"]],\"sequentialminus\":[[0.0,\"#0d0887\"],[0.1111111111111111,\"#46039f\"],[0.2222222222222222,\"#7201a8\"],[0.3333333333333333,\"#9c179e\"],[0.4444444444444444,\"#bd3786\"],[0.5555555555555556,\"#d8576b\"],[0.6666666666666666,\"#ed7953\"],[0.7777777777777778,\"#fb9f3a\"],[0.8888888888888888,\"#fdca26\"],[1.0,\"#f0f921\"]],\"diverging\":[[0,\"#8e0152\"],[0.1,\"#c51b7d\"],[0.2,\"#de77ae\"],[0.3,\"#f1b6da\"],[0.4,\"#fde0ef\"],[0.5,\"#f7f7f7\"],[0.6,\"#e6f5d0\"],[0.7,\"#b8e186\"],[0.8,\"#7fbc41\"],[0.9,\"#4d9221\"],[1,\"#276419\"]]},\"xaxis\":{\"gridcolor\":\"white\",\"linecolor\":\"white\",\"ticks\":\"\",\"title\":{\"standoff\":15},\"zerolinecolor\":\"white\",\"automargin\":true,\"zerolinewidth\":2},\"yaxis\":{\"gridcolor\":\"white\",\"linecolor\":\"white\",\"ticks\":\"\",\"title\":{\"standoff\":15},\"zerolinecolor\":\"white\",\"automargin\":true,\"zerolinewidth\":2},\"scene\":{\"xaxis\":{\"backgroundcolor\":\"#E5ECF6\",\"gridcolor\":\"white\",\"linecolor\":\"white\",\"showbackground\":true,\"ticks\":\"\",\"zerolinecolor\":\"white\",\"gridwidth\":2},\"yaxis\":{\"backgroundcolor\":\"#E5ECF6\",\"gridcolor\":\"white\",\"linecolor\":\"white\",\"showbackground\":true,\"ticks\":\"\",\"zerolinecolor\":\"white\",\"gridwidth\":2},\"zaxis\":{\"backgroundcolor\":\"#E5ECF6\",\"gridcolor\":\"white\",\"linecolor\":\"white\",\"showbackground\":true,\"ticks\":\"\",\"zerolinecolor\":\"white\",\"gridwidth\":2}},\"shapedefaults\":{\"line\":{\"color\":\"#2a3f5f\"}},\"annotationdefaults\":{\"arrowcolor\":\"#2a3f5f\",\"arrowhead\":0,\"arrowwidth\":1},\"geo\":{\"bgcolor\":\"white\",\"landcolor\":\"#E5ECF6\",\"subunitcolor\":\"white\",\"showland\":true,\"showlakes\":true,\"lakecolor\":\"white\"},\"title\":{\"x\":0.05},\"mapbox\":{\"style\":\"light\"}}},\"geo\":{\"domain\":{\"x\":[0.0,1.0],\"y\":[0.0,1.0]},\"center\":{}},\"coloraxis\":{\"colorbar\":{\"title\":{\"text\":\"gni\"}},\"colorscale\":[[0.0,\"#0d0887\"],[0.1111111111111111,\"#46039f\"],[0.2222222222222222,\"#7201a8\"],[0.3333333333333333,\"#9c179e\"],[0.4444444444444444,\"#bd3786\"],[0.5555555555555556,\"#d8576b\"],[0.6666666666666666,\"#ed7953\"],[0.7777777777777778,\"#fb9f3a\"],[0.8888888888888888,\"#fdca26\"],[1.0,\"#f0f921\"]]},\"legend\":{\"tracegroupgap\":0},\"title\":{\"text\":\"GNI of countries throughout the years\"},\"updatemenus\":[{\"buttons\":[{\"args\":[null,{\"frame\":{\"duration\":500,\"redraw\":true},\"mode\":\"immediate\",\"fromcurrent\":true,\"transition\":{\"duration\":500,\"easing\":\"linear\"}}],\"label\":\"&#9654;\",\"method\":\"animate\"},{\"args\":[[null],{\"frame\":{\"duration\":0,\"redraw\":true},\"mode\":\"immediate\",\"fromcurrent\":true,\"transition\":{\"duration\":0,\"easing\":\"linear\"}}],\"label\":\"&#9724;\",\"method\":\"animate\"}],\"direction\":\"left\",\"pad\":{\"r\":10,\"t\":70},\"showactive\":false,\"type\":\"buttons\",\"x\":0.1,\"xanchor\":\"right\",\"y\":0,\"yanchor\":\"top\"}],\"sliders\":[{\"active\":0,\"currentvalue\":{\"prefix\":\"Year=\"},\"len\":0.9,\"pad\":{\"b\":10,\"t\":60},\"steps\":[{\"args\":[[\"1999\"],{\"frame\":{\"duration\":0,\"redraw\":true},\"mode\":\"immediate\",\"fromcurrent\":true,\"transition\":{\"duration\":0,\"easing\":\"linear\"}}],\"label\":\"1999\",\"method\":\"animate\"},{\"args\":[[\"2000\"],{\"frame\":{\"duration\":0,\"redraw\":true},\"mode\":\"immediate\",\"fromcurrent\":true,\"transition\":{\"duration\":0,\"easing\":\"linear\"}}],\"label\":\"2000\",\"method\":\"animate\"},{\"args\":[[\"2001\"],{\"frame\":{\"duration\":0,\"redraw\":true},\"mode\":\"immediate\",\"fromcurrent\":true,\"transition\":{\"duration\":0,\"easing\":\"linear\"}}],\"label\":\"2001\",\"method\":\"animate\"},{\"args\":[[\"2002\"],{\"frame\":{\"duration\":0,\"redraw\":true},\"mode\":\"immediate\",\"fromcurrent\":true,\"transition\":{\"duration\":0,\"easing\":\"linear\"}}],\"label\":\"2002\",\"method\":\"animate\"},{\"args\":[[\"2003\"],{\"frame\":{\"duration\":0,\"redraw\":true},\"mode\":\"immediate\",\"fromcurrent\":true,\"transition\":{\"duration\":0,\"easing\":\"linear\"}}],\"label\":\"2003\",\"method\":\"animate\"},{\"args\":[[\"2004\"],{\"frame\":{\"duration\":0,\"redraw\":true},\"mode\":\"immediate\",\"fromcurrent\":true,\"transition\":{\"duration\":0,\"easing\":\"linear\"}}],\"label\":\"2004\",\"method\":\"animate\"},{\"args\":[[\"2005\"],{\"frame\":{\"duration\":0,\"redraw\":true},\"mode\":\"immediate\",\"fromcurrent\":true,\"transition\":{\"duration\":0,\"easing\":\"linear\"}}],\"label\":\"2005\",\"method\":\"animate\"},{\"args\":[[\"2006\"],{\"frame\":{\"duration\":0,\"redraw\":true},\"mode\":\"immediate\",\"fromcurrent\":true,\"transition\":{\"duration\":0,\"easing\":\"linear\"}}],\"label\":\"2006\",\"method\":\"animate\"},{\"args\":[[\"2007\"],{\"frame\":{\"duration\":0,\"redraw\":true},\"mode\":\"immediate\",\"fromcurrent\":true,\"transition\":{\"duration\":0,\"easing\":\"linear\"}}],\"label\":\"2007\",\"method\":\"animate\"},{\"args\":[[\"2008\"],{\"frame\":{\"duration\":0,\"redraw\":true},\"mode\":\"immediate\",\"fromcurrent\":true,\"transition\":{\"duration\":0,\"easing\":\"linear\"}}],\"label\":\"2008\",\"method\":\"animate\"},{\"args\":[[\"2009\"],{\"frame\":{\"duration\":0,\"redraw\":true},\"mode\":\"immediate\",\"fromcurrent\":true,\"transition\":{\"duration\":0,\"easing\":\"linear\"}}],\"label\":\"2009\",\"method\":\"animate\"},{\"args\":[[\"2010\"],{\"frame\":{\"duration\":0,\"redraw\":true},\"mode\":\"immediate\",\"fromcurrent\":true,\"transition\":{\"duration\":0,\"easing\":\"linear\"}}],\"label\":\"2010\",\"method\":\"animate\"},{\"args\":[[\"2011\"],{\"frame\":{\"duration\":0,\"redraw\":true},\"mode\":\"immediate\",\"fromcurrent\":true,\"transition\":{\"duration\":0,\"easing\":\"linear\"}}],\"label\":\"2011\",\"method\":\"animate\"},{\"args\":[[\"2012\"],{\"frame\":{\"duration\":0,\"redraw\":true},\"mode\":\"immediate\",\"fromcurrent\":true,\"transition\":{\"duration\":0,\"easing\":\"linear\"}}],\"label\":\"2012\",\"method\":\"animate\"},{\"args\":[[\"2013\"],{\"frame\":{\"duration\":0,\"redraw\":true},\"mode\":\"immediate\",\"fromcurrent\":true,\"transition\":{\"duration\":0,\"easing\":\"linear\"}}],\"label\":\"2013\",\"method\":\"animate\"},{\"args\":[[\"2014\"],{\"frame\":{\"duration\":0,\"redraw\":true},\"mode\":\"immediate\",\"fromcurrent\":true,\"transition\":{\"duration\":0,\"easing\":\"linear\"}}],\"label\":\"2014\",\"method\":\"animate\"},{\"args\":[[\"2015\"],{\"frame\":{\"duration\":0,\"redraw\":true},\"mode\":\"immediate\",\"fromcurrent\":true,\"transition\":{\"duration\":0,\"easing\":\"linear\"}}],\"label\":\"2015\",\"method\":\"animate\"},{\"args\":[[\"2016\"],{\"frame\":{\"duration\":0,\"redraw\":true},\"mode\":\"immediate\",\"fromcurrent\":true,\"transition\":{\"duration\":0,\"easing\":\"linear\"}}],\"label\":\"2016\",\"method\":\"animate\"},{\"args\":[[\"2017\"],{\"frame\":{\"duration\":0,\"redraw\":true},\"mode\":\"immediate\",\"fromcurrent\":true,\"transition\":{\"duration\":0,\"easing\":\"linear\"}}],\"label\":\"2017\",\"method\":\"animate\"},{\"args\":[[\"2018\"],{\"frame\":{\"duration\":0,\"redraw\":true},\"mode\":\"immediate\",\"fromcurrent\":true,\"transition\":{\"duration\":0,\"easing\":\"linear\"}}],\"label\":\"2018\",\"method\":\"animate\"},{\"args\":[[\"2019\"],{\"frame\":{\"duration\":0,\"redraw\":true},\"mode\":\"immediate\",\"fromcurrent\":true,\"transition\":{\"duration\":0,\"easing\":\"linear\"}}],\"label\":\"2019\",\"method\":\"animate\"}],\"x\":0.1,\"xanchor\":\"left\",\"y\":0,\"yanchor\":\"top\"}],\"transition\":{\"duration\":10000}},                        {\"responsive\": true}                    ).then(function(){\n",
       "                            Plotly.addFrames('cc818d98-d19d-4503-af8a-9a83e575733b', [{\"data\":[{\"coloraxis\":\"coloraxis\",\"customdata\":[[\"Algeria\",1530.0],[\"Argentina\",7580.0],[\"Australia\",21440.0],[\"Bangladesh\",420.0],[\"Brazil\",4120.0],[\"Canada\",21210.0],[\"China\",860.0],[\"Denmark\",33060.0],[\"Egypt\",1310.0],[\"France\",25420.0],[\"Greece\",null],[\"India\",440.0],[\"Indonesia\",570.0],[\"Iran\",1740.0],[\"Japan\",34320.0],[\"Mexico\",5510.0],[\"Morocco\",1410.0],[\"New Zealand\",15040.0],[\"Norway\",35540.0],[\"Peru\",2030.0],[\"Poland\",4440.0],[\"South Africa\",3480.0],[\"United States\",33670.0],[\"World\",5333.583867]],\"geo\":\"geo\",\"hovertemplate\":\"Year=1999<br>Code=%{location}<br>Country Name=%{customdata[0]}<br>gni=%{z}<extra></extra>\",\"locations\":[\"DZA\",\"ARG\",\"AUS\",\"BGD\",\"BRA\",\"CAN\",\"CHN\",\"DNK\",\"EGY\",\"FRA\",\"GRC\",\"IND\",\"IDN\",\"IRN\",\"JPN\",\"MEX\",\"MAR\",\"NZL\",\"NOR\",\"PER\",\"POL\",\"ZAF\",\"USA\",\"OWID_WRL\"],\"name\":\"\",\"z\":[1530.0,7580.0,21440.0,420.0,4120.0,21210.0,860.0,33060.0,1310.0,25420.0,null,440.0,570.0,1740.0,34320.0,5510.0,1410.0,15040.0,35540.0,2030.0,4440.0,3480.0,33670.0,5333.583867],\"type\":\"choropleth\"}],\"name\":\"1999\"},{\"data\":[{\"coloraxis\":\"coloraxis\",\"customdata\":[[\"Algeria\",1590.0],[\"Argentina\",7470.0],[\"Australia\",21130.0],[\"Bangladesh\",440.0],[\"Brazil\",3930.0],[\"Canada\",22620.0],[\"China\",940.0],[\"Denmark\",32580.0],[\"Egypt\",1420.0],[\"France\",24970.0],[\"Greece\",null],[\"India\",440.0],[\"Indonesia\",580.0],[\"Iran\",1760.0],[\"Japan\",36810.0],[\"Mexico\",6210.0],[\"Morocco\",1390.0],[\"New Zealand\",14080.0],[\"Norway\",36540.0],[\"Peru\",1970.0],[\"Poland\",4670.0],[\"South Africa\",3420.0],[\"United States\",35960.0],[\"World\",5520.322295]],\"geo\":\"geo\",\"hovertemplate\":\"Year=2000<br>Code=%{location}<br>Country Name=%{customdata[0]}<br>gni=%{z}<extra></extra>\",\"locations\":[\"DZA\",\"ARG\",\"AUS\",\"BGD\",\"BRA\",\"CAN\",\"CHN\",\"DNK\",\"EGY\",\"FRA\",\"GRC\",\"IND\",\"IDN\",\"IRN\",\"JPN\",\"MEX\",\"MAR\",\"NZL\",\"NOR\",\"PER\",\"POL\",\"ZAF\",\"USA\",\"OWID_WRL\"],\"name\":\"\",\"z\":[1590.0,7470.0,21130.0,440.0,3930.0,22620.0,940.0,32580.0,1420.0,24970.0,null,440.0,580.0,1760.0,36810.0,6210.0,1390.0,14080.0,36540.0,1970.0,4670.0,3420.0,35960.0,5520.322295],\"type\":\"choropleth\"}],\"name\":\"2000\"},{\"data\":[{\"coloraxis\":\"coloraxis\",\"customdata\":[[\"Algeria\",1670.0],[\"Argentina\",7000.0],[\"Australia\",20160.0],[\"Bangladesh\",440.0],[\"Brazil\",3350.0],[\"Canada\",23030.0],[\"China\",1010.0],[\"Denmark\",31410.0],[\"Egypt\",1430.0],[\"France\",23840.0],[\"Greece\",null],[\"India\",450.0],[\"Indonesia\",720.0],[\"Iran\",1790.0],[\"Japan\",37380.0],[\"Mexico\",6740.0],[\"Morocco\",1400.0],[\"New Zealand\",13810.0],[\"Norway\",38220.0],[\"Peru\",1900.0],[\"Poland\",4710.0],[\"South Africa\",3190.0],[\"United States\",36720.0],[\"World\",5498.241909]],\"geo\":\"geo\",\"hovertemplate\":\"Year=2001<br>Code=%{location}<br>Country Name=%{customdata[0]}<br>gni=%{z}<extra></extra>\",\"locations\":[\"DZA\",\"ARG\",\"AUS\",\"BGD\",\"BRA\",\"CAN\",\"CHN\",\"DNK\",\"EGY\",\"FRA\",\"GRC\",\"IND\",\"IDN\",\"IRN\",\"JPN\",\"MEX\",\"MAR\",\"NZL\",\"NOR\",\"PER\",\"POL\",\"ZAF\",\"USA\",\"OWID_WRL\"],\"name\":\"\",\"z\":[1670.0,7000.0,20160.0,440.0,3350.0,23030.0,1010.0,31410.0,1430.0,23840.0,null,450.0,720.0,1790.0,37380.0,6740.0,1400.0,13810.0,38220.0,1900.0,4710.0,3190.0,36720.0,5498.241909],\"type\":\"choropleth\"}],\"name\":\"2001\"},{\"data\":[{\"coloraxis\":\"coloraxis\",\"customdata\":[[\"Algeria\",1730.0],[\"Argentina\",4040.0],[\"Australia\",20030.0],[\"Bangladesh\",440.0],[\"Brazil\",3100.0],[\"Canada\",23610.0],[\"China\",1110.0],[\"Denmark\",30850.0],[\"Egypt\",1330.0],[\"France\",23090.0],[\"Greece\",null],[\"India\",460.0],[\"Indonesia\",790.0],[\"Iran\",1880.0],[\"Japan\",35360.0],[\"Mexico\",7100.0],[\"Morocco\",1370.0],[\"New Zealand\",14170.0],[\"Norway\",39890.0],[\"Peru\",1960.0],[\"Poland\",4900.0],[\"South Africa\",2990.0],[\"United States\",37310.0],[\"World\",5454.419028]],\"geo\":\"geo\",\"hovertemplate\":\"Year=2002<br>Code=%{location}<br>Country Name=%{customdata[0]}<br>gni=%{z}<extra></extra>\",\"locations\":[\"DZA\",\"ARG\",\"AUS\",\"BGD\",\"BRA\",\"CAN\",\"CHN\",\"DNK\",\"EGY\",\"FRA\",\"GRC\",\"IND\",\"IDN\",\"IRN\",\"JPN\",\"MEX\",\"MAR\",\"NZL\",\"NOR\",\"PER\",\"POL\",\"ZAF\",\"USA\",\"OWID_WRL\"],\"name\":\"\",\"z\":[1730.0,4040.0,20030.0,440.0,3100.0,23610.0,1110.0,30850.0,1330.0,23090.0,null,460.0,790.0,1880.0,35360.0,7100.0,1370.0,14170.0,39890.0,1960.0,4900.0,2990.0,37310.0,5454.419028],\"type\":\"choropleth\"}],\"name\":\"2002\"},{\"data\":[{\"coloraxis\":\"coloraxis\",\"customdata\":[[\"Algeria\",1930.0],[\"Argentina\",3650.0],[\"Australia\",21170.0],[\"Bangladesh\",460.0],[\"Brazil\",2990.0],[\"Canada\",25860.0],[\"China\",1280.0],[\"Denmark\",34750.0],[\"Egypt\",1240.0],[\"France\",25930.0],[\"Greece\",null],[\"India\",520.0],[\"Indonesia\",900.0],[\"Iran\",2200.0],[\"Japan\",35660.0],[\"Mexico\",7360.0],[\"Morocco\",1540.0],[\"New Zealand\",16960.0],[\"Norway\",44750.0],[\"Peru\",2080.0],[\"Poland\",5500.0],[\"South Africa\",3280.0],[\"United States\",39780.0],[\"World\",5854.965938]],\"geo\":\"geo\",\"hovertemplate\":\"Year=2003<br>Code=%{location}<br>Country Name=%{customdata[0]}<br>gni=%{z}<extra></extra>\",\"locations\":[\"DZA\",\"ARG\",\"AUS\",\"BGD\",\"BRA\",\"CAN\",\"CHN\",\"DNK\",\"EGY\",\"FRA\",\"GRC\",\"IND\",\"IDN\",\"IRN\",\"JPN\",\"MEX\",\"MAR\",\"NZL\",\"NOR\",\"PER\",\"POL\",\"ZAF\",\"USA\",\"OWID_WRL\"],\"name\":\"\",\"z\":[1930.0,3650.0,21170.0,460.0,2990.0,25860.0,1280.0,34750.0,1240.0,25930.0,null,520.0,900.0,2200.0,35660.0,7360.0,1540.0,16960.0,44750.0,2080.0,5500.0,3280.0,39780.0,5854.965938],\"type\":\"choropleth\"}],\"name\":\"2003\"},{\"data\":[{\"coloraxis\":\"coloraxis\",\"customdata\":[[\"Algeria\",2250.0],[\"Argentina\",3370.0],[\"Australia\",25570.0],[\"Bangladesh\",510.0],[\"Brazil\",3350.0],[\"Canada\",29900.0],[\"China\",1510.0],[\"Denmark\",42640.0],[\"Egypt\",1200.0],[\"France\",31360.0],[\"Greece\",null],[\"India\",610.0],[\"Indonesia\",1080.0],[\"Iran\",2520.0],[\"Japan\",39000.0],[\"Mexico\",7820.0],[\"Morocco\",1830.0],[\"New Zealand\",21500.0],[\"Norway\",54140.0],[\"Peru\",2280.0],[\"Poland\",6250.0],[\"South Africa\",4180.0],[\"United States\",43520.0],[\"World\",6672.135502]],\"geo\":\"geo\",\"hovertemplate\":\"Year=2004<br>Code=%{location}<br>Country Name=%{customdata[0]}<br>gni=%{z}<extra></extra>\",\"locations\":[\"DZA\",\"ARG\",\"AUS\",\"BGD\",\"BRA\",\"CAN\",\"CHN\",\"DNK\",\"EGY\",\"FRA\",\"GRC\",\"IND\",\"IDN\",\"IRN\",\"JPN\",\"MEX\",\"MAR\",\"NZL\",\"NOR\",\"PER\",\"POL\",\"ZAF\",\"USA\",\"OWID_WRL\"],\"name\":\"\",\"z\":[2250.0,3370.0,25570.0,510.0,3350.0,29900.0,1510.0,42640.0,1200.0,31360.0,null,610.0,1080.0,2520.0,39000.0,7820.0,1830.0,21500.0,54140.0,2280.0,6250.0,4180.0,43520.0,6672.135502],\"type\":\"choropleth\"}],\"name\":\"2004\"},{\"data\":[{\"coloraxis\":\"coloraxis\",\"customdata\":[[\"Algeria\",2710.0],[\"Argentina\",4260.0],[\"Australia\",30390.0],[\"Bangladesh\",550.0],[\"Brazil\",4000.0],[\"Canada\",34810.0],[\"China\",1760.0],[\"Denmark\",49610.0],[\"Egypt\",1220.0],[\"France\",35870.0],[\"Greece\",null],[\"India\",710.0],[\"Indonesia\",1220.0],[\"Iran\",2960.0],[\"Japan\",41280.0],[\"Mexico\",8050.0],[\"Morocco\",2070.0],[\"New Zealand\",25440.0],[\"Norway\",63830.0],[\"Peru\",2540.0],[\"Poland\",7340.0],[\"South Africa\",5610.0],[\"United States\",46180.0],[\"World\",7391.728076]],\"geo\":\"geo\",\"hovertemplate\":\"Year=2005<br>Code=%{location}<br>Country Name=%{customdata[0]}<br>gni=%{z}<extra></extra>\",\"locations\":[\"DZA\",\"ARG\",\"AUS\",\"BGD\",\"BRA\",\"CAN\",\"CHN\",\"DNK\",\"EGY\",\"FRA\",\"GRC\",\"IND\",\"IDN\",\"IRN\",\"JPN\",\"MEX\",\"MAR\",\"NZL\",\"NOR\",\"PER\",\"POL\",\"ZAF\",\"USA\",\"OWID_WRL\"],\"name\":\"\",\"z\":[2710.0,4260.0,30390.0,550.0,4000.0,34810.0,1760.0,49610.0,1220.0,35870.0,null,710.0,1220.0,2960.0,41280.0,8050.0,2070.0,25440.0,63830.0,2540.0,7340.0,5610.0,46180.0,7391.728076],\"type\":\"choropleth\"}],\"name\":\"2005\"},{\"data\":[{\"coloraxis\":\"coloraxis\",\"customdata\":[[\"Algeria\",3110.0],[\"Argentina\",5480.0],[\"Australia\",34150.0],[\"Bangladesh\",570.0],[\"Brazil\",4850.0],[\"Canada\",38510.0],[\"China\",2060.0],[\"Denmark\",53540.0],[\"Egypt\",1320.0],[\"France\",37850.0],[\"Greece\",24550.0],[\"India\",790.0],[\"Indonesia\",1380.0],[\"Iran\",3480.0],[\"Japan\",40590.0],[\"Mexico\",8690.0],[\"Morocco\",2240.0],[\"New Zealand\",26400.0],[\"Norway\",70020.0],[\"Peru\",2810.0],[\"Poland\",8460.0],[\"South Africa\",6310.0],[\"United States\",47850.0],[\"World\",7887.103333]],\"geo\":\"geo\",\"hovertemplate\":\"Year=2006<br>Code=%{location}<br>Country Name=%{customdata[0]}<br>gni=%{z}<extra></extra>\",\"locations\":[\"DZA\",\"ARG\",\"AUS\",\"BGD\",\"BRA\",\"CAN\",\"CHN\",\"DNK\",\"EGY\",\"FRA\",\"GRC\",\"IND\",\"IDN\",\"IRN\",\"JPN\",\"MEX\",\"MAR\",\"NZL\",\"NOR\",\"PER\",\"POL\",\"ZAF\",\"USA\",\"OWID_WRL\"],\"name\":\"\",\"z\":[3110.0,5480.0,34150.0,570.0,4850.0,38510.0,2060.0,53540.0,1320.0,37850.0,24550.0,790.0,1380.0,3480.0,40590.0,8690.0,2240.0,26400.0,70020.0,2810.0,8460.0,6310.0,47850.0,7887.103333],\"type\":\"choropleth\"}],\"name\":\"2006\"},{\"data\":[{\"coloraxis\":\"coloraxis\",\"customdata\":[[\"Algeria\",3600.0],[\"Argentina\",6510.0],[\"Australia\",37340.0],[\"Bangladesh\",610.0],[\"Brazil\",6190.0],[\"Canada\",43090.0],[\"China\",2510.0],[\"Denmark\",55740.0],[\"Egypt\",1530.0],[\"France\",40130.0],[\"Greece\",26350.0],[\"India\",910.0],[\"Indonesia\",1600.0],[\"Iran\",4270.0],[\"Japan\",39310.0],[\"Mexico\",9250.0],[\"Morocco\",2380.0],[\"New Zealand\",28150.0],[\"Norway\",78470.0],[\"Peru\",3210.0],[\"Poland\",9940.0],[\"South Africa\",6630.0],[\"United States\",48520.0],[\"World\",8407.423636]],\"geo\":\"geo\",\"hovertemplate\":\"Year=2007<br>Code=%{location}<br>Country Name=%{customdata[0]}<br>gni=%{z}<extra></extra>\",\"locations\":[\"DZA\",\"ARG\",\"AUS\",\"BGD\",\"BRA\",\"CAN\",\"CHN\",\"DNK\",\"EGY\",\"FRA\",\"GRC\",\"IND\",\"IDN\",\"IRN\",\"JPN\",\"MEX\",\"MAR\",\"NZL\",\"NOR\",\"PER\",\"POL\",\"ZAF\",\"USA\",\"OWID_WRL\"],\"name\":\"\",\"z\":[3600.0,6510.0,37340.0,610.0,6190.0,43090.0,2510.0,55740.0,1530.0,40130.0,26350.0,910.0,1600.0,4270.0,39310.0,9250.0,2380.0,28150.0,78470.0,3210.0,9940.0,6630.0,48520.0,8407.423636],\"type\":\"choropleth\"}],\"name\":\"2007\"},{\"data\":[{\"coloraxis\":\"coloraxis\",\"customdata\":[[\"Algeria\",4210.0],[\"Argentina\",7670.0],[\"Australia\",42360.0],[\"Bangladesh\",660.0],[\"Brazil\",7620.0],[\"Canada\",45650.0],[\"China\",3100.0],[\"Denmark\",60390.0],[\"Egypt\",1840.0],[\"France\",43460.0],[\"Greece\",28660.0],[\"India\",1000.0],[\"Indonesia\",1940.0],[\"Iran\",4970.0],[\"Japan\",39380.0],[\"Mexico\",9780.0],[\"Morocco\",2700.0],[\"New Zealand\",28630.0],[\"Norway\",87470.0],[\"Peru\",3790.0],[\"Poland\",11980.0],[\"South Africa\",6660.0],[\"United States\",49090.0],[\"World\",9004.979089]],\"geo\":\"geo\",\"hovertemplate\":\"Year=2008<br>Code=%{location}<br>Country Name=%{customdata[0]}<br>gni=%{z}<extra></extra>\",\"locations\":[\"DZA\",\"ARG\",\"AUS\",\"BGD\",\"BRA\",\"CAN\",\"CHN\",\"DNK\",\"EGY\",\"FRA\",\"GRC\",\"IND\",\"IDN\",\"IRN\",\"JPN\",\"MEX\",\"MAR\",\"NZL\",\"NOR\",\"PER\",\"POL\",\"ZAF\",\"USA\",\"OWID_WRL\"],\"name\":\"\",\"z\":[4210.0,7670.0,42360.0,660.0,7620.0,45650.0,3100.0,60390.0,1840.0,43460.0,28660.0,1000.0,1940.0,4970.0,39380.0,9780.0,2700.0,28630.0,87470.0,3790.0,11980.0,6660.0,49090.0,9004.979089],\"type\":\"choropleth\"}],\"name\":\"2008\"},{\"data\":[{\"coloraxis\":\"coloraxis\",\"customdata\":[[\"Algeria\",4290.0],[\"Argentina\",7790.0],[\"Australia\",44050.0],[\"Bangladesh\",730.0],[\"Brazil\",8320.0],[\"Canada\",43230.0],[\"China\",3680.0],[\"Denmark\",60090.0],[\"Egypt\",2120.0],[\"France\",43930.0],[\"Greece\",29330.0],[\"India\",1120.0],[\"Indonesia\",2150.0],[\"Iran\",5560.0],[\"Japan\",39230.0],[\"Mexico\",8820.0],[\"Morocco\",2880.0],[\"New Zealand\",29690.0],[\"Norway\",87830.0],[\"Peru\",3970.0],[\"Poland\",12500.0],[\"South Africa\",6510.0],[\"United States\",47830.0],[\"World\",9036.109062]],\"geo\":\"geo\",\"hovertemplate\":\"Year=2009<br>Code=%{location}<br>Country Name=%{customdata[0]}<br>gni=%{z}<extra></extra>\",\"locations\":[\"DZA\",\"ARG\",\"AUS\",\"BGD\",\"BRA\",\"CAN\",\"CHN\",\"DNK\",\"EGY\",\"FRA\",\"GRC\",\"IND\",\"IDN\",\"IRN\",\"JPN\",\"MEX\",\"MAR\",\"NZL\",\"NOR\",\"PER\",\"POL\",\"ZAF\",\"USA\",\"OWID_WRL\"],\"name\":\"\",\"z\":[4290.0,7790.0,44050.0,730.0,8320.0,43230.0,3680.0,60090.0,2120.0,43930.0,29330.0,1120.0,2150.0,5560.0,39230.0,8820.0,2880.0,29690.0,87830.0,3970.0,12500.0,6510.0,47830.0,9036.109062],\"type\":\"choropleth\"}],\"name\":\"2009\"},{\"data\":[{\"coloraxis\":\"coloraxis\",\"customdata\":[[\"Algeria\",4470.0],[\"Argentina\",9270.0],[\"Australia\",46690.0],[\"Bangladesh\",800.0],[\"Brazil\",9650.0],[\"Canada\",44490.0],[\"China\",4340.0],[\"Denmark\",61220.0],[\"Egypt\",2370.0],[\"France\",43850.0],[\"Greece\",27530.0],[\"India\",1220.0],[\"Indonesia\",2530.0],[\"Iran\",6250.0],[\"Japan\",43910.0],[\"Mexico\",9040.0],[\"Morocco\",2930.0],[\"New Zealand\",29680.0],[\"Norway\",88490.0],[\"Peru\",4410.0],[\"Poland\",12740.0],[\"South Africa\",6880.0],[\"United States\",49140.0],[\"World\",9470.278851]],\"geo\":\"geo\",\"hovertemplate\":\"Year=2010<br>Code=%{location}<br>Country Name=%{customdata[0]}<br>gni=%{z}<extra></extra>\",\"locations\":[\"DZA\",\"ARG\",\"AUS\",\"BGD\",\"BRA\",\"CAN\",\"CHN\",\"DNK\",\"EGY\",\"FRA\",\"GRC\",\"IND\",\"IDN\",\"IRN\",\"JPN\",\"MEX\",\"MAR\",\"NZL\",\"NOR\",\"PER\",\"POL\",\"ZAF\",\"USA\",\"OWID_WRL\"],\"name\":\"\",\"z\":[4470.0,9270.0,46690.0,800.0,9650.0,44490.0,4340.0,61220.0,2370.0,43850.0,27530.0,1220.0,2530.0,6250.0,43910.0,9040.0,2930.0,29680.0,88490.0,4410.0,12740.0,6880.0,49140.0,9470.278851],\"type\":\"choropleth\"}],\"name\":\"2010\"},{\"data\":[{\"coloraxis\":\"coloraxis\",\"customdata\":[[\"Algeria\",4600.0],[\"Argentina\",10710.0],[\"Australia\",50380.0],[\"Bangladesh\",890.0],[\"Brazil\",11080.0],[\"Canada\",47190.0],[\"China\",5040.0],[\"Denmark\",61990.0],[\"Egypt\",2560.0],[\"France\",44350.0],[\"Greece\",24510.0],[\"India\",1360.0],[\"Indonesia\",3010.0],[\"Iran\",6870.0],[\"Japan\",47470.0],[\"Mexico\",9310.0],[\"Morocco\",3000.0],[\"New Zealand\",32230.0],[\"Norway\",90330.0],[\"Peru\",4970.0],[\"Poland\",12890.0],[\"South Africa\",7760.0],[\"United States\",50630.0],[\"World\",9941.134658]],\"geo\":\"geo\",\"hovertemplate\":\"Year=2011<br>Code=%{location}<br>Country Name=%{customdata[0]}<br>gni=%{z}<extra></extra>\",\"locations\":[\"DZA\",\"ARG\",\"AUS\",\"BGD\",\"BRA\",\"CAN\",\"CHN\",\"DNK\",\"EGY\",\"FRA\",\"GRC\",\"IND\",\"IDN\",\"IRN\",\"JPN\",\"MEX\",\"MAR\",\"NZL\",\"NOR\",\"PER\",\"POL\",\"ZAF\",\"USA\",\"OWID_WRL\"],\"name\":\"\",\"z\":[4600.0,10710.0,50380.0,890.0,11080.0,47190.0,5040.0,61990.0,2560.0,44350.0,24510.0,1360.0,3010.0,6870.0,47470.0,9310.0,3000.0,32230.0,90330.0,4970.0,12890.0,7760.0,50630.0,9941.134658],\"type\":\"choropleth\"}],\"name\":\"2011\"},{\"data\":[{\"coloraxis\":\"coloraxis\",\"customdata\":[[\"Algeria\",5200.0],[\"Argentina\",11870.0],[\"Australia\",60260.0],[\"Bangladesh\",970.0],[\"Brazil\",12310.0],[\"Canada\",51080.0],[\"China\",5910.0],[\"Denmark\",61650.0],[\"Egypt\",2840.0],[\"France\",43380.0],[\"Greece\",23170.0],[\"India\",1480.0],[\"Indonesia\",3580.0],[\"Iran\",7130.0],[\"Japan\",50060.0],[\"Mexico\",10050.0],[\"Morocco\",2980.0],[\"New Zealand\",36700.0],[\"Norway\",99110.0],[\"Peru\",5790.0],[\"Poland\",13160.0],[\"South Africa\",8370.0],[\"United States\",52780.0],[\"World\",10522.58942]],\"geo\":\"geo\",\"hovertemplate\":\"Year=2012<br>Code=%{location}<br>Country Name=%{customdata[0]}<br>gni=%{z}<extra></extra>\",\"locations\":[\"DZA\",\"ARG\",\"AUS\",\"BGD\",\"BRA\",\"CAN\",\"CHN\",\"DNK\",\"EGY\",\"FRA\",\"GRC\",\"IND\",\"IDN\",\"IRN\",\"JPN\",\"MEX\",\"MAR\",\"NZL\",\"NOR\",\"PER\",\"POL\",\"ZAF\",\"USA\",\"OWID_WRL\"],\"name\":\"\",\"z\":[5200.0,11870.0,60260.0,970.0,12310.0,51080.0,5910.0,61650.0,2840.0,43380.0,23170.0,1480.0,3580.0,7130.0,50060.0,10050.0,2980.0,36700.0,99110.0,5790.0,13160.0,8370.0,52780.0,10522.58942],\"type\":\"choropleth\"}],\"name\":\"2012\"},{\"data\":[{\"coloraxis\":\"coloraxis\",\"customdata\":[[\"Algeria\",5520.0],[\"Argentina\",12840.0],[\"Australia\",66050.0],[\"Bangladesh\",1040.0],[\"Brazil\",12790.0],[\"Canada\",52800.0],[\"China\",6740.0],[\"Denmark\",63200.0],[\"Egypt\",3030.0],[\"France\",43780.0],[\"Greece\",22410.0],[\"India\",1520.0],[\"Indonesia\",3730.0],[\"Iran\",6990.0],[\"Japan\",48850.0],[\"Mexico\",10270.0],[\"Morocco\",3090.0],[\"New Zealand\",39930.0],[\"Norway\",104190.0],[\"Peru\",6420.0],[\"Poland\",13390.0],[\"South Africa\",8070.0],[\"United States\",53980.0],[\"World\",10894.35943]],\"geo\":\"geo\",\"hovertemplate\":\"Year=2013<br>Code=%{location}<br>Country Name=%{customdata[0]}<br>gni=%{z}<extra></extra>\",\"locations\":[\"DZA\",\"ARG\",\"AUS\",\"BGD\",\"BRA\",\"CAN\",\"CHN\",\"DNK\",\"EGY\",\"FRA\",\"GRC\",\"IND\",\"IDN\",\"IRN\",\"JPN\",\"MEX\",\"MAR\",\"NZL\",\"NOR\",\"PER\",\"POL\",\"ZAF\",\"USA\",\"OWID_WRL\"],\"name\":\"\",\"z\":[5520.0,12840.0,66050.0,1040.0,12790.0,52800.0,6740.0,63200.0,3030.0,43780.0,22410.0,1520.0,3730.0,6990.0,48850.0,10270.0,3090.0,39930.0,104190.0,6420.0,13390.0,8070.0,53980.0,10894.35943],\"type\":\"choropleth\"}],\"name\":\"2013\"},{\"data\":[{\"coloraxis\":\"coloraxis\",\"customdata\":[[\"Algeria\",5490.0],[\"Argentina\",12330.0],[\"Australia\",65180.0],[\"Bangladesh\",1110.0],[\"Brazil\",12120.0],[\"Canada\",52200.0],[\"China\",7470.0],[\"Denmark\",63670.0],[\"Egypt\",3230.0],[\"France\",43320.0],[\"Greece\",21990.0],[\"India\",1560.0],[\"Indonesia\",3620.0],[\"Iran\",6500.0],[\"Japan\",44440.0],[\"Mexico\",10500.0],[\"Morocco\",3060.0],[\"New Zealand\",41680.0],[\"Norway\",104370.0],[\"Peru\",6530.0],[\"Poland\",13560.0],[\"South Africa\",7370.0],[\"United States\",55800.0],[\"World\",11005.71578]],\"geo\":\"geo\",\"hovertemplate\":\"Year=2014<br>Code=%{location}<br>Country Name=%{customdata[0]}<br>gni=%{z}<extra></extra>\",\"locations\":[\"DZA\",\"ARG\",\"AUS\",\"BGD\",\"BRA\",\"CAN\",\"CHN\",\"DNK\",\"EGY\",\"FRA\",\"GRC\",\"IND\",\"IDN\",\"IRN\",\"JPN\",\"MEX\",\"MAR\",\"NZL\",\"NOR\",\"PER\",\"POL\",\"ZAF\",\"USA\",\"OWID_WRL\"],\"name\":\"\",\"z\":[5490.0,12330.0,65180.0,1110.0,12120.0,52200.0,7470.0,63670.0,3230.0,43320.0,21990.0,1560.0,3620.0,6500.0,44440.0,10500.0,3060.0,41680.0,104370.0,6530.0,13560.0,7370.0,55800.0,11005.71578],\"type\":\"choropleth\"}],\"name\":\"2014\"},{\"data\":[{\"coloraxis\":\"coloraxis\",\"customdata\":[[\"Algeria\",4850.0],[\"Argentina\",12590.0],[\"Australia\",60490.0],[\"Bangladesh\",1220.0],[\"Brazil\",10190.0],[\"Canada\",47590.0],[\"China\",7890.0],[\"Denmark\",60510.0],[\"Egypt\",3340.0],[\"France\",41100.0],[\"Greece\",20170.0],[\"India\",1600.0],[\"Indonesia\",3430.0],[\"Iran\",5370.0],[\"Japan\",39380.0],[\"Mexico\",10160.0],[\"Morocco\",3020.0],[\"New Zealand\",40650.0],[\"Norway\",92910.0],[\"Peru\",6340.0],[\"Poland\",13310.0],[\"South Africa\",6610.0],[\"United States\",56640.0],[\"World\",10650.36429]],\"geo\":\"geo\",\"hovertemplate\":\"Year=2015<br>Code=%{location}<br>Country Name=%{customdata[0]}<br>gni=%{z}<extra></extra>\",\"locations\":[\"DZA\",\"ARG\",\"AUS\",\"BGD\",\"BRA\",\"CAN\",\"CHN\",\"DNK\",\"EGY\",\"FRA\",\"GRC\",\"IND\",\"IDN\",\"IRN\",\"JPN\",\"MEX\",\"MAR\",\"NZL\",\"NOR\",\"PER\",\"POL\",\"ZAF\",\"USA\",\"OWID_WRL\"],\"name\":\"\",\"z\":[4850.0,12590.0,60490.0,1220.0,10190.0,47590.0,7890.0,60510.0,3340.0,41100.0,20170.0,1600.0,3430.0,5370.0,39380.0,10160.0,3020.0,40650.0,92910.0,6340.0,13310.0,6610.0,56640.0,10650.36429],\"type\":\"choropleth\"}],\"name\":\"2015\"},{\"data\":[{\"coloraxis\":\"coloraxis\",\"customdata\":[[\"Algeria\",4370.0],[\"Argentina\",12220.0],[\"Australia\",54090.0],[\"Bangladesh\",1370.0],[\"Brazil\",8920.0],[\"Canada\",43890.0],[\"China\",8210.0],[\"Denmark\",58040.0],[\"Egypt\",3440.0],[\"France\",39070.0],[\"Greece\",18630.0],[\"India\",1680.0],[\"Indonesia\",3400.0],[\"Iran\",5500.0],[\"Japan\",38490.0],[\"Mexico\",9390.0],[\"Morocco\",2880.0],[\"New Zealand\",39440.0],[\"Norway\",81370.0],[\"Peru\",6110.0],[\"Poland\",12720.0],[\"South Africa\",5990.0],[\"United States\",57130.0],[\"World\",10391.86198]],\"geo\":\"geo\",\"hovertemplate\":\"Year=2016<br>Code=%{location}<br>Country Name=%{customdata[0]}<br>gni=%{z}<extra></extra>\",\"locations\":[\"DZA\",\"ARG\",\"AUS\",\"BGD\",\"BRA\",\"CAN\",\"CHN\",\"DNK\",\"EGY\",\"FRA\",\"GRC\",\"IND\",\"IDN\",\"IRN\",\"JPN\",\"MEX\",\"MAR\",\"NZL\",\"NOR\",\"PER\",\"POL\",\"ZAF\",\"USA\",\"OWID_WRL\"],\"name\":\"\",\"z\":[4370.0,12220.0,54090.0,1370.0,8920.0,43890.0,8210.0,58040.0,3440.0,39070.0,18630.0,1680.0,3400.0,5500.0,38490.0,9390.0,2880.0,39440.0,81370.0,6110.0,12720.0,5990.0,57130.0,10391.86198],\"type\":\"choropleth\"}],\"name\":\"2016\"},{\"data\":[{\"coloraxis\":\"coloraxis\",\"customdata\":[[\"Algeria\",3950.0],[\"Argentina\",13140.0],[\"Australia\",51480.0],[\"Bangladesh\",1520.0],[\"Brazil\",8700.0],[\"Canada\",42900.0],[\"China\",8670.0],[\"Denmark\",56690.0],[\"Egypt\",3030.0],[\"France\",38270.0],[\"Greece\",17940.0],[\"India\",1820.0],[\"Indonesia\",3530.0],[\"Iran\",5420.0],[\"Japan\",38990.0],[\"Mexico\",8920.0],[\"Morocco\",2880.0],[\"New Zealand\",38910.0],[\"Norway\",75650.0],[\"Peru\",6060.0],[\"Poland\",12730.0],[\"South Africa\",5910.0],[\"United States\",59240.0],[\"World\",10464.82792]],\"geo\":\"geo\",\"hovertemplate\":\"Year=2017<br>Code=%{location}<br>Country Name=%{customdata[0]}<br>gni=%{z}<extra></extra>\",\"locations\":[\"DZA\",\"ARG\",\"AUS\",\"BGD\",\"BRA\",\"CAN\",\"CHN\",\"DNK\",\"EGY\",\"FRA\",\"GRC\",\"IND\",\"IDN\",\"IRN\",\"JPN\",\"MEX\",\"MAR\",\"NZL\",\"NOR\",\"PER\",\"POL\",\"ZAF\",\"USA\",\"OWID_WRL\"],\"name\":\"\",\"z\":[3950.0,13140.0,51480.0,1520.0,8700.0,42900.0,8670.0,56690.0,3030.0,38270.0,17940.0,1820.0,3530.0,5420.0,38990.0,8920.0,2880.0,38910.0,75650.0,6060.0,12730.0,5910.0,59240.0,10464.82792],\"type\":\"choropleth\"}],\"name\":\"2017\"},{\"data\":[{\"coloraxis\":\"coloraxis\",\"customdata\":[[\"Algeria\",3980.0],[\"Argentina\",12430.0],[\"Australia\",53070.0],[\"Bangladesh\",1750.0],[\"Brazil\",9170.0],[\"Canada\",45080.0],[\"China\",9540.0],[\"Denmark\",61260.0],[\"Egypt\",2790.0],[\"France\",41150.0],[\"Greece\",19060.0],[\"India\",2010.0],[\"Indonesia\",3840.0],[\"Iran\",4530.0],[\"Japan\",41850.0],[\"Mexico\",9180.0],[\"Morocco\",3090.0],[\"New Zealand\",41680.0],[\"Norway\",80320.0],[\"Peru\",6470.0],[\"Poland\",14150.0],[\"South Africa\",6340.0],[\"United States\",63490.0],[\"World\",11148.93049]],\"geo\":\"geo\",\"hovertemplate\":\"Year=2018<br>Code=%{location}<br>Country Name=%{customdata[0]}<br>gni=%{z}<extra></extra>\",\"locations\":[\"DZA\",\"ARG\",\"AUS\",\"BGD\",\"BRA\",\"CAN\",\"CHN\",\"DNK\",\"EGY\",\"FRA\",\"GRC\",\"IND\",\"IDN\",\"IRN\",\"JPN\",\"MEX\",\"MAR\",\"NZL\",\"NOR\",\"PER\",\"POL\",\"ZAF\",\"USA\",\"OWID_WRL\"],\"name\":\"\",\"z\":[3980.0,12430.0,53070.0,1750.0,9170.0,45080.0,9540.0,61260.0,2790.0,41150.0,19060.0,2010.0,3840.0,4530.0,41850.0,9180.0,3090.0,41680.0,80320.0,6470.0,14150.0,6340.0,63490.0,11148.93049],\"type\":\"choropleth\"}],\"name\":\"2018\"},{\"data\":[{\"coloraxis\":\"coloraxis\",\"customdata\":[[\"Algeria\",4010.0],[\"Argentina\",11250.0],[\"Australia\",54910.0],[\"Bangladesh\",1930.0],[\"Brazil\",9270.0],[\"Canada\",46550.0],[\"China\",10310.0],[\"Denmark\",63460.0],[\"Egypt\",2690.0],[\"France\",42510.0],[\"Greece\",19650.0],[\"India\",2120.0],[\"Indonesia\",4050.0],[\"Iran\",3640.0],[\"Japan\",42330.0],[\"Mexico\",9470.0],[\"Morocco\",3200.0],[\"New Zealand\",42870.0],[\"Norway\",81640.0],[\"Peru\",6790.0],[\"Poland\",15360.0],[\"South Africa\",6670.0],[\"United States\",65970.0],[\"World\",11552.73278]],\"geo\":\"geo\",\"hovertemplate\":\"Year=2019<br>Code=%{location}<br>Country Name=%{customdata[0]}<br>gni=%{z}<extra></extra>\",\"locations\":[\"DZA\",\"ARG\",\"AUS\",\"BGD\",\"BRA\",\"CAN\",\"CHN\",\"DNK\",\"EGY\",\"FRA\",\"GRC\",\"IND\",\"IDN\",\"IRN\",\"JPN\",\"MEX\",\"MAR\",\"NZL\",\"NOR\",\"PER\",\"POL\",\"ZAF\",\"USA\",\"OWID_WRL\"],\"name\":\"\",\"z\":[4010.0,11250.0,54910.0,1930.0,9270.0,46550.0,10310.0,63460.0,2690.0,42510.0,19650.0,2120.0,4050.0,3640.0,42330.0,9470.0,3200.0,42870.0,81640.0,6790.0,15360.0,6670.0,65970.0,11552.73278],\"type\":\"choropleth\"}],\"name\":\"2019\"}]);\n",
       "                        }).then(function(){\n",
       "                            \n",
       "var gd = document.getElementById('cc818d98-d19d-4503-af8a-9a83e575733b');\n",
       "var x = new MutationObserver(function (mutations, observer) {{\n",
       "        var display = window.getComputedStyle(gd).display;\n",
       "        if (!display || display === 'none') {{\n",
       "            console.log([gd, 'removed!']);\n",
       "            Plotly.purge(gd);\n",
       "            observer.disconnect();\n",
       "        }}\n",
       "}});\n",
       "\n",
       "// Listen for the removal of the full notebook cells\n",
       "var notebookContainer = gd.closest('#notebook-container');\n",
       "if (notebookContainer) {{\n",
       "    x.observe(notebookContainer, {childList: true});\n",
       "}}\n",
       "\n",
       "// Listen for the clearing of the current output cell\n",
       "var outputEl = gd.closest('.output');\n",
       "if (outputEl) {{\n",
       "    x.observe(outputEl, {childList: true});\n",
       "}}\n",
       "\n",
       "                        })                };                });            </script>        </div>"
      ]
     },
     "metadata": {},
     "output_type": "display_data"
    }
   ],
   "source": [
    "#importing gni data\n",
    "df_map= pd.read_csv(\"./gni world map.csv\")\n",
    "\n",
    "#renaming headers\n",
    "header_names2=['Country Name','Code','Year','gni']\n",
    "df_map= pd.read_csv(\"./gni world map.csv\",header=None,skiprows=1,names=header_names2) \n",
    "\n",
    "#excluding luxembourg from the list  as its an outlier and could mess up the scale\n",
    "Countries_gni=['United States','India','Canada','Algeria','Australia','Bangladesh','Brazil','China','Egypt','France','Indonesia','Japan','Morocco','South Africa','World','New Zealand','Mexico','Denmark','Norway','Peru','Argentina','Poland','Greece','Iran']\n",
    "df_map2=df_map[df_map['Country Name'].isin(Countries_gni)] \n",
    "\n",
    "#choosing recent years\n",
    "years_gni=[i for i in range (1999,2020)]\n",
    "df_map2=df_map2[df_map2['Year'].isin(years_gni)]\n",
    "\n",
    "#plotting the gni data on an animated world map\n",
    "fig=px.choropleth(df_map2,locations='Code',color='gni',hover_data=['Country Name','gni'],animation_frame=df_map2['Year'],\n",
    "                  title='GNI of countries throughout the years',\n",
    "                  color_discrete_map=px.colors.sequential.Inferno)\n",
    "fig.update_layout(transition={'duration':10000})\n",
    "fig.show()"
   ]
  },
  {
   "cell_type": "code",
   "execution_count": null,
   "id": "04699303",
   "metadata": {},
   "outputs": [],
   "source": []
  }
 ],
 "metadata": {
  "kernelspec": {
   "display_name": "Python 3 (ipykernel)",
   "language": "python",
   "name": "python3"
  },
  "language_info": {
   "codemirror_mode": {
    "name": "ipython",
    "version": 3
   },
   "file_extension": ".py",
   "mimetype": "text/x-python",
   "name": "python",
   "nbconvert_exporter": "python",
   "pygments_lexer": "ipython3",
   "version": "3.9.7"
  }
 },
 "nbformat": 4,
 "nbformat_minor": 5
}
